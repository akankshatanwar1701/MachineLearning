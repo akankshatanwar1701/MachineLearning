{
 "cells": [
  {
   "cell_type": "markdown",
   "metadata": {},
   "source": [
    "# Pandas\n",
    "\n",
    "   -Dataframe- Special Object to data in tabular form(rows and columns)"
   ]
  },
  {
   "cell_type": "code",
   "execution_count": 1,
   "metadata": {},
   "outputs": [],
   "source": [
    "import pandas as pd\n",
    "import numpy as np"
   ]
  },
  {
   "cell_type": "code",
   "execution_count": 2,
   "metadata": {},
   "outputs": [],
   "source": [
    "#Try to create a data frame\n",
    "\n",
    "user_data={\n",
    "    \"MarksA\":np.random.randint(1,100,5),\n",
    "    \"MarksB\":np.random.randint(50,100,5),\n",
    "    \"MarksC\":np.random.randint(1,100,5),\n",
    "}"
   ]
  },
  {
   "cell_type": "code",
   "execution_count": 3,
   "metadata": {},
   "outputs": [
    {
     "data": {
      "text/plain": [
       "{'MarksA': array([30, 73, 92, 42, 73]),\n",
       " 'MarksB': array([84, 59, 98, 74, 85]),\n",
       " 'MarksC': array([77, 21, 32, 96, 59])}"
      ]
     },
     "execution_count": 3,
     "metadata": {},
     "output_type": "execute_result"
    }
   ],
   "source": [
    "user_data"
   ]
  },
  {
   "cell_type": "code",
   "execution_count": 4,
   "metadata": {},
   "outputs": [
    {
     "data": {
      "text/plain": [
       "array([ 2, 83, 68,  5, 87, 67, 89, 31, 68, 47])"
      ]
     },
     "execution_count": 4,
     "metadata": {},
     "output_type": "execute_result"
    }
   ],
   "source": [
    "np.random.randint(1,100,10) #min marks 1 max marks 100 for 10 students"
   ]
  },
  {
   "cell_type": "code",
   "execution_count": 5,
   "metadata": {},
   "outputs": [
    {
     "name": "stdout",
     "output_type": "stream",
     "text": [
      "   MarksA  MarksB  MarksC\n",
      "0    30.0    84.0    77.0\n",
      "1    73.0    59.0    21.0\n",
      "2    92.0    98.0    32.0\n",
      "3    42.0    74.0    96.0\n",
      "4    73.0    85.0    59.0\n"
     ]
    }
   ],
   "source": [
    "df= pd.DataFrame(user_data, dtype='float32')\n",
    "print(df)"
   ]
  },
  {
   "cell_type": "code",
   "execution_count": 6,
   "metadata": {},
   "outputs": [
    {
     "data": {
      "text/html": [
       "<div>\n",
       "<style scoped>\n",
       "    .dataframe tbody tr th:only-of-type {\n",
       "        vertical-align: middle;\n",
       "    }\n",
       "\n",
       "    .dataframe tbody tr th {\n",
       "        vertical-align: top;\n",
       "    }\n",
       "\n",
       "    .dataframe thead th {\n",
       "        text-align: right;\n",
       "    }\n",
       "</style>\n",
       "<table border=\"1\" class=\"dataframe\">\n",
       "  <thead>\n",
       "    <tr style=\"text-align: right;\">\n",
       "      <th></th>\n",
       "      <th>MarksA</th>\n",
       "      <th>MarksB</th>\n",
       "      <th>MarksC</th>\n",
       "    </tr>\n",
       "  </thead>\n",
       "  <tbody>\n",
       "    <tr>\n",
       "      <td>0</td>\n",
       "      <td>30.0</td>\n",
       "      <td>84.0</td>\n",
       "      <td>77.0</td>\n",
       "    </tr>\n",
       "    <tr>\n",
       "      <td>1</td>\n",
       "      <td>73.0</td>\n",
       "      <td>59.0</td>\n",
       "      <td>21.0</td>\n",
       "    </tr>\n",
       "    <tr>\n",
       "      <td>2</td>\n",
       "      <td>92.0</td>\n",
       "      <td>98.0</td>\n",
       "      <td>32.0</td>\n",
       "    </tr>\n",
       "  </tbody>\n",
       "</table>\n",
       "</div>"
      ],
      "text/plain": [
       "   MarksA  MarksB  MarksC\n",
       "0    30.0    84.0    77.0\n",
       "1    73.0    59.0    21.0\n",
       "2    92.0    98.0    32.0"
      ]
     },
     "execution_count": 6,
     "metadata": {},
     "output_type": "execute_result"
    }
   ],
   "source": [
    "df.head(n=3) #better way n=3 first 3 rows"
   ]
  },
  {
   "cell_type": "code",
   "execution_count": 7,
   "metadata": {},
   "outputs": [
    {
     "data": {
      "text/plain": [
       "Index(['MarksA', 'MarksB', 'MarksC'], dtype='object')"
      ]
     },
     "execution_count": 7,
     "metadata": {},
     "output_type": "execute_result"
    }
   ],
   "source": [
    "df.columns"
   ]
  },
  {
   "cell_type": "code",
   "execution_count": 8,
   "metadata": {},
   "outputs": [],
   "source": [
    "df.to_csv('marks.csv')"
   ]
  },
  {
   "cell_type": "code",
   "execution_count": 9,
   "metadata": {},
   "outputs": [
    {
     "data": {
      "text/html": [
       "<div>\n",
       "<style scoped>\n",
       "    .dataframe tbody tr th:only-of-type {\n",
       "        vertical-align: middle;\n",
       "    }\n",
       "\n",
       "    .dataframe tbody tr th {\n",
       "        vertical-align: top;\n",
       "    }\n",
       "\n",
       "    .dataframe thead th {\n",
       "        text-align: right;\n",
       "    }\n",
       "</style>\n",
       "<table border=\"1\" class=\"dataframe\">\n",
       "  <thead>\n",
       "    <tr style=\"text-align: right;\">\n",
       "      <th></th>\n",
       "      <th>MarksA</th>\n",
       "      <th>MarksB</th>\n",
       "      <th>MarksC</th>\n",
       "    </tr>\n",
       "  </thead>\n",
       "  <tbody>\n",
       "    <tr>\n",
       "      <td>0</td>\n",
       "      <td>30.0</td>\n",
       "      <td>84.0</td>\n",
       "      <td>77.0</td>\n",
       "    </tr>\n",
       "    <tr>\n",
       "      <td>1</td>\n",
       "      <td>73.0</td>\n",
       "      <td>59.0</td>\n",
       "      <td>21.0</td>\n",
       "    </tr>\n",
       "    <tr>\n",
       "      <td>2</td>\n",
       "      <td>92.0</td>\n",
       "      <td>98.0</td>\n",
       "      <td>32.0</td>\n",
       "    </tr>\n",
       "    <tr>\n",
       "      <td>3</td>\n",
       "      <td>42.0</td>\n",
       "      <td>74.0</td>\n",
       "      <td>96.0</td>\n",
       "    </tr>\n",
       "    <tr>\n",
       "      <td>4</td>\n",
       "      <td>73.0</td>\n",
       "      <td>85.0</td>\n",
       "      <td>59.0</td>\n",
       "    </tr>\n",
       "  </tbody>\n",
       "</table>\n",
       "</div>"
      ],
      "text/plain": [
       "   MarksA  MarksB  MarksC\n",
       "0    30.0    84.0    77.0\n",
       "1    73.0    59.0    21.0\n",
       "2    92.0    98.0    32.0\n",
       "3    42.0    74.0    96.0\n",
       "4    73.0    85.0    59.0"
      ]
     },
     "execution_count": 9,
     "metadata": {},
     "output_type": "execute_result"
    }
   ],
   "source": [
    "my_data=pd.read_csv('marks.csv')\n",
    "my_data=my_data.drop(columns=['Unnamed: 0']) #drops a weird column that was otherwise present\n",
    "my_data"
   ]
  },
  {
   "cell_type": "markdown",
   "metadata": {},
   "source": [
    "# Pandas Basics 2"
   ]
  },
  {
   "cell_type": "code",
   "execution_count": 10,
   "metadata": {},
   "outputs": [
    {
     "data": {
      "text/html": [
       "<div>\n",
       "<style scoped>\n",
       "    .dataframe tbody tr th:only-of-type {\n",
       "        vertical-align: middle;\n",
       "    }\n",
       "\n",
       "    .dataframe tbody tr th {\n",
       "        vertical-align: top;\n",
       "    }\n",
       "\n",
       "    .dataframe thead th {\n",
       "        text-align: right;\n",
       "    }\n",
       "</style>\n",
       "<table border=\"1\" class=\"dataframe\">\n",
       "  <thead>\n",
       "    <tr style=\"text-align: right;\">\n",
       "      <th></th>\n",
       "      <th>MarksA</th>\n",
       "      <th>MarksB</th>\n",
       "      <th>MarksC</th>\n",
       "    </tr>\n",
       "  </thead>\n",
       "  <tbody>\n",
       "    <tr>\n",
       "      <td>count</td>\n",
       "      <td>5.00000</td>\n",
       "      <td>5.000000</td>\n",
       "      <td>5.000000</td>\n",
       "    </tr>\n",
       "    <tr>\n",
       "      <td>mean</td>\n",
       "      <td>62.00000</td>\n",
       "      <td>80.000000</td>\n",
       "      <td>57.000000</td>\n",
       "    </tr>\n",
       "    <tr>\n",
       "      <td>std</td>\n",
       "      <td>25.32785</td>\n",
       "      <td>14.508618</td>\n",
       "      <td>31.008063</td>\n",
       "    </tr>\n",
       "    <tr>\n",
       "      <td>min</td>\n",
       "      <td>30.00000</td>\n",
       "      <td>59.000000</td>\n",
       "      <td>21.000000</td>\n",
       "    </tr>\n",
       "    <tr>\n",
       "      <td>25%</td>\n",
       "      <td>42.00000</td>\n",
       "      <td>74.000000</td>\n",
       "      <td>32.000000</td>\n",
       "    </tr>\n",
       "    <tr>\n",
       "      <td>50%</td>\n",
       "      <td>73.00000</td>\n",
       "      <td>84.000000</td>\n",
       "      <td>59.000000</td>\n",
       "    </tr>\n",
       "    <tr>\n",
       "      <td>75%</td>\n",
       "      <td>73.00000</td>\n",
       "      <td>85.000000</td>\n",
       "      <td>77.000000</td>\n",
       "    </tr>\n",
       "    <tr>\n",
       "      <td>max</td>\n",
       "      <td>92.00000</td>\n",
       "      <td>98.000000</td>\n",
       "      <td>96.000000</td>\n",
       "    </tr>\n",
       "  </tbody>\n",
       "</table>\n",
       "</div>"
      ],
      "text/plain": [
       "         MarksA     MarksB     MarksC\n",
       "count   5.00000   5.000000   5.000000\n",
       "mean   62.00000  80.000000  57.000000\n",
       "std    25.32785  14.508618  31.008063\n",
       "min    30.00000  59.000000  21.000000\n",
       "25%    42.00000  74.000000  32.000000\n",
       "50%    73.00000  84.000000  59.000000\n",
       "75%    73.00000  85.000000  77.000000\n",
       "max    92.00000  98.000000  96.000000"
      ]
     },
     "execution_count": 10,
     "metadata": {},
     "output_type": "execute_result"
    }
   ],
   "source": [
    "my_data.describe() #NAN not avaiable student that case count=4"
   ]
  },
  {
   "cell_type": "code",
   "execution_count": 11,
   "metadata": {},
   "outputs": [
    {
     "data": {
      "text/html": [
       "<div>\n",
       "<style scoped>\n",
       "    .dataframe tbody tr th:only-of-type {\n",
       "        vertical-align: middle;\n",
       "    }\n",
       "\n",
       "    .dataframe tbody tr th {\n",
       "        vertical-align: top;\n",
       "    }\n",
       "\n",
       "    .dataframe thead th {\n",
       "        text-align: right;\n",
       "    }\n",
       "</style>\n",
       "<table border=\"1\" class=\"dataframe\">\n",
       "  <thead>\n",
       "    <tr style=\"text-align: right;\">\n",
       "      <th></th>\n",
       "      <th>MarksA</th>\n",
       "      <th>MarksB</th>\n",
       "      <th>MarksC</th>\n",
       "    </tr>\n",
       "  </thead>\n",
       "  <tbody>\n",
       "    <tr>\n",
       "      <td>0</td>\n",
       "      <td>30.0</td>\n",
       "      <td>84.0</td>\n",
       "      <td>77.0</td>\n",
       "    </tr>\n",
       "    <tr>\n",
       "      <td>1</td>\n",
       "      <td>73.0</td>\n",
       "      <td>59.0</td>\n",
       "      <td>21.0</td>\n",
       "    </tr>\n",
       "    <tr>\n",
       "      <td>2</td>\n",
       "      <td>92.0</td>\n",
       "      <td>98.0</td>\n",
       "      <td>32.0</td>\n",
       "    </tr>\n",
       "    <tr>\n",
       "      <td>3</td>\n",
       "      <td>42.0</td>\n",
       "      <td>74.0</td>\n",
       "      <td>96.0</td>\n",
       "    </tr>\n",
       "    <tr>\n",
       "      <td>4</td>\n",
       "      <td>73.0</td>\n",
       "      <td>85.0</td>\n",
       "      <td>59.0</td>\n",
       "    </tr>\n",
       "  </tbody>\n",
       "</table>\n",
       "</div>"
      ],
      "text/plain": [
       "   MarksA  MarksB  MarksC\n",
       "0    30.0    84.0    77.0\n",
       "1    73.0    59.0    21.0\n",
       "2    92.0    98.0    32.0\n",
       "3    42.0    74.0    96.0\n",
       "4    73.0    85.0    59.0"
      ]
     },
     "execution_count": 11,
     "metadata": {},
     "output_type": "execute_result"
    }
   ],
   "source": [
    "my_data.head()"
   ]
  },
  {
   "cell_type": "code",
   "execution_count": 12,
   "metadata": {},
   "outputs": [
    {
     "data": {
      "text/html": [
       "<div>\n",
       "<style scoped>\n",
       "    .dataframe tbody tr th:only-of-type {\n",
       "        vertical-align: middle;\n",
       "    }\n",
       "\n",
       "    .dataframe tbody tr th {\n",
       "        vertical-align: top;\n",
       "    }\n",
       "\n",
       "    .dataframe thead th {\n",
       "        text-align: right;\n",
       "    }\n",
       "</style>\n",
       "<table border=\"1\" class=\"dataframe\">\n",
       "  <thead>\n",
       "    <tr style=\"text-align: right;\">\n",
       "      <th></th>\n",
       "      <th>MarksA</th>\n",
       "      <th>MarksB</th>\n",
       "      <th>MarksC</th>\n",
       "    </tr>\n",
       "  </thead>\n",
       "  <tbody>\n",
       "    <tr>\n",
       "      <td>2</td>\n",
       "      <td>92.0</td>\n",
       "      <td>98.0</td>\n",
       "      <td>32.0</td>\n",
       "    </tr>\n",
       "    <tr>\n",
       "      <td>3</td>\n",
       "      <td>42.0</td>\n",
       "      <td>74.0</td>\n",
       "      <td>96.0</td>\n",
       "    </tr>\n",
       "    <tr>\n",
       "      <td>4</td>\n",
       "      <td>73.0</td>\n",
       "      <td>85.0</td>\n",
       "      <td>59.0</td>\n",
       "    </tr>\n",
       "  </tbody>\n",
       "</table>\n",
       "</div>"
      ],
      "text/plain": [
       "   MarksA  MarksB  MarksC\n",
       "2    92.0    98.0    32.0\n",
       "3    42.0    74.0    96.0\n",
       "4    73.0    85.0    59.0"
      ]
     },
     "execution_count": 12,
     "metadata": {},
     "output_type": "execute_result"
    }
   ],
   "source": [
    "my_data.tail(n=3) #last 3 rows"
   ]
  },
  {
   "cell_type": "code",
   "execution_count": 13,
   "metadata": {},
   "outputs": [
    {
     "data": {
      "text/plain": [
       "MarksA    42.0\n",
       "MarksB    74.0\n",
       "MarksC    96.0\n",
       "Name: 3, dtype: float32"
      ]
     },
     "execution_count": 13,
     "metadata": {},
     "output_type": "execute_result"
    }
   ],
   "source": [
    "df.iloc[3] #accessing a row ,i here is int location"
   ]
  },
  {
   "cell_type": "code",
   "execution_count": 14,
   "metadata": {},
   "outputs": [
    {
     "data": {
      "text/plain": [
       "74.0"
      ]
     },
     "execution_count": 14,
     "metadata": {},
     "output_type": "execute_result"
    }
   ],
   "source": [
    "#Row and column\n",
    "df.iloc[3,1]"
   ]
  },
  {
   "cell_type": "code",
   "execution_count": 15,
   "metadata": {},
   "outputs": [
    {
     "data": {
      "text/plain": [
       "74.0"
      ]
     },
     "execution_count": 15,
     "metadata": {},
     "output_type": "execute_result"
    }
   ],
   "source": [
    "df.iloc[3][1]"
   ]
  },
  {
   "cell_type": "code",
   "execution_count": 16,
   "metadata": {},
   "outputs": [
    {
     "name": "stdout",
     "output_type": "stream",
     "text": [
      "1\n"
     ]
    },
    {
     "data": {
      "text/plain": [
       "74.0"
      ]
     },
     "execution_count": 16,
     "metadata": {},
     "output_type": "execute_result"
    }
   ],
   "source": [
    "idx= df.columns.get_loc('MarksB')\n",
    "print(idx)\n",
    "df.iloc[3,idx]"
   ]
  },
  {
   "cell_type": "code",
   "execution_count": 17,
   "metadata": {},
   "outputs": [
    {
     "name": "stdout",
     "output_type": "stream",
     "text": [
      "[1, 2]\n",
      "MarksB    74.0\n",
      "MarksC    96.0\n",
      "Name: 3, dtype: float32\n",
      "74.0\n",
      "96.0\n"
     ]
    }
   ],
   "source": [
    "idx= [df.columns.get_loc('MarksB'),df.columns.get_loc('MarksC')]\n",
    "print(idx)\n",
    "print(df.iloc[3,idx]) #3rd row for the columns 1,2\n",
    "print(df.iloc[3,idx[0]])\n",
    "print(df.iloc[3,idx[1]])\n"
   ]
  },
  {
   "cell_type": "code",
   "execution_count": 18,
   "metadata": {},
   "outputs": [
    {
     "data": {
      "text/html": [
       "<div>\n",
       "<style scoped>\n",
       "    .dataframe tbody tr th:only-of-type {\n",
       "        vertical-align: middle;\n",
       "    }\n",
       "\n",
       "    .dataframe tbody tr th {\n",
       "        vertical-align: top;\n",
       "    }\n",
       "\n",
       "    .dataframe thead th {\n",
       "        text-align: right;\n",
       "    }\n",
       "</style>\n",
       "<table border=\"1\" class=\"dataframe\">\n",
       "  <thead>\n",
       "    <tr style=\"text-align: right;\">\n",
       "      <th></th>\n",
       "      <th>MarksB</th>\n",
       "      <th>MarksC</th>\n",
       "    </tr>\n",
       "  </thead>\n",
       "  <tbody>\n",
       "    <tr>\n",
       "      <td>0</td>\n",
       "      <td>84.0</td>\n",
       "      <td>77.0</td>\n",
       "    </tr>\n",
       "    <tr>\n",
       "      <td>1</td>\n",
       "      <td>59.0</td>\n",
       "      <td>21.0</td>\n",
       "    </tr>\n",
       "    <tr>\n",
       "      <td>2</td>\n",
       "      <td>98.0</td>\n",
       "      <td>32.0</td>\n",
       "    </tr>\n",
       "  </tbody>\n",
       "</table>\n",
       "</div>"
      ],
      "text/plain": [
       "   MarksB  MarksC\n",
       "0    84.0    77.0\n",
       "1    59.0    21.0\n",
       "2    98.0    32.0"
      ]
     },
     "execution_count": 18,
     "metadata": {},
     "output_type": "execute_result"
    }
   ],
   "source": [
    "df.iloc[:3,idx]"
   ]
  },
  {
   "cell_type": "code",
   "execution_count": 19,
   "metadata": {},
   "outputs": [
    {
     "data": {
      "text/html": [
       "<div>\n",
       "<style scoped>\n",
       "    .dataframe tbody tr th:only-of-type {\n",
       "        vertical-align: middle;\n",
       "    }\n",
       "\n",
       "    .dataframe tbody tr th {\n",
       "        vertical-align: top;\n",
       "    }\n",
       "\n",
       "    .dataframe thead th {\n",
       "        text-align: right;\n",
       "    }\n",
       "</style>\n",
       "<table border=\"1\" class=\"dataframe\">\n",
       "  <thead>\n",
       "    <tr style=\"text-align: right;\">\n",
       "      <th></th>\n",
       "      <th>MarksB</th>\n",
       "      <th>MarksC</th>\n",
       "    </tr>\n",
       "  </thead>\n",
       "  <tbody>\n",
       "    <tr>\n",
       "      <td>0</td>\n",
       "      <td>84.0</td>\n",
       "      <td>77.0</td>\n",
       "    </tr>\n",
       "    <tr>\n",
       "      <td>1</td>\n",
       "      <td>59.0</td>\n",
       "      <td>21.0</td>\n",
       "    </tr>\n",
       "    <tr>\n",
       "      <td>2</td>\n",
       "      <td>98.0</td>\n",
       "      <td>32.0</td>\n",
       "    </tr>\n",
       "  </tbody>\n",
       "</table>\n",
       "</div>"
      ],
      "text/plain": [
       "   MarksB  MarksC\n",
       "0    84.0    77.0\n",
       "1    59.0    21.0\n",
       "2    98.0    32.0"
      ]
     },
     "execution_count": 19,
     "metadata": {},
     "output_type": "execute_result"
    }
   ],
   "source": [
    "df.iloc[:3,[1,2]]"
   ]
  },
  {
   "cell_type": "code",
   "execution_count": 20,
   "metadata": {},
   "outputs": [],
   "source": [
    "## Sort your data frame"
   ]
  },
  {
   "cell_type": "code",
   "execution_count": 21,
   "metadata": {},
   "outputs": [
    {
     "data": {
      "text/html": [
       "<div>\n",
       "<style scoped>\n",
       "    .dataframe tbody tr th:only-of-type {\n",
       "        vertical-align: middle;\n",
       "    }\n",
       "\n",
       "    .dataframe tbody tr th {\n",
       "        vertical-align: top;\n",
       "    }\n",
       "\n",
       "    .dataframe thead th {\n",
       "        text-align: right;\n",
       "    }\n",
       "</style>\n",
       "<table border=\"1\" class=\"dataframe\">\n",
       "  <thead>\n",
       "    <tr style=\"text-align: right;\">\n",
       "      <th></th>\n",
       "      <th>MarksA</th>\n",
       "      <th>MarksB</th>\n",
       "      <th>MarksC</th>\n",
       "    </tr>\n",
       "  </thead>\n",
       "  <tbody>\n",
       "    <tr>\n",
       "      <td>0</td>\n",
       "      <td>30.0</td>\n",
       "      <td>84.0</td>\n",
       "      <td>77.0</td>\n",
       "    </tr>\n",
       "    <tr>\n",
       "      <td>1</td>\n",
       "      <td>73.0</td>\n",
       "      <td>59.0</td>\n",
       "      <td>21.0</td>\n",
       "    </tr>\n",
       "    <tr>\n",
       "      <td>2</td>\n",
       "      <td>92.0</td>\n",
       "      <td>98.0</td>\n",
       "      <td>32.0</td>\n",
       "    </tr>\n",
       "    <tr>\n",
       "      <td>3</td>\n",
       "      <td>42.0</td>\n",
       "      <td>74.0</td>\n",
       "      <td>96.0</td>\n",
       "    </tr>\n",
       "    <tr>\n",
       "      <td>4</td>\n",
       "      <td>73.0</td>\n",
       "      <td>85.0</td>\n",
       "      <td>59.0</td>\n",
       "    </tr>\n",
       "  </tbody>\n",
       "</table>\n",
       "</div>"
      ],
      "text/plain": [
       "   MarksA  MarksB  MarksC\n",
       "0    30.0    84.0    77.0\n",
       "1    73.0    59.0    21.0\n",
       "2    92.0    98.0    32.0\n",
       "3    42.0    74.0    96.0\n",
       "4    73.0    85.0    59.0"
      ]
     },
     "execution_count": 21,
     "metadata": {},
     "output_type": "execute_result"
    }
   ],
   "source": [
    "my_data"
   ]
  },
  {
   "cell_type": "code",
   "execution_count": 22,
   "metadata": {},
   "outputs": [
    {
     "data": {
      "text/html": [
       "<div>\n",
       "<style scoped>\n",
       "    .dataframe tbody tr th:only-of-type {\n",
       "        vertical-align: middle;\n",
       "    }\n",
       "\n",
       "    .dataframe tbody tr th {\n",
       "        vertical-align: top;\n",
       "    }\n",
       "\n",
       "    .dataframe thead th {\n",
       "        text-align: right;\n",
       "    }\n",
       "</style>\n",
       "<table border=\"1\" class=\"dataframe\">\n",
       "  <thead>\n",
       "    <tr style=\"text-align: right;\">\n",
       "      <th></th>\n",
       "      <th>MarksA</th>\n",
       "      <th>MarksB</th>\n",
       "      <th>MarksC</th>\n",
       "    </tr>\n",
       "  </thead>\n",
       "  <tbody>\n",
       "    <tr>\n",
       "      <td>0</td>\n",
       "      <td>30.0</td>\n",
       "      <td>84.0</td>\n",
       "      <td>77.0</td>\n",
       "    </tr>\n",
       "    <tr>\n",
       "      <td>3</td>\n",
       "      <td>42.0</td>\n",
       "      <td>74.0</td>\n",
       "      <td>96.0</td>\n",
       "    </tr>\n",
       "    <tr>\n",
       "      <td>1</td>\n",
       "      <td>73.0</td>\n",
       "      <td>59.0</td>\n",
       "      <td>21.0</td>\n",
       "    </tr>\n",
       "    <tr>\n",
       "      <td>4</td>\n",
       "      <td>73.0</td>\n",
       "      <td>85.0</td>\n",
       "      <td>59.0</td>\n",
       "    </tr>\n",
       "    <tr>\n",
       "      <td>2</td>\n",
       "      <td>92.0</td>\n",
       "      <td>98.0</td>\n",
       "      <td>32.0</td>\n",
       "    </tr>\n",
       "  </tbody>\n",
       "</table>\n",
       "</div>"
      ],
      "text/plain": [
       "   MarksA  MarksB  MarksC\n",
       "0    30.0    84.0    77.0\n",
       "3    42.0    74.0    96.0\n",
       "1    73.0    59.0    21.0\n",
       "4    73.0    85.0    59.0\n",
       "2    92.0    98.0    32.0"
      ]
     },
     "execution_count": 22,
     "metadata": {},
     "output_type": "execute_result"
    }
   ],
   "source": [
    "my_data.sort_values(by=[\"MarksA\"],ascending=True) #can be false for descending"
   ]
  },
  {
   "cell_type": "code",
   "execution_count": 23,
   "metadata": {},
   "outputs": [
    {
     "data": {
      "text/html": [
       "<div>\n",
       "<style scoped>\n",
       "    .dataframe tbody tr th:only-of-type {\n",
       "        vertical-align: middle;\n",
       "    }\n",
       "\n",
       "    .dataframe tbody tr th {\n",
       "        vertical-align: top;\n",
       "    }\n",
       "\n",
       "    .dataframe thead th {\n",
       "        text-align: right;\n",
       "    }\n",
       "</style>\n",
       "<table border=\"1\" class=\"dataframe\">\n",
       "  <thead>\n",
       "    <tr style=\"text-align: right;\">\n",
       "      <th></th>\n",
       "      <th>MarksA</th>\n",
       "      <th>MarksB</th>\n",
       "      <th>MarksC</th>\n",
       "    </tr>\n",
       "  </thead>\n",
       "  <tbody>\n",
       "    <tr>\n",
       "      <td>3</td>\n",
       "      <td>42.0</td>\n",
       "      <td>74.0</td>\n",
       "      <td>96.0</td>\n",
       "    </tr>\n",
       "    <tr>\n",
       "      <td>0</td>\n",
       "      <td>30.0</td>\n",
       "      <td>84.0</td>\n",
       "      <td>77.0</td>\n",
       "    </tr>\n",
       "    <tr>\n",
       "      <td>4</td>\n",
       "      <td>73.0</td>\n",
       "      <td>85.0</td>\n",
       "      <td>59.0</td>\n",
       "    </tr>\n",
       "    <tr>\n",
       "      <td>2</td>\n",
       "      <td>92.0</td>\n",
       "      <td>98.0</td>\n",
       "      <td>32.0</td>\n",
       "    </tr>\n",
       "    <tr>\n",
       "      <td>1</td>\n",
       "      <td>73.0</td>\n",
       "      <td>59.0</td>\n",
       "      <td>21.0</td>\n",
       "    </tr>\n",
       "  </tbody>\n",
       "</table>\n",
       "</div>"
      ],
      "text/plain": [
       "   MarksA  MarksB  MarksC\n",
       "3    42.0    74.0    96.0\n",
       "0    30.0    84.0    77.0\n",
       "4    73.0    85.0    59.0\n",
       "2    92.0    98.0    32.0\n",
       "1    73.0    59.0    21.0"
      ]
     },
     "execution_count": 23,
     "metadata": {},
     "output_type": "execute_result"
    }
   ],
   "source": [
    "my_data.sort_values(by=[\"MarksC\",\"MarksA\"],ascending=False) #priority to MarksC then MarksA"
   ]
  },
  {
   "cell_type": "code",
   "execution_count": 24,
   "metadata": {},
   "outputs": [],
   "source": [
    "data_array=my_data.values"
   ]
  },
  {
   "cell_type": "code",
   "execution_count": 25,
   "metadata": {},
   "outputs": [
    {
     "name": "stdout",
     "output_type": "stream",
     "text": [
      "<class 'pandas.core.frame.DataFrame'>\n",
      "(5, 3)\n"
     ]
    }
   ],
   "source": [
    "print(type(my_data))\n",
    "print(my_data.shape)"
   ]
  },
  {
   "cell_type": "code",
   "execution_count": 26,
   "metadata": {},
   "outputs": [
    {
     "name": "stdout",
     "output_type": "stream",
     "text": [
      "[[30. 84. 77.]\n",
      " [73. 59. 21.]\n",
      " [92. 98. 32.]\n",
      " [42. 74. 96.]\n",
      " [73. 85. 59.]]\n"
     ]
    }
   ],
   "source": [
    "type(data_array)\n",
    "print(data_array)"
   ]
  },
  {
   "cell_type": "code",
   "execution_count": 27,
   "metadata": {},
   "outputs": [
    {
     "data": {
      "text/plain": [
       "(5, 3)"
      ]
     },
     "execution_count": 27,
     "metadata": {},
     "output_type": "execute_result"
    }
   ],
   "source": [
    "data_array.shape"
   ]
  },
  {
   "cell_type": "code",
   "execution_count": 28,
   "metadata": {},
   "outputs": [
    {
     "data": {
      "text/plain": [
       "32.0"
      ]
     },
     "execution_count": 28,
     "metadata": {},
     "output_type": "execute_result"
    }
   ],
   "source": [
    "data_array[2][2]"
   ]
  },
  {
   "cell_type": "code",
   "execution_count": 29,
   "metadata": {},
   "outputs": [
    {
     "data": {
      "text/html": [
       "<div>\n",
       "<style scoped>\n",
       "    .dataframe tbody tr th:only-of-type {\n",
       "        vertical-align: middle;\n",
       "    }\n",
       "\n",
       "    .dataframe tbody tr th {\n",
       "        vertical-align: top;\n",
       "    }\n",
       "\n",
       "    .dataframe thead th {\n",
       "        text-align: right;\n",
       "    }\n",
       "</style>\n",
       "<table border=\"1\" class=\"dataframe\">\n",
       "  <thead>\n",
       "    <tr style=\"text-align: right;\">\n",
       "      <th></th>\n",
       "      <th>Phy</th>\n",
       "      <th>Maths</th>\n",
       "      <th>Chem</th>\n",
       "    </tr>\n",
       "  </thead>\n",
       "  <tbody>\n",
       "    <tr>\n",
       "      <td>0</td>\n",
       "      <td>30.0</td>\n",
       "      <td>84.0</td>\n",
       "      <td>77.0</td>\n",
       "    </tr>\n",
       "    <tr>\n",
       "      <td>1</td>\n",
       "      <td>73.0</td>\n",
       "      <td>59.0</td>\n",
       "      <td>21.0</td>\n",
       "    </tr>\n",
       "    <tr>\n",
       "      <td>2</td>\n",
       "      <td>92.0</td>\n",
       "      <td>98.0</td>\n",
       "      <td>32.0</td>\n",
       "    </tr>\n",
       "    <tr>\n",
       "      <td>3</td>\n",
       "      <td>42.0</td>\n",
       "      <td>74.0</td>\n",
       "      <td>96.0</td>\n",
       "    </tr>\n",
       "    <tr>\n",
       "      <td>4</td>\n",
       "      <td>73.0</td>\n",
       "      <td>85.0</td>\n",
       "      <td>59.0</td>\n",
       "    </tr>\n",
       "  </tbody>\n",
       "</table>\n",
       "</div>"
      ],
      "text/plain": [
       "    Phy  Maths  Chem\n",
       "0  30.0   84.0  77.0\n",
       "1  73.0   59.0  21.0\n",
       "2  92.0   98.0  32.0\n",
       "3  42.0   74.0  96.0\n",
       "4  73.0   85.0  59.0"
      ]
     },
     "execution_count": 29,
     "metadata": {},
     "output_type": "execute_result"
    }
   ],
   "source": [
    "##Numpy Array back into data frame\n",
    "\n",
    "new_df=pd.DataFrame(data_array,columns=[\"Phy\",\"Maths\",\"Chem\"],dtype='float32')\n",
    "new_df"
   ]
  },
  {
   "cell_type": "code",
   "execution_count": 30,
   "metadata": {},
   "outputs": [],
   "source": [
    "new_df.to_csv('PCM.csv',index=False) #to remove weird index row names 0,1,.."
   ]
  },
  {
   "cell_type": "code",
   "execution_count": 31,
   "metadata": {},
   "outputs": [
    {
     "name": "stdout",
     "output_type": "stream",
     "text": [
      "    Phy  Maths  Chem\n",
      "0  30.0   84.0  77.0\n",
      "1  73.0   59.0  21.0\n",
      "2  92.0   98.0  32.0\n",
      "3  42.0   74.0  96.0\n",
      "4  73.0   85.0  59.0\n"
     ]
    }
   ],
   "source": [
    "pcm=pd.read_csv('PCM.csv')\n",
    "print(pcm)"
   ]
  },
  {
   "cell_type": "markdown",
   "metadata": {},
   "source": [
    "# Loading MNIST Dataset using Pandas"
   ]
  },
  {
   "cell_type": "code",
   "execution_count": 32,
   "metadata": {},
   "outputs": [],
   "source": [
    "import pandas as pd"
   ]
  },
  {
   "cell_type": "code",
   "execution_count": 33,
   "metadata": {},
   "outputs": [],
   "source": [
    "df=pd.read_csv('mnist_train.csv')"
   ]
  },
  {
   "cell_type": "code",
   "execution_count": 34,
   "metadata": {},
   "outputs": [
    {
     "data": {
      "text/plain": [
       "(42000, 785)"
      ]
     },
     "execution_count": 34,
     "metadata": {},
     "output_type": "execute_result"
    }
   ],
   "source": [
    "df.columns #dataset of handwritten images\n",
    "df.shape #28*28=784 pixels"
   ]
  },
  {
   "cell_type": "code",
   "execution_count": 35,
   "metadata": {},
   "outputs": [
    {
     "data": {
      "text/html": [
       "<div>\n",
       "<style scoped>\n",
       "    .dataframe tbody tr th:only-of-type {\n",
       "        vertical-align: middle;\n",
       "    }\n",
       "\n",
       "    .dataframe tbody tr th {\n",
       "        vertical-align: top;\n",
       "    }\n",
       "\n",
       "    .dataframe thead th {\n",
       "        text-align: right;\n",
       "    }\n",
       "</style>\n",
       "<table border=\"1\" class=\"dataframe\">\n",
       "  <thead>\n",
       "    <tr style=\"text-align: right;\">\n",
       "      <th></th>\n",
       "      <th>label</th>\n",
       "      <th>pixel0</th>\n",
       "      <th>pixel1</th>\n",
       "      <th>pixel2</th>\n",
       "      <th>pixel3</th>\n",
       "      <th>pixel4</th>\n",
       "      <th>pixel5</th>\n",
       "      <th>pixel6</th>\n",
       "      <th>pixel7</th>\n",
       "      <th>pixel8</th>\n",
       "      <th>...</th>\n",
       "      <th>pixel774</th>\n",
       "      <th>pixel775</th>\n",
       "      <th>pixel776</th>\n",
       "      <th>pixel777</th>\n",
       "      <th>pixel778</th>\n",
       "      <th>pixel779</th>\n",
       "      <th>pixel780</th>\n",
       "      <th>pixel781</th>\n",
       "      <th>pixel782</th>\n",
       "      <th>pixel783</th>\n",
       "    </tr>\n",
       "  </thead>\n",
       "  <tbody>\n",
       "    <tr>\n",
       "      <td>0</td>\n",
       "      <td>1</td>\n",
       "      <td>0</td>\n",
       "      <td>0</td>\n",
       "      <td>0</td>\n",
       "      <td>0</td>\n",
       "      <td>0</td>\n",
       "      <td>0</td>\n",
       "      <td>0</td>\n",
       "      <td>0</td>\n",
       "      <td>0</td>\n",
       "      <td>...</td>\n",
       "      <td>0</td>\n",
       "      <td>0</td>\n",
       "      <td>0</td>\n",
       "      <td>0</td>\n",
       "      <td>0</td>\n",
       "      <td>0</td>\n",
       "      <td>0</td>\n",
       "      <td>0</td>\n",
       "      <td>0</td>\n",
       "      <td>0</td>\n",
       "    </tr>\n",
       "    <tr>\n",
       "      <td>1</td>\n",
       "      <td>0</td>\n",
       "      <td>0</td>\n",
       "      <td>0</td>\n",
       "      <td>0</td>\n",
       "      <td>0</td>\n",
       "      <td>0</td>\n",
       "      <td>0</td>\n",
       "      <td>0</td>\n",
       "      <td>0</td>\n",
       "      <td>0</td>\n",
       "      <td>...</td>\n",
       "      <td>0</td>\n",
       "      <td>0</td>\n",
       "      <td>0</td>\n",
       "      <td>0</td>\n",
       "      <td>0</td>\n",
       "      <td>0</td>\n",
       "      <td>0</td>\n",
       "      <td>0</td>\n",
       "      <td>0</td>\n",
       "      <td>0</td>\n",
       "    </tr>\n",
       "    <tr>\n",
       "      <td>2</td>\n",
       "      <td>1</td>\n",
       "      <td>0</td>\n",
       "      <td>0</td>\n",
       "      <td>0</td>\n",
       "      <td>0</td>\n",
       "      <td>0</td>\n",
       "      <td>0</td>\n",
       "      <td>0</td>\n",
       "      <td>0</td>\n",
       "      <td>0</td>\n",
       "      <td>...</td>\n",
       "      <td>0</td>\n",
       "      <td>0</td>\n",
       "      <td>0</td>\n",
       "      <td>0</td>\n",
       "      <td>0</td>\n",
       "      <td>0</td>\n",
       "      <td>0</td>\n",
       "      <td>0</td>\n",
       "      <td>0</td>\n",
       "      <td>0</td>\n",
       "    </tr>\n",
       "    <tr>\n",
       "      <td>3</td>\n",
       "      <td>4</td>\n",
       "      <td>0</td>\n",
       "      <td>0</td>\n",
       "      <td>0</td>\n",
       "      <td>0</td>\n",
       "      <td>0</td>\n",
       "      <td>0</td>\n",
       "      <td>0</td>\n",
       "      <td>0</td>\n",
       "      <td>0</td>\n",
       "      <td>...</td>\n",
       "      <td>0</td>\n",
       "      <td>0</td>\n",
       "      <td>0</td>\n",
       "      <td>0</td>\n",
       "      <td>0</td>\n",
       "      <td>0</td>\n",
       "      <td>0</td>\n",
       "      <td>0</td>\n",
       "      <td>0</td>\n",
       "      <td>0</td>\n",
       "    </tr>\n",
       "    <tr>\n",
       "      <td>4</td>\n",
       "      <td>0</td>\n",
       "      <td>0</td>\n",
       "      <td>0</td>\n",
       "      <td>0</td>\n",
       "      <td>0</td>\n",
       "      <td>0</td>\n",
       "      <td>0</td>\n",
       "      <td>0</td>\n",
       "      <td>0</td>\n",
       "      <td>0</td>\n",
       "      <td>...</td>\n",
       "      <td>0</td>\n",
       "      <td>0</td>\n",
       "      <td>0</td>\n",
       "      <td>0</td>\n",
       "      <td>0</td>\n",
       "      <td>0</td>\n",
       "      <td>0</td>\n",
       "      <td>0</td>\n",
       "      <td>0</td>\n",
       "      <td>0</td>\n",
       "    </tr>\n",
       "  </tbody>\n",
       "</table>\n",
       "<p>5 rows × 785 columns</p>\n",
       "</div>"
      ],
      "text/plain": [
       "   label  pixel0  pixel1  pixel2  pixel3  pixel4  pixel5  pixel6  pixel7  \\\n",
       "0      1       0       0       0       0       0       0       0       0   \n",
       "1      0       0       0       0       0       0       0       0       0   \n",
       "2      1       0       0       0       0       0       0       0       0   \n",
       "3      4       0       0       0       0       0       0       0       0   \n",
       "4      0       0       0       0       0       0       0       0       0   \n",
       "\n",
       "   pixel8  ...  pixel774  pixel775  pixel776  pixel777  pixel778  pixel779  \\\n",
       "0       0  ...         0         0         0         0         0         0   \n",
       "1       0  ...         0         0         0         0         0         0   \n",
       "2       0  ...         0         0         0         0         0         0   \n",
       "3       0  ...         0         0         0         0         0         0   \n",
       "4       0  ...         0         0         0         0         0         0   \n",
       "\n",
       "   pixel780  pixel781  pixel782  pixel783  \n",
       "0         0         0         0         0  \n",
       "1         0         0         0         0  \n",
       "2         0         0         0         0  \n",
       "3         0         0         0         0  \n",
       "4         0         0         0         0  \n",
       "\n",
       "[5 rows x 785 columns]"
      ]
     },
     "execution_count": 35,
     "metadata": {},
     "output_type": "execute_result"
    }
   ],
   "source": [
    "df.head(n=5)"
   ]
  },
  {
   "cell_type": "code",
   "execution_count": 36,
   "metadata": {},
   "outputs": [
    {
     "name": "stdout",
     "output_type": "stream",
     "text": [
      "<class 'pandas.core.frame.DataFrame'>\n"
     ]
    }
   ],
   "source": [
    "print(type(df))"
   ]
  },
  {
   "cell_type": "code",
   "execution_count": 37,
   "metadata": {},
   "outputs": [],
   "source": [
    "data=df.values #converting into numpy array"
   ]
  },
  {
   "cell_type": "code",
   "execution_count": 38,
   "metadata": {},
   "outputs": [
    {
     "name": "stdout",
     "output_type": "stream",
     "text": [
      "<class 'numpy.ndarray'>\n"
     ]
    }
   ],
   "source": [
    "print(type(data)) #n dimensions"
   ]
  },
  {
   "cell_type": "code",
   "execution_count": 39,
   "metadata": {},
   "outputs": [
    {
     "name": "stdout",
     "output_type": "stream",
     "text": [
      "(42000, 784)\n",
      "(42000,)\n"
     ]
    }
   ],
   "source": [
    "X=data[:,1:]\n",
    "Y=data[:,0] #labels\n",
    "print(X.shape)\n",
    "print(Y.shape)"
   ]
  },
  {
   "cell_type": "code",
   "execution_count": 40,
   "metadata": {},
   "outputs": [
    {
     "name": "stdout",
     "output_type": "stream",
     "text": [
      "[[0 0 0 ... 0 0 0]\n",
      " [0 0 0 ... 0 0 0]\n",
      " [0 0 0 ... 0 0 0]\n",
      " ...\n",
      " [0 0 0 ... 0 0 0]\n",
      " [0 0 0 ... 0 0 0]\n",
      " [0 0 0 ... 0 0 0]]\n"
     ]
    }
   ],
   "source": [
    "print(X) #pixel vals"
   ]
  },
  {
   "cell_type": "code",
   "execution_count": 41,
   "metadata": {},
   "outputs": [
    {
     "name": "stdout",
     "output_type": "stream",
     "text": [
      "[1 0 1 ... 7 6 9]\n"
     ]
    }
   ],
   "source": [
    "print(Y)"
   ]
  },
  {
   "cell_type": "code",
   "execution_count": 42,
   "metadata": {},
   "outputs": [
    {
     "name": "stdout",
     "output_type": "stream",
     "text": [
      "[[  0   0   0   0   0   0   0   0   0   0   0   0   0   0   0   0   0   0\n",
      "    0   0   0   0   0   0   0   0   0   0]\n",
      " [  0   0   0   0   0   0   0   0   0   0   0   0   0   0   0   0   0   0\n",
      "    0   0   0   0   0   0   0   0   0   0]\n",
      " [  0   0   0   0   0   0   0   0   0   0   0   0   0   0   0   0   0   0\n",
      "    0   0   0   0   0   0   0   0   0   0]\n",
      " [  0   0   0   0   0   0   0   0   0   0   0   0   0   0   0   0   0   0\n",
      "    0   0   0   0   0   0   0   0   0   0]\n",
      " [  0   0   0   0   0   0   0   0   0   0   0   0   0   0   0   0   0   0\n",
      "    0   0   0   0   0   0   0   0   0   0]\n",
      " [  0   0   0   0   0   0 220 179   6   0   0   0   0   0   0   0   0   9\n",
      "   77   0   0   0   0   0   0   0   0   0]\n",
      " [  0   0   0   0   0   0  28 247  17   0   0   0   0   0   0   0   0  27\n",
      "  202   0   0   0   0   0   0   0   0   0]\n",
      " [  0   0   0   0   0   0   0 242 155   0   0   0   0   0   0   0   0  27\n",
      "  254  63   0   0   0   0   0   0   0   0]\n",
      " [  0   0   0   0   0   0   0 160 207   6   0   0   0   0   0   0   0  27\n",
      "  254  65   0   0   0   0   0   0   0   0]\n",
      " [  0   0   0   0   0   0   0 127 254  21   0   0   0   0   0   0   0  20\n",
      "  239  65   0   0   0   0   0   0   0   0]\n",
      " [  0   0   0   0   0   0   0  77 254  21   0   0   0   0   0   0   0   0\n",
      "  195  65   0   0   0   0   0   0   0   0]\n",
      " [  0   0   0   0   0   0   0  70 254  21   0   0   0   0   0   0   0   0\n",
      "  195 142   0   0   0   0   0   0   0   0]\n",
      " [  0   0   0   0   0   0   0  56 251  21   0   0   0   0   0   0   0   0\n",
      "  195 227   0   0   0   0   0   0   0   0]\n",
      " [  0   0   0   0   0   0   0   0 222 153   5   0   0   0   0   0   0   0\n",
      "  120 240  13   0   0   0   0   0   0   0]\n",
      " [  0   0   0   0   0   0   0   0  67 251  40   0   0   0   0   0   0   0\n",
      "   94 255  69   0   0   0   0   0   0   0]\n",
      " [  0   0   0   0   0   0   0   0   0 234 184   0   0   0   0   0   0   0\n",
      "   19 245  69   0   0   0   0   0   0   0]\n",
      " [  0   0   0   0   0   0   0   0   0 234 169   0   0   0   0   0   0   0\n",
      "    3 199 182  10   0   0   0   0   0   0]\n",
      " [  0   0   0   0   0   0   0   0   0 154 205   4   0   0  26  72 128 203\n",
      "  208 254 254 131   0   0   0   0   0   0]\n",
      " [  0   0   0   0   0   0   0   0   0  61 254 129 113 186 245 251 189  75\n",
      "   56 136 254  73   0   0   0   0   0   0]\n",
      " [  0   0   0   0   0   0   0   0   0  15 216 233 233 159 104  52   0   0\n",
      "    0  38 254  73   0   0   0   0   0   0]\n",
      " [  0   0   0   0   0   0   0   0   0   0   0   0   0   0   0   0   0   0\n",
      "    0  18 254  73   0   0   0   0   0   0]\n",
      " [  0   0   0   0   0   0   0   0   0   0   0   0   0   0   0   0   0   0\n",
      "    0  18 254  73   0   0   0   0   0   0]\n",
      " [  0   0   0   0   0   0   0   0   0   0   0   0   0   0   0   0   0   0\n",
      "    0   5 206 106   0   0   0   0   0   0]\n",
      " [  0   0   0   0   0   0   0   0   0   0   0   0   0   0   0   0   0   0\n",
      "    0   0 186 159   0   0   0   0   0   0]\n",
      " [  0   0   0   0   0   0   0   0   0   0   0   0   0   0   0   0   0   0\n",
      "    0   6 209 101   0   0   0   0   0   0]\n",
      " [  0   0   0   0   0   0   0   0   0   0   0   0   0   0   0   0   0   0\n",
      "    0   0   0   0   0   0   0   0   0   0]\n",
      " [  0   0   0   0   0   0   0   0   0   0   0   0   0   0   0   0   0   0\n",
      "    0   0   0   0   0   0   0   0   0   0]\n",
      " [  0   0   0   0   0   0   0   0   0   0   0   0   0   0   0   0   0   0\n",
      "    0   0   0   0   0   0   0   0   0   0]]\n"
     ]
    }
   ],
   "source": [
    "img=X[3].reshape((28,28)) #linear array into 2D array,taking in the third example and converting it into a 28X28 img\n",
    "print(img)"
   ]
  },
  {
   "cell_type": "code",
   "execution_count": 58,
   "metadata": {},
   "outputs": [
    {
     "name": "stdout",
     "output_type": "stream",
     "text": [
      "4\n"
     ]
    },
    {
     "data": {
      "image/png": "[encoded data removed]",
      "text/plain": [
       "<Figure size 432x288 with 1 Axes>"
      ]
     },
     "metadata": {
      "needs_background": "light"
     },
     "output_type": "display_data"
    }
   ],
   "source": [
    "import matplotlib.pyplot as plt\n",
    "print(Y[3])\n",
    "plt.imshow(img,cmap='gray')\n",
    "plt.show()"
   ]
  },
  {
   "cell_type": "code",
   "execution_count": 44,
   "metadata": {},
   "outputs": [
    {
     "name": "stdout",
     "output_type": "stream",
     "text": [
      "33600\n",
      "(33600, 784) (33600,)\n",
      "(8400, 784) (8400,)\n"
     ]
    }
   ],
   "source": [
    "#Divide into training set\n",
    "\n",
    "split=int(0.80*X.shape[0]) #80% of my 42000 examples as my training examples\n",
    "print(split)\n",
    "X_train,Y_train=X[:split,:],Y[:split]\n",
    "print(X_train.shape,Y_train.shape)\n",
    "\n",
    "X_test,Y_test=X[split:,:],Y[split:]\n",
    "print(X_test.shape,Y_test.shape) #no of rows,columns i.e 20%"
   ]
  },
  {
   "cell_type": "markdown",
   "metadata": {},
   "source": [
    "## Scikit Split"
   ]
  },
  {
   "cell_type": "code",
   "execution_count": 45,
   "metadata": {},
   "outputs": [],
   "source": [
    "from sklearn.model_selection import train_test_split"
   ]
  },
  {
   "cell_type": "code",
   "execution_count": 46,
   "metadata": {},
   "outputs": [],
   "source": [
    "XT,Xt,YT,Yt = train_test_split (X,Y) #Xtrain=XT Xtest=Xt"
   ]
  },
  {
   "cell_type": "code",
   "execution_count": 47,
   "metadata": {},
   "outputs": [
    {
     "name": "stdout",
     "output_type": "stream",
     "text": [
      "(31500, 784) (31500,)\n",
      "(10500, 784) (10500,)\n"
     ]
    }
   ],
   "source": [
    "print(XT.shape,YT.shape)\n",
    "print(Xt.shape,Yt.shape)"
   ]
  },
  {
   "cell_type": "code",
   "execution_count": 48,
   "metadata": {},
   "outputs": [],
   "source": [
    "df=pd.read_csv(\"movie_metadata.csv\")"
   ]
  },
  {
   "cell_type": "code",
   "execution_count": 49,
   "metadata": {},
   "outputs": [
    {
     "data": {
      "text/html": [
       "<div>\n",
       "<style scoped>\n",
       "    .dataframe tbody tr th:only-of-type {\n",
       "        vertical-align: middle;\n",
       "    }\n",
       "\n",
       "    .dataframe tbody tr th {\n",
       "        vertical-align: top;\n",
       "    }\n",
       "\n",
       "    .dataframe thead th {\n",
       "        text-align: right;\n",
       "    }\n",
       "</style>\n",
       "<table border=\"1\" class=\"dataframe\">\n",
       "  <thead>\n",
       "    <tr style=\"text-align: right;\">\n",
       "      <th></th>\n",
       "      <th>color</th>\n",
       "      <th>director_name</th>\n",
       "      <th>num_critic_for_reviews</th>\n",
       "      <th>duration</th>\n",
       "      <th>director_facebook_likes</th>\n",
       "      <th>actor_3_facebook_likes</th>\n",
       "      <th>actor_2_name</th>\n",
       "      <th>actor_1_facebook_likes</th>\n",
       "      <th>gross</th>\n",
       "      <th>genres</th>\n",
       "      <th>...</th>\n",
       "      <th>num_user_for_reviews</th>\n",
       "      <th>language</th>\n",
       "      <th>country</th>\n",
       "      <th>content_rating</th>\n",
       "      <th>budget</th>\n",
       "      <th>title_year</th>\n",
       "      <th>actor_2_facebook_likes</th>\n",
       "      <th>imdb_score</th>\n",
       "      <th>aspect_ratio</th>\n",
       "      <th>movie_facebook_likes</th>\n",
       "    </tr>\n",
       "  </thead>\n",
       "  <tbody>\n",
       "    <tr>\n",
       "      <td>0</td>\n",
       "      <td>Color</td>\n",
       "      <td>James Cameron</td>\n",
       "      <td>723.0</td>\n",
       "      <td>178.0</td>\n",
       "      <td>0.0</td>\n",
       "      <td>855.0</td>\n",
       "      <td>Joel David Moore</td>\n",
       "      <td>1000.0</td>\n",
       "      <td>760505847.0</td>\n",
       "      <td>Action|Adventure|Fantasy|Sci-Fi</td>\n",
       "      <td>...</td>\n",
       "      <td>3054.0</td>\n",
       "      <td>English</td>\n",
       "      <td>USA</td>\n",
       "      <td>PG-13</td>\n",
       "      <td>237000000.0</td>\n",
       "      <td>2009.0</td>\n",
       "      <td>936.0</td>\n",
       "      <td>7.9</td>\n",
       "      <td>1.78</td>\n",
       "      <td>33000</td>\n",
       "    </tr>\n",
       "    <tr>\n",
       "      <td>1</td>\n",
       "      <td>Color</td>\n",
       "      <td>Gore Verbinski</td>\n",
       "      <td>302.0</td>\n",
       "      <td>169.0</td>\n",
       "      <td>563.0</td>\n",
       "      <td>1000.0</td>\n",
       "      <td>Orlando Bloom</td>\n",
       "      <td>40000.0</td>\n",
       "      <td>309404152.0</td>\n",
       "      <td>Action|Adventure|Fantasy</td>\n",
       "      <td>...</td>\n",
       "      <td>1238.0</td>\n",
       "      <td>English</td>\n",
       "      <td>USA</td>\n",
       "      <td>PG-13</td>\n",
       "      <td>300000000.0</td>\n",
       "      <td>2007.0</td>\n",
       "      <td>5000.0</td>\n",
       "      <td>7.1</td>\n",
       "      <td>2.35</td>\n",
       "      <td>0</td>\n",
       "    </tr>\n",
       "    <tr>\n",
       "      <td>2</td>\n",
       "      <td>Color</td>\n",
       "      <td>Sam Mendes</td>\n",
       "      <td>602.0</td>\n",
       "      <td>148.0</td>\n",
       "      <td>0.0</td>\n",
       "      <td>161.0</td>\n",
       "      <td>Rory Kinnear</td>\n",
       "      <td>11000.0</td>\n",
       "      <td>200074175.0</td>\n",
       "      <td>Action|Adventure|Thriller</td>\n",
       "      <td>...</td>\n",
       "      <td>994.0</td>\n",
       "      <td>English</td>\n",
       "      <td>UK</td>\n",
       "      <td>PG-13</td>\n",
       "      <td>245000000.0</td>\n",
       "      <td>2015.0</td>\n",
       "      <td>393.0</td>\n",
       "      <td>6.8</td>\n",
       "      <td>2.35</td>\n",
       "      <td>85000</td>\n",
       "    </tr>\n",
       "    <tr>\n",
       "      <td>3</td>\n",
       "      <td>Color</td>\n",
       "      <td>Christopher Nolan</td>\n",
       "      <td>813.0</td>\n",
       "      <td>164.0</td>\n",
       "      <td>22000.0</td>\n",
       "      <td>23000.0</td>\n",
       "      <td>Christian Bale</td>\n",
       "      <td>27000.0</td>\n",
       "      <td>448130642.0</td>\n",
       "      <td>Action|Thriller</td>\n",
       "      <td>...</td>\n",
       "      <td>2701.0</td>\n",
       "      <td>English</td>\n",
       "      <td>USA</td>\n",
       "      <td>PG-13</td>\n",
       "      <td>250000000.0</td>\n",
       "      <td>2012.0</td>\n",
       "      <td>23000.0</td>\n",
       "      <td>8.5</td>\n",
       "      <td>2.35</td>\n",
       "      <td>164000</td>\n",
       "    </tr>\n",
       "    <tr>\n",
       "      <td>4</td>\n",
       "      <td>NaN</td>\n",
       "      <td>Doug Walker</td>\n",
       "      <td>NaN</td>\n",
       "      <td>NaN</td>\n",
       "      <td>131.0</td>\n",
       "      <td>NaN</td>\n",
       "      <td>Rob Walker</td>\n",
       "      <td>131.0</td>\n",
       "      <td>NaN</td>\n",
       "      <td>Documentary</td>\n",
       "      <td>...</td>\n",
       "      <td>NaN</td>\n",
       "      <td>NaN</td>\n",
       "      <td>NaN</td>\n",
       "      <td>NaN</td>\n",
       "      <td>NaN</td>\n",
       "      <td>NaN</td>\n",
       "      <td>12.0</td>\n",
       "      <td>7.1</td>\n",
       "      <td>NaN</td>\n",
       "      <td>0</td>\n",
       "    </tr>\n",
       "    <tr>\n",
       "      <td>5</td>\n",
       "      <td>Color</td>\n",
       "      <td>Andrew Stanton</td>\n",
       "      <td>462.0</td>\n",
       "      <td>132.0</td>\n",
       "      <td>475.0</td>\n",
       "      <td>530.0</td>\n",
       "      <td>Samantha Morton</td>\n",
       "      <td>640.0</td>\n",
       "      <td>73058679.0</td>\n",
       "      <td>Action|Adventure|Sci-Fi</td>\n",
       "      <td>...</td>\n",
       "      <td>738.0</td>\n",
       "      <td>English</td>\n",
       "      <td>USA</td>\n",
       "      <td>PG-13</td>\n",
       "      <td>263700000.0</td>\n",
       "      <td>2012.0</td>\n",
       "      <td>632.0</td>\n",
       "      <td>6.6</td>\n",
       "      <td>2.35</td>\n",
       "      <td>24000</td>\n",
       "    </tr>\n",
       "    <tr>\n",
       "      <td>6</td>\n",
       "      <td>Color</td>\n",
       "      <td>Sam Raimi</td>\n",
       "      <td>392.0</td>\n",
       "      <td>156.0</td>\n",
       "      <td>0.0</td>\n",
       "      <td>4000.0</td>\n",
       "      <td>James Franco</td>\n",
       "      <td>24000.0</td>\n",
       "      <td>336530303.0</td>\n",
       "      <td>Action|Adventure|Romance</td>\n",
       "      <td>...</td>\n",
       "      <td>1902.0</td>\n",
       "      <td>English</td>\n",
       "      <td>USA</td>\n",
       "      <td>PG-13</td>\n",
       "      <td>258000000.0</td>\n",
       "      <td>2007.0</td>\n",
       "      <td>11000.0</td>\n",
       "      <td>6.2</td>\n",
       "      <td>2.35</td>\n",
       "      <td>0</td>\n",
       "    </tr>\n",
       "    <tr>\n",
       "      <td>7</td>\n",
       "      <td>Color</td>\n",
       "      <td>Nathan Greno</td>\n",
       "      <td>324.0</td>\n",
       "      <td>100.0</td>\n",
       "      <td>15.0</td>\n",
       "      <td>284.0</td>\n",
       "      <td>Donna Murphy</td>\n",
       "      <td>799.0</td>\n",
       "      <td>200807262.0</td>\n",
       "      <td>Adventure|Animation|Comedy|Family|Fantasy|Musi...</td>\n",
       "      <td>...</td>\n",
       "      <td>387.0</td>\n",
       "      <td>English</td>\n",
       "      <td>USA</td>\n",
       "      <td>PG</td>\n",
       "      <td>260000000.0</td>\n",
       "      <td>2010.0</td>\n",
       "      <td>553.0</td>\n",
       "      <td>7.8</td>\n",
       "      <td>1.85</td>\n",
       "      <td>29000</td>\n",
       "    </tr>\n",
       "    <tr>\n",
       "      <td>8</td>\n",
       "      <td>Color</td>\n",
       "      <td>Joss Whedon</td>\n",
       "      <td>635.0</td>\n",
       "      <td>141.0</td>\n",
       "      <td>0.0</td>\n",
       "      <td>19000.0</td>\n",
       "      <td>Robert Downey Jr.</td>\n",
       "      <td>26000.0</td>\n",
       "      <td>458991599.0</td>\n",
       "      <td>Action|Adventure|Sci-Fi</td>\n",
       "      <td>...</td>\n",
       "      <td>1117.0</td>\n",
       "      <td>English</td>\n",
       "      <td>USA</td>\n",
       "      <td>PG-13</td>\n",
       "      <td>250000000.0</td>\n",
       "      <td>2015.0</td>\n",
       "      <td>21000.0</td>\n",
       "      <td>7.5</td>\n",
       "      <td>2.35</td>\n",
       "      <td>118000</td>\n",
       "    </tr>\n",
       "    <tr>\n",
       "      <td>9</td>\n",
       "      <td>Color</td>\n",
       "      <td>David Yates</td>\n",
       "      <td>375.0</td>\n",
       "      <td>153.0</td>\n",
       "      <td>282.0</td>\n",
       "      <td>10000.0</td>\n",
       "      <td>Daniel Radcliffe</td>\n",
       "      <td>25000.0</td>\n",
       "      <td>301956980.0</td>\n",
       "      <td>Adventure|Family|Fantasy|Mystery</td>\n",
       "      <td>...</td>\n",
       "      <td>973.0</td>\n",
       "      <td>English</td>\n",
       "      <td>UK</td>\n",
       "      <td>PG</td>\n",
       "      <td>250000000.0</td>\n",
       "      <td>2009.0</td>\n",
       "      <td>11000.0</td>\n",
       "      <td>7.5</td>\n",
       "      <td>2.35</td>\n",
       "      <td>10000</td>\n",
       "    </tr>\n",
       "  </tbody>\n",
       "</table>\n",
       "<p>10 rows × 28 columns</p>\n",
       "</div>"
      ],
      "text/plain": [
       "   color      director_name  num_critic_for_reviews  duration  \\\n",
       "0  Color      James Cameron                   723.0     178.0   \n",
       "1  Color     Gore Verbinski                   302.0     169.0   \n",
       "2  Color         Sam Mendes                   602.0     148.0   \n",
       "3  Color  Christopher Nolan                   813.0     164.0   \n",
       "4    NaN        Doug Walker                     NaN       NaN   \n",
       "5  Color     Andrew Stanton                   462.0     132.0   \n",
       "6  Color          Sam Raimi                   392.0     156.0   \n",
       "7  Color       Nathan Greno                   324.0     100.0   \n",
       "8  Color        Joss Whedon                   635.0     141.0   \n",
       "9  Color        David Yates                   375.0     153.0   \n",
       "\n",
       "   director_facebook_likes  actor_3_facebook_likes       actor_2_name  \\\n",
       "0                      0.0                   855.0   Joel David Moore   \n",
       "1                    563.0                  1000.0      Orlando Bloom   \n",
       "2                      0.0                   161.0       Rory Kinnear   \n",
       "3                  22000.0                 23000.0     Christian Bale   \n",
       "4                    131.0                     NaN         Rob Walker   \n",
       "5                    475.0                   530.0    Samantha Morton   \n",
       "6                      0.0                  4000.0       James Franco   \n",
       "7                     15.0                   284.0       Donna Murphy   \n",
       "8                      0.0                 19000.0  Robert Downey Jr.   \n",
       "9                    282.0                 10000.0   Daniel Radcliffe   \n",
       "\n",
       "   actor_1_facebook_likes        gross  \\\n",
       "0                  1000.0  760505847.0   \n",
       "1                 40000.0  309404152.0   \n",
       "2                 11000.0  200074175.0   \n",
       "3                 27000.0  448130642.0   \n",
       "4                   131.0          NaN   \n",
       "5                   640.0   73058679.0   \n",
       "6                 24000.0  336530303.0   \n",
       "7                   799.0  200807262.0   \n",
       "8                 26000.0  458991599.0   \n",
       "9                 25000.0  301956980.0   \n",
       "\n",
       "                                              genres  ...  \\\n",
       "0                    Action|Adventure|Fantasy|Sci-Fi  ...   \n",
       "1                           Action|Adventure|Fantasy  ...   \n",
       "2                          Action|Adventure|Thriller  ...   \n",
       "3                                    Action|Thriller  ...   \n",
       "4                                        Documentary  ...   \n",
       "5                            Action|Adventure|Sci-Fi  ...   \n",
       "6                           Action|Adventure|Romance  ...   \n",
       "7  Adventure|Animation|Comedy|Family|Fantasy|Musi...  ...   \n",
       "8                            Action|Adventure|Sci-Fi  ...   \n",
       "9                   Adventure|Family|Fantasy|Mystery  ...   \n",
       "\n",
       "  num_user_for_reviews language  country  content_rating       budget  \\\n",
       "0               3054.0  English      USA           PG-13  237000000.0   \n",
       "1               1238.0  English      USA           PG-13  300000000.0   \n",
       "2                994.0  English       UK           PG-13  245000000.0   \n",
       "3               2701.0  English      USA           PG-13  250000000.0   \n",
       "4                  NaN      NaN      NaN             NaN          NaN   \n",
       "5                738.0  English      USA           PG-13  263700000.0   \n",
       "6               1902.0  English      USA           PG-13  258000000.0   \n",
       "7                387.0  English      USA              PG  260000000.0   \n",
       "8               1117.0  English      USA           PG-13  250000000.0   \n",
       "9                973.0  English       UK              PG  250000000.0   \n",
       "\n",
       "   title_year actor_2_facebook_likes imdb_score  aspect_ratio  \\\n",
       "0      2009.0                  936.0        7.9          1.78   \n",
       "1      2007.0                 5000.0        7.1          2.35   \n",
       "2      2015.0                  393.0        6.8          2.35   \n",
       "3      2012.0                23000.0        8.5          2.35   \n",
       "4         NaN                   12.0        7.1           NaN   \n",
       "5      2012.0                  632.0        6.6          2.35   \n",
       "6      2007.0                11000.0        6.2          2.35   \n",
       "7      2010.0                  553.0        7.8          1.85   \n",
       "8      2015.0                21000.0        7.5          2.35   \n",
       "9      2009.0                11000.0        7.5          2.35   \n",
       "\n",
       "  movie_facebook_likes  \n",
       "0                33000  \n",
       "1                    0  \n",
       "2                85000  \n",
       "3               164000  \n",
       "4                    0  \n",
       "5                24000  \n",
       "6                    0  \n",
       "7                29000  \n",
       "8               118000  \n",
       "9                10000  \n",
       "\n",
       "[10 rows x 28 columns]"
      ]
     },
     "execution_count": 49,
     "metadata": {},
     "output_type": "execute_result"
    }
   ],
   "source": [
    "df.head(n=10)"
   ]
  },
  {
   "cell_type": "code",
   "execution_count": 50,
   "metadata": {},
   "outputs": [
    {
     "name": "stdout",
     "output_type": "stream",
     "text": [
      "Index(['color', 'director_name', 'num_critic_for_reviews', 'duration',\n",
      "       'director_facebook_likes', 'actor_3_facebook_likes', 'actor_2_name',\n",
      "       'actor_1_facebook_likes', 'gross', 'genres', 'actor_1_name',\n",
      "       'movie_title', 'num_voted_users', 'cast_total_facebook_likes',\n",
      "       'actor_3_name', 'facenumber_in_poster', 'plot_keywords',\n",
      "       'movie_imdb_link', 'num_user_for_reviews', 'language', 'country',\n",
      "       'content_rating', 'budget', 'title_year', 'actor_2_facebook_likes',\n",
      "       'imdb_score', 'aspect_ratio', 'movie_facebook_likes'],\n",
      "      dtype='object')\n"
     ]
    }
   ],
   "source": [
    "l=df.columns\n",
    "print(l)"
   ]
  },
  {
   "cell_type": "code",
   "execution_count": 51,
   "metadata": {},
   "outputs": [
    {
     "name": "stdout",
     "output_type": "stream",
     "text": [
      "0       7.9\n",
      "1       7.1\n",
      "2       6.8\n",
      "3       8.5\n",
      "4       7.1\n",
      "       ... \n",
      "5038    7.7\n",
      "5039    7.5\n",
      "5040    6.3\n",
      "5041    6.3\n",
      "5042    6.6\n",
      "Name: imdb_score, Length: 5043, dtype: float64\n"
     ]
    },
    {
     "data": {
      "text/plain": [
       "pandas.core.series.Series"
      ]
     },
     "execution_count": 51,
     "metadata": {},
     "output_type": "execute_result"
    }
   ],
   "source": [
    "score=df.get('imdb_score')\n",
    "print(score)\n",
    "type((score))"
   ]
  },
  {
   "cell_type": "code",
   "execution_count": 52,
   "metadata": {},
   "outputs": [
    {
     "data": {
      "text/plain": [
       "list"
      ]
     },
     "execution_count": 52,
     "metadata": {},
     "output_type": "execute_result"
    }
   ],
   "source": [
    "score=list(df.get('imdb_score'))\n",
    "type((score))"
   ]
  },
  {
   "cell_type": "code",
   "execution_count": 53,
   "metadata": {},
   "outputs": [
    {
     "data": {
      "text/plain": [
       "[7.9,\n",
       " 7.1,\n",
       " 6.8,\n",
       " 8.5,\n",
       " 7.1,\n",
       " 6.6,\n",
       " 6.2,\n",
       " 7.8,\n",
       " 7.5,\n",
       " 7.5,\n",
       " 6.9,\n",
       " 6.1,\n",
       " 6.7,\n",
       " 7.3,\n",
       " 6.5,\n",
       " 7.2,\n",
       " 6.6,\n",
       " 8.1,\n",
       " 6.7,\n",
       " 6.8,\n",
       " 7.5,\n",
       " 7.0,\n",
       " 6.7,\n",
       " 7.9,\n",
       " 6.1,\n",
       " 7.2,\n",
       " 7.7,\n",
       " 8.2,\n",
       " 5.9,\n",
       " 7.0,\n",
       " 7.8,\n",
       " 7.3,\n",
       " 7.2,\n",
       " 6.5,\n",
       " 6.8,\n",
       " 7.3,\n",
       " 6.0,\n",
       " 5.7,\n",
       " 6.4,\n",
       " 6.7,\n",
       " 6.8,\n",
       " 6.3,\n",
       " 5.6,\n",
       " 8.3,\n",
       " 6.6,\n",
       " 7.2,\n",
       " 7.0,\n",
       " 8.0,\n",
       " 7.8,\n",
       " 6.3,\n",
       " 7.3,\n",
       " 6.6,\n",
       " 7.0,\n",
       " 6.3,\n",
       " 6.2,\n",
       " 6.8,\n",
       " 7.2,\n",
       " 7.5,\n",
       " 8.4,\n",
       " 6.2,\n",
       " 5.8,\n",
       " 6.8,\n",
       " 5.4,\n",
       " 6.6,\n",
       " 6.9,\n",
       " 7.3,\n",
       " 9.0,\n",
       " 8.3,\n",
       " 6.5,\n",
       " 7.9,\n",
       " 7.5,\n",
       " 4.8,\n",
       " 5.2,\n",
       " 6.9,\n",
       " 5.4,\n",
       " 7.9,\n",
       " 6.1,\n",
       " 5.8,\n",
       " 8.3,\n",
       " 7.8,\n",
       " 7.0,\n",
       " 6.1,\n",
       " 7.0,\n",
       " 7.6,\n",
       " 4.5,\n",
       " 6.3,\n",
       " 7.8,\n",
       " 6.4,\n",
       " 6.5,\n",
       " 7.9,\n",
       " 7.8,\n",
       " 6.6,\n",
       " 5.5,\n",
       " 8.2,\n",
       " 6.4,\n",
       " 8.1,\n",
       " 8.6,\n",
       " 8.8,\n",
       " 8.2,\n",
       " 7.9,\n",
       " 6.7,\n",
       " 7.8,\n",
       " 7.8,\n",
       " 6.6,\n",
       " 6.1,\n",
       " 5.6,\n",
       " 6.4,\n",
       " 6.1,\n",
       " 7.3,\n",
       " 6.6,\n",
       " 6.3,\n",
       " 6.1,\n",
       " 7.1,\n",
       " 5.5,\n",
       " 7.5,\n",
       " 7.6,\n",
       " 6.4,\n",
       " 7.2,\n",
       " 6.7,\n",
       " 8.0,\n",
       " 8.3,\n",
       " 6.7,\n",
       " 5.9,\n",
       " 6.7,\n",
       " 6.7,\n",
       " 7.6,\n",
       " 7.2,\n",
       " 7.1,\n",
       " 8.1,\n",
       " 6.7,\n",
       " 7.0,\n",
       " 6.9,\n",
       " 5.1,\n",
       " 5.8,\n",
       " 6.2,\n",
       " 7.4,\n",
       " 5.8,\n",
       " 6.6,\n",
       " 6.2,\n",
       " 7.3,\n",
       " 4.2,\n",
       " 6.9,\n",
       " 6.4,\n",
       " 5.4,\n",
       " 6.7,\n",
       " 5.8,\n",
       " 6.9,\n",
       " 7.2,\n",
       " 6.9,\n",
       " 6.1,\n",
       " 5.5,\n",
       " 6.6,\n",
       " 6.1,\n",
       " 6.3,\n",
       " 7.2,\n",
       " 7.4,\n",
       " 7.3,\n",
       " 6.1,\n",
       " 7.7,\n",
       " 6.1,\n",
       " 8.0,\n",
       " 7.3,\n",
       " 7.9,\n",
       " 5.5,\n",
       " 5.0,\n",
       " 7.7,\n",
       " 6.6,\n",
       " 5.7,\n",
       " 5.8,\n",
       " 6.0,\n",
       " 6.4,\n",
       " 6.9,\n",
       " 6.4,\n",
       " 7.4,\n",
       " 5.5,\n",
       " 5.9,\n",
       " 6.8,\n",
       " 7.5,\n",
       " 6.8,\n",
       " 8.1,\n",
       " 6.5,\n",
       " 7.2,\n",
       " 6.7,\n",
       " 8.1,\n",
       " 7.6,\n",
       " 7.4,\n",
       " 7.6,\n",
       " 5.5,\n",
       " 6.7,\n",
       " 6.5,\n",
       " 6.6,\n",
       " 6.7,\n",
       " 6.4,\n",
       " 5.8,\n",
       " 7.4,\n",
       " 7.8,\n",
       " 6.6,\n",
       " 4.9,\n",
       " 6.5,\n",
       " 7.5,\n",
       " 6.2,\n",
       " 7.3,\n",
       " 7.5,\n",
       " 5.6,\n",
       " 8.2,\n",
       " 8.1,\n",
       " 6.4,\n",
       " 6.7,\n",
       " 6.6,\n",
       " 6.4,\n",
       " 7.5,\n",
       " 7.3,\n",
       " 7.5,\n",
       " 5.8,\n",
       " 7.5,\n",
       " 6.6,\n",
       " 6.7,\n",
       " 3.7,\n",
       " 6.0,\n",
       " 6.4,\n",
       " 6.1,\n",
       " 6.4,\n",
       " 5.6,\n",
       " 8.0,\n",
       " 5.2,\n",
       " 7.1,\n",
       " 4.8,\n",
       " 7.0,\n",
       " 5.4,\n",
       " 6.6,\n",
       " 6.7,\n",
       " 6.2,\n",
       " 6.1,\n",
       " 5.3,\n",
       " 6.3,\n",
       " 7.0,\n",
       " 7.6,\n",
       " 6.7,\n",
       " 8.1,\n",
       " 6.7,\n",
       " 6.5,\n",
       " 7.3,\n",
       " 5.1,\n",
       " 6.0,\n",
       " 6.1,\n",
       " 5.9,\n",
       " 7.8,\n",
       " 5.8,\n",
       " 6.3,\n",
       " 4.3,\n",
       " 6.4,\n",
       " 6.1,\n",
       " 6.5,\n",
       " 7.1,\n",
       " 6.4,\n",
       " 6.5,\n",
       " 6.3,\n",
       " 7.5,\n",
       " 4.9,\n",
       " 5.8,\n",
       " 7.6,\n",
       " 6.2,\n",
       " 5.5,\n",
       " 5.4,\n",
       " 5.8,\n",
       " 7.1,\n",
       " 5.4,\n",
       " 3.7,\n",
       " 6.7,\n",
       " 7.2,\n",
       " 8.8,\n",
       " 5.8,\n",
       " 6.8,\n",
       " 3.8,\n",
       " 7.1,\n",
       " 7.2,\n",
       " 5.9,\n",
       " 7.1,\n",
       " 8.1,\n",
       " 7.2,\n",
       " 6.9,\n",
       " 4.4,\n",
       " 6.5,\n",
       " 8.5,\n",
       " 7.7,\n",
       " 7.4,\n",
       " 8.0,\n",
       " 5.7,\n",
       " 8.5,\n",
       " 7.0,\n",
       " 7.8,\n",
       " 7.2,\n",
       " 6.4,\n",
       " 5.5,\n",
       " 6.7,\n",
       " 6.1,\n",
       " 8.5,\n",
       " 6.9,\n",
       " 7.3,\n",
       " 6.7,\n",
       " 6.9,\n",
       " 5.1,\n",
       " 6.8,\n",
       " 5.8,\n",
       " 6.7,\n",
       " 6.0,\n",
       " 5.7,\n",
       " 8.0,\n",
       " 8.2,\n",
       " 5.4,\n",
       " 7.2,\n",
       " 7.5,\n",
       " 7.0,\n",
       " 3.3,\n",
       " 6.0,\n",
       " 7.1,\n",
       " 5.4,\n",
       " 6.1,\n",
       " 5.3,\n",
       " 2.2,\n",
       " 7.0,\n",
       " 3.8,\n",
       " 6.9,\n",
       " 7.2,\n",
       " 7.3,\n",
       " 6.3,\n",
       " 7.5,\n",
       " 7.6,\n",
       " 6.8,\n",
       " 5.2,\n",
       " 7.7,\n",
       " 6.2,\n",
       " 7.7,\n",
       " 4.3,\n",
       " 6.9,\n",
       " 6.6,\n",
       " 7.0,\n",
       " 6.7,\n",
       " 8.2,\n",
       " 8.9,\n",
       " 8.7,\n",
       " 5.5,\n",
       " 5.7,\n",
       " 6.3,\n",
       " 5.9,\n",
       " 7.6,\n",
       " 6.6,\n",
       " 5.3,\n",
       " 6.0,\n",
       " 8.0,\n",
       " 5.6,\n",
       " 5.9,\n",
       " 7.3,\n",
       " 7.9,\n",
       " 6.8,\n",
       " 6.6,\n",
       " 6.6,\n",
       " 7.0,\n",
       " 7.0,\n",
       " 7.3,\n",
       " 5.5,\n",
       " 8.5,\n",
       " 7.5,\n",
       " 7.0,\n",
       " 7.8,\n",
       " 7.6,\n",
       " 7.6,\n",
       " 6.1,\n",
       " 6.8,\n",
       " 5.0,\n",
       " 7.1,\n",
       " 5.5,\n",
       " 5.6,\n",
       " 7.1,\n",
       " 4.9,\n",
       " 7.4,\n",
       " 5.7,\n",
       " 6.4,\n",
       " 5.9,\n",
       " 5.5,\n",
       " 6.9,\n",
       " 6.2,\n",
       " 7.0,\n",
       " 5.6,\n",
       " 7.0,\n",
       " 6.8,\n",
       " 5.4,\n",
       " 6.1,\n",
       " 6.7,\n",
       " 4.3,\n",
       " 6.9,\n",
       " 8.0,\n",
       " 4.4,\n",
       " 7.3,\n",
       " 6.3,\n",
       " 6.7,\n",
       " 7.7,\n",
       " 6.5,\n",
       " 7.8,\n",
       " 6.4,\n",
       " 7.8,\n",
       " 5.8,\n",
       " 7.1,\n",
       " 7.1,\n",
       " 8.6,\n",
       " 6.8,\n",
       " 4.8,\n",
       " 6.2,\n",
       " 6.9,\n",
       " 7.3,\n",
       " 6.6,\n",
       " 6.9,\n",
       " 6.2,\n",
       " 6.7,\n",
       " 7.6,\n",
       " 6.7,\n",
       " 6.2,\n",
       " 7.3,\n",
       " 6.0,\n",
       " 7.1,\n",
       " 7.1,\n",
       " 5.5,\n",
       " 7.8,\n",
       " 5.6,\n",
       " 7.5,\n",
       " 5.4,\n",
       " 4.3,\n",
       " 4.9,\n",
       " 7.1,\n",
       " 6.4,\n",
       " 6.9,\n",
       " 4.3,\n",
       " 6.1,\n",
       " 7.0,\n",
       " 7.7,\n",
       " 5.9,\n",
       " 6.7,\n",
       " 6.5,\n",
       " 7.1,\n",
       " 7.3,\n",
       " 6.5,\n",
       " 7.0,\n",
       " 6.8,\n",
       " 7.2,\n",
       " 6.4,\n",
       " 6.1,\n",
       " 6.7,\n",
       " 6.4,\n",
       " 4.4,\n",
       " 5.4,\n",
       " 6.5,\n",
       " 6.7,\n",
       " 8.1,\n",
       " 5.6,\n",
       " 6.3,\n",
       " 7.3,\n",
       " 6.1,\n",
       " 7.7,\n",
       " 6.4,\n",
       " 8.8,\n",
       " 6.8,\n",
       " 6.6,\n",
       " 7.2,\n",
       " 6.9,\n",
       " 5.2,\n",
       " 4.9,\n",
       " 6.3,\n",
       " 5.6,\n",
       " 5.5,\n",
       " 6.7,\n",
       " 7.6,\n",
       " 5.7,\n",
       " 4.6,\n",
       " 7.0,\n",
       " 5.2,\n",
       " 5.1,\n",
       " 6.6,\n",
       " 7.0,\n",
       " 6.7,\n",
       " 7.6,\n",
       " 7.3,\n",
       " 5.9,\n",
       " 5.6,\n",
       " 6.5,\n",
       " 5.9,\n",
       " 7.0,\n",
       " 5.3,\n",
       " 5.9,\n",
       " 6.3,\n",
       " 6.4,\n",
       " 6.9,\n",
       " 6.3,\n",
       " 7.3,\n",
       " 5.8,\n",
       " 5.2,\n",
       " 2.4,\n",
       " 5.7,\n",
       " 5.8,\n",
       " 5.6,\n",
       " 6.0,\n",
       " 5.8,\n",
       " 6.0,\n",
       " 5.7,\n",
       " 6.0,\n",
       " 7.8,\n",
       " 4.2,\n",
       " 5.6,\n",
       " 4.4,\n",
       " 8.2,\n",
       " 8.5,\n",
       " 5.8,\n",
       " 6.5,\n",
       " 7.2,\n",
       " 6.7,\n",
       " 3.4,\n",
       " 5.9,\n",
       " 7.8,\n",
       " 5.9,\n",
       " 4.1,\n",
       " 6.8,\n",
       " 5.8,\n",
       " 7.5,\n",
       " 6.9,\n",
       " 6.5,\n",
       " 6.9,\n",
       " 7.9,\n",
       " 7.4,\n",
       " 6.7,\n",
       " 7.4,\n",
       " 6.9,\n",
       " 6.8,\n",
       " 6.7,\n",
       " 5.1,\n",
       " 4.1,\n",
       " 7.3,\n",
       " 6.0,\n",
       " 7.3,\n",
       " 7.5,\n",
       " 5.4,\n",
       " 5.9,\n",
       " 7.1,\n",
       " 6.0,\n",
       " 6.5,\n",
       " 8.3,\n",
       " 5.7,\n",
       " 7.6,\n",
       " 6.6,\n",
       " 5.4,\n",
       " 7.3,\n",
       " 6.5,\n",
       " 6.6,\n",
       " 6.6,\n",
       " 5.9,\n",
       " 6.7,\n",
       " 6.1,\n",
       " 6.6,\n",
       " 6.6,\n",
       " 5.3,\n",
       " 6.0,\n",
       " 6.0,\n",
       " 4.7,\n",
       " 6.1,\n",
       " 7.2,\n",
       " 6.4,\n",
       " 6.1,\n",
       " 5.9,\n",
       " 6.0,\n",
       " 6.3,\n",
       " 5.6,\n",
       " 6.4,\n",
       " 7.1,\n",
       " 6.6,\n",
       " 4.6,\n",
       " 8.4,\n",
       " 7.1,\n",
       " 7.4,\n",
       " 6.9,\n",
       " 4.5,\n",
       " 7.1,\n",
       " 6.5,\n",
       " 5.3,\n",
       " 6.7,\n",
       " 7.2,\n",
       " 7.2,\n",
       " 5.5,\n",
       " 5.8,\n",
       " 6.0,\n",
       " 6.6,\n",
       " 8.3,\n",
       " 6.7,\n",
       " 6.0,\n",
       " 7.1,\n",
       " 6.0,\n",
       " 7.5,\n",
       " 6.9,\n",
       " 5.6,\n",
       " 5.6,\n",
       " 4.5,\n",
       " 7.1,\n",
       " 6.5,\n",
       " 6.4,\n",
       " 5.8,\n",
       " 8.0,\n",
       " 6.2,\n",
       " 7.2,\n",
       " 6.1,\n",
       " 7.6,\n",
       " 6.3,\n",
       " 6.3,\n",
       " 6.3,\n",
       " 7.7,\n",
       " 7.0,\n",
       " 5.3,\n",
       " 5.6,\n",
       " 5.2,\n",
       " 5.4,\n",
       " 6.4,\n",
       " 5.9,\n",
       " 6.3,\n",
       " 6.5,\n",
       " 3.0,\n",
       " 3.6,\n",
       " 5.8,\n",
       " 6.2,\n",
       " 5.6,\n",
       " 5.4,\n",
       " 6.1,\n",
       " 4.2,\n",
       " 6.7,\n",
       " 4.2,\n",
       " 6.4,\n",
       " 4.9,\n",
       " 6.8,\n",
       " 7.7,\n",
       " 5.6,\n",
       " 6.4,\n",
       " 7.2,\n",
       " 6.0,\n",
       " 5.9,\n",
       " 7.9,\n",
       " 6.8,\n",
       " 7.1,\n",
       " 5.9,\n",
       " 5.9,\n",
       " 6.2,\n",
       " 7.4,\n",
       " 7.0,\n",
       " 5.4,\n",
       " 8.6,\n",
       " 6.5,\n",
       " 6.4,\n",
       " 7.6,\n",
       " 5.5,\n",
       " 7.4,\n",
       " 8.7,\n",
       " 7.6,\n",
       " 7.5,\n",
       " 5.5,\n",
       " 7.6,\n",
       " 6.5,\n",
       " 6.9,\n",
       " 6.7,\n",
       " 6.6,\n",
       " 7.2,\n",
       " 6.4,\n",
       " 6.4,\n",
       " 6.0,\n",
       " 6.1,\n",
       " 6.0,\n",
       " 6.4,\n",
       " 6.4,\n",
       " 7.3,\n",
       " 5.2,\n",
       " 6.6,\n",
       " 6.3,\n",
       " 5.9,\n",
       " 6.4,\n",
       " 6.7,\n",
       " 5.4,\n",
       " 6.4,\n",
       " 6.7,\n",
       " 6.2,\n",
       " 6.1,\n",
       " 8.8,\n",
       " 7.1,\n",
       " 8.1,\n",
       " 5.7,\n",
       " 5.0,\n",
       " 5.1,\n",
       " 6.9,\n",
       " 4.8,\n",
       " 6.5,\n",
       " 5.1,\n",
       " 7.1,\n",
       " 7.5,\n",
       " 6.2,\n",
       " 6.3,\n",
       " 8.1,\n",
       " 6.6,\n",
       " 6.9,\n",
       " 6.1,\n",
       " 4.3,\n",
       " 6.6,\n",
       " 6.8,\n",
       " 3.8,\n",
       " 5.9,\n",
       " 7.9,\n",
       " 6.3,\n",
       " 5.5,\n",
       " 7.7,\n",
       " 6.3,\n",
       " 7.1,\n",
       " 8.5,\n",
       " 5.9,\n",
       " 5.8,\n",
       " 8.1,\n",
       " 7.9,\n",
       " 7.2,\n",
       " 6.3,\n",
       " 8.1,\n",
       " 7.0,\n",
       " 5.5,\n",
       " 6.7,\n",
       " 5.2,\n",
       " 7.0,\n",
       " 6.1,\n",
       " 6.6,\n",
       " 5.5,\n",
       " 5.9,\n",
       " 5.4,\n",
       " 6.4,\n",
       " 5.7,\n",
       " 6.7,\n",
       " 7.1,\n",
       " 6.8,\n",
       " 6.5,\n",
       " 7.6,\n",
       " 5.5,\n",
       " 6.5,\n",
       " 7.0,\n",
       " 5.8,\n",
       " 7.3,\n",
       " 6.6,\n",
       " 4.4,\n",
       " 7.7,\n",
       " 5.0,\n",
       " 7.7,\n",
       " 4.4,\n",
       " 6.1,\n",
       " 5.4,\n",
       " 6.8,\n",
       " 6.5,\n",
       " 7.0,\n",
       " 6.3,\n",
       " 6.3,\n",
       " 6.1,\n",
       " 6.1,\n",
       " 7.3,\n",
       " 5.3,\n",
       " 5.4,\n",
       " 6.2,\n",
       " 6.6,\n",
       " 5.9,\n",
       " 6.3,\n",
       " 7.2,\n",
       " 6.8,\n",
       " 6.1,\n",
       " 7.8,\n",
       " 5.0,\n",
       " 6.2,\n",
       " 6.7,\n",
       " 4.9,\n",
       " 7.4,\n",
       " 7.1,\n",
       " 6.2,\n",
       " 4.9,\n",
       " 6.1,\n",
       " 6.1,\n",
       " 6.4,\n",
       " 6.3,\n",
       " 6.8,\n",
       " 6.6,\n",
       " 5.7,\n",
       " 5.9,\n",
       " 6.0,\n",
       " 6.1,\n",
       " 6.7,\n",
       " 6.7,\n",
       " 7.9,\n",
       " 5.0,\n",
       " 4.3,\n",
       " 5.7,\n",
       " 6.7,\n",
       " 6.7,\n",
       " 8.1,\n",
       " 6.1,\n",
       " 5.6,\n",
       " 6.6,\n",
       " 6.9,\n",
       " 4.8,\n",
       " 6.2,\n",
       " 6.0,\n",
       " 4.9,\n",
       " 5.6,\n",
       " 6.1,\n",
       " 6.1,\n",
       " 4.8,\n",
       " 5.5,\n",
       " 3.8,\n",
       " 6.5,\n",
       " 6.0,\n",
       " 6.7,\n",
       " 8.1,\n",
       " 4.9,\n",
       " 7.3,\n",
       " 6.4,\n",
       " 6.6,\n",
       " 6.7,\n",
       " 3.6,\n",
       " 5.7,\n",
       " 6.0,\n",
       " 4.9,\n",
       " 4.7,\n",
       " 6.3,\n",
       " 5.9,\n",
       " 5.9,\n",
       " 7.0,\n",
       " 7.5,\n",
       " 5.6,\n",
       " 6.4,\n",
       " 6.3,\n",
       " 4.3,\n",
       " 5.9,\n",
       " 6.7,\n",
       " 5.5,\n",
       " 6.2,\n",
       " 8.8,\n",
       " 5.2,\n",
       " 7.0,\n",
       " 6.6,\n",
       " 7.3,\n",
       " 5.6,\n",
       " 6.6,\n",
       " 5.4,\n",
       " 6.3,\n",
       " 7.9,\n",
       " 6.3,\n",
       " 6.0,\n",
       " 7.2,\n",
       " 5.1,\n",
       " 7.3,\n",
       " 8.0,\n",
       " 6.2,\n",
       " 6.0,\n",
       " 6.7,\n",
       " 8.1,\n",
       " 6.4,\n",
       " 8.4,\n",
       " 8.0,\n",
       " 6.3,\n",
       " 6.4,\n",
       " 6.6,\n",
       " 6.4,\n",
       " 6.0,\n",
       " 6.6,\n",
       " 5.9,\n",
       " 6.4,\n",
       " 6.3,\n",
       " 7.3,\n",
       " 6.8,\n",
       " 7.2,\n",
       " 5.7,\n",
       " 6.0,\n",
       " 6.5,\n",
       " 5.8,\n",
       " 5.8,\n",
       " 6.7,\n",
       " 7.8,\n",
       " 5.6,\n",
       " 5.8,\n",
       " 7.4,\n",
       " 6.9,\n",
       " 5.5,\n",
       " 6.3,\n",
       " 4.7,\n",
       " 5.6,\n",
       " 6.4,\n",
       " 4.2,\n",
       " 6.4,\n",
       " 7.7,\n",
       " 7.7,\n",
       " 5.3,\n",
       " 6.7,\n",
       " 7.7,\n",
       " 5.7,\n",
       " 7.6,\n",
       " 6.4,\n",
       " 5.6,\n",
       " 6.8,\n",
       " 2.4,\n",
       " 6.2,\n",
       " 5.9,\n",
       " 7.1,\n",
       " 7.6,\n",
       " 5.5,\n",
       " 7.0,\n",
       " 7.1,\n",
       " 7.4,\n",
       " 7.6,\n",
       " 5.9,\n",
       " 5.9,\n",
       " 8.0,\n",
       " 7.4,\n",
       " 5.8,\n",
       " 6.3,\n",
       " 5.7,\n",
       " 5.1,\n",
       " 7.6,\n",
       " 6.4,\n",
       " 7.4,\n",
       " 8.2,\n",
       " 6.5,\n",
       " 5.5,\n",
       " 6.5,\n",
       " 5.6,\n",
       " 4.9,\n",
       " 4.6,\n",
       " 7.9,\n",
       " 7.1,\n",
       " 6.9,\n",
       " 7.3,\n",
       " 7.0,\n",
       " 7.7,\n",
       " 6.7,\n",
       " 6.3,\n",
       " 5.8,\n",
       " 7.1,\n",
       " 7.3,\n",
       " 6.4,\n",
       " 7.1,\n",
       " 7.6,\n",
       " 6.8,\n",
       " 6.6,\n",
       " 6.7,\n",
       " 6.1,\n",
       " 6.0,\n",
       " 7.6,\n",
       " 7.1,\n",
       " 5.0,\n",
       " 7.1,\n",
       " 6.2,\n",
       " 5.6,\n",
       " 5.4,\n",
       " 7.4,\n",
       " 5.0,\n",
       " 5.2,\n",
       " 7.6,\n",
       " 6.6,\n",
       " 7.0,\n",
       " 5.7,\n",
       " 8.2,\n",
       " 6.2,\n",
       " 7.9,\n",
       " 6.6,\n",
       " 4.7,\n",
       " 6.3,\n",
       " 6.1,\n",
       " 6.7,\n",
       " 6.1,\n",
       " 7.0,\n",
       " 7.4,\n",
       " 7.3,\n",
       " 5.8,\n",
       " 6.7,\n",
       " 5.8,\n",
       " 7.8,\n",
       " 6.6,\n",
       " 6.5,\n",
       " 6.7,\n",
       " 7.3,\n",
       " 5.8,\n",
       " 5.5,\n",
       " 6.3,\n",
       " 7.4,\n",
       " 5.9,\n",
       " 6.2,\n",
       " 5.9,\n",
       " 6.5,\n",
       " 4.4,\n",
       " 3.5,\n",
       " 6.6,\n",
       " 6.0,\n",
       " 6.4,\n",
       " 6.5,\n",
       " 7.8,\n",
       " 4.3,\n",
       " 4.2,\n",
       " 6.5,\n",
       " 6.1,\n",
       " 6.3,\n",
       " ...]"
      ]
     },
     "execution_count": 53,
     "metadata": {},
     "output_type": "execute_result"
    }
   ],
   "source": [
    "score"
   ]
  },
  {
   "cell_type": "code",
   "execution_count": 54,
   "metadata": {},
   "outputs": [
    {
     "data": {
      "text/plain": [
       "pandas.core.frame.DataFrame"
      ]
     },
     "execution_count": 54,
     "metadata": {},
     "output_type": "execute_result"
    }
   ],
   "source": [
    "type(df)"
   ]
  },
  {
   "cell_type": "code",
   "execution_count": 55,
   "metadata": {},
   "outputs": [],
   "source": [
    "data=df.values #numpy array"
   ]
  },
  {
   "cell_type": "code",
   "execution_count": 56,
   "metadata": {},
   "outputs": [
    {
     "name": "stdout",
     "output_type": "stream",
     "text": [
      "(5043, 28)\n"
     ]
    }
   ],
   "source": [
    "print(data.shape)"
   ]
  },
  {
   "cell_type": "markdown",
   "metadata": {},
   "source": [
    "# Some insights"
   ]
  },
  {
   "cell_type": "code",
   "execution_count": 62,
   "metadata": {},
   "outputs": [
    {
     "name": "stdout",
     "output_type": "stream",
     "text": [
      "Index(['color', 'director_name', 'num_critic_for_reviews', 'duration',\n",
      "       'director_facebook_likes', 'actor_3_facebook_likes', 'actor_2_name',\n",
      "       'actor_1_facebook_likes', 'gross', 'genres', 'actor_1_name',\n",
      "       'movie_title', 'num_voted_users', 'cast_total_facebook_likes',\n",
      "       'actor_3_name', 'facenumber_in_poster', 'plot_keywords',\n",
      "       'movie_imdb_link', 'num_user_for_reviews', 'language', 'country',\n",
      "       'content_rating', 'budget', 'title_year', 'actor_2_facebook_likes',\n",
      "       'imdb_score', 'aspect_ratio', 'movie_facebook_likes'],\n",
      "      dtype='object')\n"
     ]
    }
   ],
   "source": [
    "#Dataframe\n",
    "#Plot X-len (MovieName),Y-Freq\n",
    "df=pd.read_csv('movie_metadata.csv')\n",
    "df.head()\n",
    "l=df.columns #list type\n",
    "print(l)"
   ]
  },
  {
   "cell_type": "code",
   "execution_count": 67,
   "metadata": {},
   "outputs": [
    {
     "name": "stdout",
     "output_type": "stream",
     "text": [
      "0       7.9\n",
      "1       7.1\n",
      "2       6.8\n",
      "3       8.5\n",
      "4       7.1\n",
      "       ... \n",
      "5038    7.7\n",
      "5039    7.5\n",
      "5040    6.3\n",
      "5041    6.3\n",
      "5042    6.6\n",
      "Name: imdb_score, Length: 5043, dtype: float64\n"
     ]
    }
   ],
   "source": [
    "score=df.get('imdb_score')\n",
    "print(score)"
   ]
  },
  {
   "cell_type": "code",
   "execution_count": 68,
   "metadata": {},
   "outputs": [
    {
     "data": {
      "text/plain": [
       "pandas.core.series.Series"
      ]
     },
     "execution_count": 68,
     "metadata": {},
     "output_type": "execute_result"
    }
   ],
   "source": [
    "len(score)\n",
    "type(score)"
   ]
  },
  {
   "cell_type": "code",
   "execution_count": 69,
   "metadata": {},
   "outputs": [
    {
     "name": "stdout",
     "output_type": "stream",
     "text": [
      "[7.9, 7.1, 6.8, 8.5, 7.1, 6.6, 6.2, 7.8, 7.5, 7.5, 6.9, 6.1, 6.7, 7.3, 6.5, 7.2, 6.6, 8.1, 6.7, 6.8, 7.5, 7.0, 6.7, 7.9, 6.1, 7.2, 7.7, 8.2, 5.9, 7.0, 7.8, 7.3, 7.2, 6.5, 6.8, 7.3, 6.0, 5.7, 6.4, 6.7, 6.8, 6.3, 5.6, 8.3, 6.6, 7.2, 7.0, 8.0, 7.8, 6.3, 7.3, 6.6, 7.0, 6.3, 6.2, 6.8, 7.2, 7.5, 8.4, 6.2, 5.8, 6.8, 5.4, 6.6, 6.9, 7.3, 9.0, 8.3, 6.5, 7.9, 7.5, 4.8, 5.2, 6.9, 5.4, 7.9, 6.1, 5.8, 8.3, 7.8, 7.0, 6.1, 7.0, 7.6, 4.5, 6.3, 7.8, 6.4, 6.5, 7.9, 7.8, 6.6, 5.5, 8.2, 6.4, 8.1, 8.6, 8.8, 8.2, 7.9, 6.7, 7.8, 7.8, 6.6, 6.1, 5.6, 6.4, 6.1, 7.3, 6.6, 6.3, 6.1, 7.1, 5.5, 7.5, 7.6, 6.4, 7.2, 6.7, 8.0, 8.3, 6.7, 5.9, 6.7, 6.7, 7.6, 7.2, 7.1, 8.1, 6.7, 7.0, 6.9, 5.1, 5.8, 6.2, 7.4, 5.8, 6.6, 6.2, 7.3, 4.2, 6.9, 6.4, 5.4, 6.7, 5.8, 6.9, 7.2, 6.9, 6.1, 5.5, 6.6, 6.1, 6.3, 7.2, 7.4, 7.3, 6.1, 7.7, 6.1, 8.0, 7.3, 7.9, 5.5, 5.0, 7.7, 6.6, 5.7, 5.8, 6.0, 6.4, 6.9, 6.4, 7.4, 5.5, 5.9, 6.8, 7.5, 6.8, 8.1, 6.5, 7.2, 6.7, 8.1, 7.6, 7.4, 7.6, 5.5, 6.7, 6.5, 6.6, 6.7, 6.4, 5.8, 7.4, 7.8, 6.6, 4.9, 6.5, 7.5, 6.2, 7.3, 7.5, 5.6, 8.2, 8.1, 6.4, 6.7, 6.6, 6.4, 7.5, 7.3, 7.5, 5.8, 7.5, 6.6, 6.7, 3.7, 6.0, 6.4, 6.1, 6.4, 5.6, 8.0, 5.2, 7.1, 4.8, 7.0, 5.4, 6.6, 6.7, 6.2, 6.1, 5.3, 6.3, 7.0, 7.6, 6.7, 8.1, 6.7, 6.5, 7.3, 5.1, 6.0, 6.1, 5.9, 7.8, 5.8, 6.3, 4.3, 6.4, 6.1, 6.5, 7.1, 6.4, 6.5, 6.3, 7.5, 4.9, 5.8, 7.6, 6.2, 5.5, 5.4, 5.8, 7.1, 5.4, 3.7, 6.7, 7.2, 8.8, 5.8, 6.8, 3.8, 7.1, 7.2, 5.9, 7.1, 8.1, 7.2, 6.9, 4.4, 6.5, 8.5, 7.7, 7.4, 8.0, 5.7, 8.5, 7.0, 7.8, 7.2, 6.4, 5.5, 6.7, 6.1, 8.5, 6.9, 7.3, 6.7, 6.9, 5.1, 6.8, 5.8, 6.7, 6.0, 5.7, 8.0, 8.2, 5.4, 7.2, 7.5, 7.0, 3.3, 6.0, 7.1, 5.4, 6.1, 5.3, 2.2, 7.0, 3.8, 6.9, 7.2, 7.3, 6.3, 7.5, 7.6, 6.8, 5.2, 7.7, 6.2, 7.7, 4.3, 6.9, 6.6, 7.0, 6.7, 8.2, 8.9, 8.7, 5.5, 5.7, 6.3, 5.9, 7.6, 6.6, 5.3, 6.0, 8.0, 5.6, 5.9, 7.3, 7.9, 6.8, 6.6, 6.6, 7.0, 7.0, 7.3, 5.5, 8.5, 7.5, 7.0, 7.8, 7.6, 7.6, 6.1, 6.8, 5.0, 7.1, 5.5, 5.6, 7.1, 4.9, 7.4, 5.7, 6.4, 5.9, 5.5, 6.9, 6.2, 7.0, 5.6, 7.0, 6.8, 5.4, 6.1, 6.7, 4.3, 6.9, 8.0, 4.4, 7.3, 6.3, 6.7, 7.7, 6.5, 7.8, 6.4, 7.8, 5.8, 7.1, 7.1, 8.6, 6.8, 4.8, 6.2, 6.9, 7.3, 6.6, 6.9, 6.2, 6.7, 7.6, 6.7, 6.2, 7.3, 6.0, 7.1, 7.1, 5.5, 7.8, 5.6, 7.5, 5.4, 4.3, 4.9, 7.1, 6.4, 6.9, 4.3, 6.1, 7.0, 7.7, 5.9, 6.7, 6.5, 7.1, 7.3, 6.5, 7.0, 6.8, 7.2, 6.4, 6.1, 6.7, 6.4, 4.4, 5.4, 6.5, 6.7, 8.1, 5.6, 6.3, 7.3, 6.1, 7.7, 6.4, 8.8, 6.8, 6.6, 7.2, 6.9, 5.2, 4.9, 6.3, 5.6, 5.5, 6.7, 7.6, 5.7, 4.6, 7.0, 5.2, 5.1, 6.6, 7.0, 6.7, 7.6, 7.3, 5.9, 5.6, 6.5, 5.9, 7.0, 5.3, 5.9, 6.3, 6.4, 6.9, 6.3, 7.3, 5.8, 5.2, 2.4, 5.7, 5.8, 5.6, 6.0, 5.8, 6.0, 5.7, 6.0, 7.8, 4.2, 5.6, 4.4, 8.2, 8.5, 5.8, 6.5, 7.2, 6.7, 3.4, 5.9, 7.8, 5.9, 4.1, 6.8, 5.8, 7.5, 6.9, 6.5, 6.9, 7.9, 7.4, 6.7, 7.4, 6.9, 6.8, 6.7, 5.1, 4.1, 7.3, 6.0, 7.3, 7.5, 5.4, 5.9, 7.1, 6.0, 6.5, 8.3, 5.7, 7.6, 6.6, 5.4, 7.3, 6.5, 6.6, 6.6, 5.9, 6.7, 6.1, 6.6, 6.6, 5.3, 6.0, 6.0, 4.7, 6.1, 7.2, 6.4, 6.1, 5.9, 6.0, 6.3, 5.6, 6.4, 7.1, 6.6, 4.6, 8.4, 7.1, 7.4, 6.9, 4.5, 7.1, 6.5, 5.3, 6.7, 7.2, 7.2, 5.5, 5.8, 6.0, 6.6, 8.3, 6.7, 6.0, 7.1, 6.0, 7.5, 6.9, 5.6, 5.6, 4.5, 7.1, 6.5, 6.4, 5.8, 8.0, 6.2, 7.2, 6.1, 7.6, 6.3, 6.3, 6.3, 7.7, 7.0, 5.3, 5.6, 5.2, 5.4, 6.4, 5.9, 6.3, 6.5, 3.0, 3.6, 5.8, 6.2, 5.6, 5.4, 6.1, 4.2, 6.7, 4.2, 6.4, 4.9, 6.8, 7.7, 5.6, 6.4, 7.2, 6.0, 5.9, 7.9, 6.8, 7.1, 5.9, 5.9, 6.2, 7.4, 7.0, 5.4, 8.6, 6.5, 6.4, 7.6, 5.5, 7.4, 8.7, 7.6, 7.5, 5.5, 7.6, 6.5, 6.9, 6.7, 6.6, 7.2, 6.4, 6.4, 6.0, 6.1, 6.0, 6.4, 6.4, 7.3, 5.2, 6.6, 6.3, 5.9, 6.4, 6.7, 5.4, 6.4, 6.7, 6.2, 6.1, 8.8, 7.1, 8.1, 5.7, 5.0, 5.1, 6.9, 4.8, 6.5, 5.1, 7.1, 7.5, 6.2, 6.3, 8.1, 6.6, 6.9, 6.1, 4.3, 6.6, 6.8, 3.8, 5.9, 7.9, 6.3, 5.5, 7.7, 6.3, 7.1, 8.5, 5.9, 5.8, 8.1, 7.9, 7.2, 6.3, 8.1, 7.0, 5.5, 6.7, 5.2, 7.0, 6.1, 6.6, 5.5, 5.9, 5.4, 6.4, 5.7, 6.7, 7.1, 6.8, 6.5, 7.6, 5.5, 6.5, 7.0, 5.8, 7.3, 6.6, 4.4, 7.7, 5.0, 7.7, 4.4, 6.1, 5.4, 6.8, 6.5, 7.0, 6.3, 6.3, 6.1, 6.1, 7.3, 5.3, 5.4, 6.2, 6.6, 5.9, 6.3, 7.2, 6.8, 6.1, 7.8, 5.0, 6.2, 6.7, 4.9, 7.4, 7.1, 6.2, 4.9, 6.1, 6.1, 6.4, 6.3, 6.8, 6.6, 5.7, 5.9, 6.0, 6.1, 6.7, 6.7, 7.9, 5.0, 4.3, 5.7, 6.7, 6.7, 8.1, 6.1, 5.6, 6.6, 6.9, 4.8, 6.2, 6.0, 4.9, 5.6, 6.1, 6.1, 4.8, 5.5, 3.8, 6.5, 6.0, 6.7, 8.1, 4.9, 7.3, 6.4, 6.6, 6.7, 3.6, 5.7, 6.0, 4.9, 4.7, 6.3, 5.9, 5.9, 7.0, 7.5, 5.6, 6.4, 6.3, 4.3, 5.9, 6.7, 5.5, 6.2, 8.8, 5.2, 7.0, 6.6, 7.3, 5.6, 6.6, 5.4, 6.3, 7.9, 6.3, 6.0, 7.2, 5.1, 7.3, 8.0, 6.2, 6.0, 6.7, 8.1, 6.4, 8.4, 8.0, 6.3, 6.4, 6.6, 6.4, 6.0, 6.6, 5.9, 6.4, 6.3, 7.3, 6.8, 7.2, 5.7, 6.0, 6.5, 5.8, 5.8, 6.7, 7.8, 5.6, 5.8, 7.4, 6.9, 5.5, 6.3, 4.7, 5.6, 6.4, 4.2, 6.4, 7.7, 7.7, 5.3, 6.7, 7.7, 5.7, 7.6, 6.4, 5.6, 6.8, 2.4, 6.2, 5.9, 7.1, 7.6, 5.5, 7.0, 7.1, 7.4, 7.6, 5.9, 5.9, 8.0, 7.4, 5.8, 6.3, 5.7, 5.1, 7.6, 6.4, 7.4, 8.2, 6.5, 5.5, 6.5, 5.6, 4.9, 4.6, 7.9, 7.1, 6.9, 7.3, 7.0, 7.7, 6.7, 6.3, 5.8, 7.1, 7.3, 6.4, 7.1, 7.6, 6.8, 6.6, 6.7, 6.1, 6.0, 7.6, 7.1, 5.0, 7.1, 6.2, 5.6, 5.4, 7.4, 5.0, 5.2, 7.6, 6.6, 7.0, 5.7, 8.2, 6.2, 7.9, 6.6, 4.7, 6.3, 6.1, 6.7, 6.1, 7.0, 7.4, 7.3, 5.8, 6.7, 5.8, 7.8, 6.6, 6.5, 6.7, 7.3, 5.8, 5.5, 6.3, 7.4, 5.9, 6.2, 5.9, 6.5, 4.4, 3.5, 6.6, 6.0, 6.4, 6.5, 7.8, 4.3, 4.2, 6.5, 6.1, 6.3, 6.2, 5.9, 5.9, 6.5, 6.4, 6.5, 5.7, 7.5, 8.0, 7.3, 6.7, 7.5, 5.4, 6.6, 7.7, 5.8, 6.4, 5.6, 6.0, 6.2, 5.9, 5.1, 6.8, 7.0, 6.0, 5.1, 5.8, 6.2, 6.4, 4.8, 4.9, 5.6, 5.5, 3.7, 5.9, 8.5, 6.3, 7.4, 7.6, 8.3, 6.6, 6.9, 6.7, 6.8, 4.6, 7.1, 6.4, 6.4, 7.4, 6.4, 6.0, 6.5, 7.8, 6.0, 7.0, 6.0, 7.8, 6.1, 6.8, 6.4, 7.7, 8.1, 4.5, 5.8, 6.3, 5.7, 7.2, 7.6, 4.7, 6.6, 6.8, 7.3, 2.7, 4.8, 6.3, 5.5, 6.2, 5.8, 5.7, 6.5, 6.7, 7.4, 6.9, 5.5, 8.1, 7.7, 7.3, 5.2, 7.1, 7.1, 7.2, 6.5, 4.6, 5.6, 7.7, 7.2, 6.8, 5.4, 6.3, 7.2, 5.6, 6.8, 4.3, 6.3, 6.5, 6.4, 6.3, 5.9, 6.5, 6.5, 6.1, 5.9, 6.6, 7.4, 7.3, 6.6, 5.6, 5.3, 6.0, 5.4, 6.8, 6.4, 7.1, 4.9, 5.8, 7.1, 7.2, 6.0, 6.0, 7.0, 5.4, 6.5, 6.4, 8.3, 4.9, 6.3, 1.7, 7.7, 7.8, 5.5, 7.5, 6.4, 5.6, 7.5, 6.8, 6.8, 6.0, 7.3, 6.0, 7.0, 5.1, 6.8, 6.5, 6.6, 7.2, 7.0, 7.0, 5.9, 5.4, 6.6, 7.0, 6.5, 6.3, 6.5, 6.5, 5.8, 6.6, 5.4, 6.1, 4.0, 7.6, 7.9, 5.3, 6.6, 6.3, 7.5, 7.2, 7.0, 4.9, 6.9, 5.2, 8.1, 6.6, 6.2, 7.2, 7.3, 6.7, 6.4, 7.8, 6.4, 4.1, 4.1, 7.4, 5.8, 7.6, 7.2, 7.8, 7.7, 6.4, 5.1, 5.5, 7.4, 6.0, 7.5, 7.0, 7.5, 7.3, 5.7, 7.3, 7.2, 5.9, 7.8, 7.7, 8.1, 6.6, 7.1, 5.9, 8.0, 4.6, 6.1, 7.2, 6.4, 6.0, 5.2, 7.6, 6.4, 6.4, 6.1, 6.1, 5.2, 7.7, 7.3, 6.9, 8.5, 6.3, 5.9, 7.8, 6.7, 6.4, 5.9, 6.6, 6.8, 6.5, 6.6, 5.8, 6.9, 7.1, 5.8, 7.2, 6.0, 4.7, 5.2, 5.5, 6.5, 7.0, 5.8, 6.2, 6.5, 7.2, 5.1, 4.7, 5.9, 5.8, 7.2, 6.2, 7.4, 5.7, 6.1, 6.0, 6.9, 6.5, 5.0, 5.7, 7.0, 5.1, 5.3, 4.4, 4.7, 6.7, 6.7, 5.7, 7.4, 6.1, 6.4, 6.2, 6.2, 5.9, 4.0, 6.2, 4.6, 6.4, 5.9, 5.1, 7.6, 4.2, 7.8, 5.8, 5.9, 8.4, 4.8, 6.2, 6.5, 6.3, 3.3, 5.9, 6.0, 5.8, 6.5, 4.7, 4.1, 6.8, 6.2, 4.5, 5.8, 7.3, 5.9, 4.4, 5.8, 5.1, 6.9, 6.2, 6.9, 7.3, 7.1, 6.0, 7.0, 6.8, 5.7, 7.6, 8.4, 7.1, 5.6, 6.7, 7.0, 8.0, 5.3, 4.9, 6.4, 7.4, 6.1, 6.5, 5.7, 5.1, 6.6, 6.5, 6.9, 7.8, 6.4, 7.6, 5.6, 6.2, 4.4, 5.6, 5.5, 6.7, 6.1, 6.2, 7.3, 6.6, 8.2, 6.4, 6.4, 5.2, 6.5, 7.1, 4.8, 7.3, 5.2, 7.7, 7.6, 5.7, 7.0, 6.0, 8.1, 8.0, 5.6, 6.1, 6.9, 5.2, 7.0, 6.3, 7.0, 5.3, 6.9, 6.2, 6.4, 6.4, 5.7, 6.1, 5.4, 6.7, 6.8, 6.0, 7.8, 5.3, 4.5, 5.4, 7.8, 7.2, 6.6, 7.6, 5.9, 6.7, 7.7, 5.8, 5.4, 6.9, 7.7, 6.8, 6.4, 5.7, 7.3, 6.8, 6.3, 5.9, 7.4, 8.3, 6.2, 6.3, 5.8, 7.5, 6.3, 6.4, 7.2, 6.3, 6.9, 6.6, 6.0, 7.5, 7.7, 6.2, 5.4, 6.6, 5.3, 5.6, 5.9, 7.8, 6.7, 7.4, 6.2, 5.4, 6.7, 5.3, 5.9, 7.0, 4.8, 7.3, 3.8, 8.5, 6.8, 6.8, 5.3, 7.3, 6.6, 6.2, 5.2, 6.2, 6.2, 6.6, 6.4, 6.2, 5.1, 6.6, 6.1, 6.1, 6.6, 5.9, 6.3, 7.1, 5.0, 5.6, 7.4, 4.5, 6.2, 5.0, 6.5, 5.1, 6.5, 6.2, 6.3, 3.8, 5.2, 6.0, 6.2, 5.7, 6.7, 6.8, 6.0, 7.3, 5.5, 6.7, 4.8, 5.7, 5.1, 6.0, 4.2, 7.4, 4.6, 6.9, 8.6, 6.9, 8.0, 6.4, 6.3, 8.4, 7.1, 6.8, 7.5, 4.5, 5.7, 7.2, 6.8, 5.4, 7.2, 7.3, 5.2, 5.5, 7.7, 7.1, 5.3, 5.6, 5.7, 7.1, 7.5, 7.6, 5.5, 5.1, 6.3, 4.9, 6.5, 5.6, 5.3, 6.5, 6.8, 6.5, 6.0, 8.4, 6.0, 7.6, 5.6, 6.9, 6.4, 5.1, 7.0, 5.7, 6.8, 6.7, 6.2, 7.2, 6.2, 5.6, 4.4, 7.5, 7.1, 6.4, 7.1, 5.9, 6.9, 7.5, 6.3, 6.4, 5.9, 6.8, 6.3, 3.6, 5.3, 5.9, 6.9, 6.9, 6.1, 5.7, 8.5, 6.3, 7.3, 6.3, 7.2, 7.3, 6.3, 8.1, 6.9, 6.3, 7.3, 5.5, 6.1, 6.9, 7.2, 6.4, 6.4, 8.3, 7.2, 6.8, 6.5, 7.8, 7.6, 7.2, 6.7, 6.8, 6.3, 6.2, 6.2, 8.6, 8.0, 7.0, 8.0, 8.1, 6.7, 7.9, 6.1, 4.2, 6.1, 6.6, 7.5, 7.4, 7.2, 6.9, 7.4, 5.4, 6.8, 6.3, 7.2, 8.7, 6.9, 6.0, 5.9, 5.4, 5.9, 6.1, 7.7, 5.8, 7.6, 6.1, 5.4, 5.1, 6.4, 6.3, 7.5, 7.1, 5.2, 7.8, 6.5, 6.6, 5.1, 7.4, 7.2, 7.6, 7.5, 6.6, 7.2, 7.6, 6.2, 5.6, 7.6, 6.6, 7.0, 2.7, 7.6, 6.6, 6.9, 6.8, 7.5, 3.7, 6.1, 5.9, 6.7, 8.5, 6.9, 5.5, 7.1, 7.1, 5.9, 7.3, 3.4, 6.8, 6.9, 7.0, 5.5, 5.1, 6.2, 5.9, 5.2, 6.2, 5.5, 7.4, 4.4, 6.3, 6.1, 5.3, 5.4, 6.7, 5.9, 7.3, 5.5, 5.8, 4.6, 6.7, 5.1, 5.6, 7.0, 6.4, 6.7, 4.1, 5.5, 2.7, 6.4, 4.8, 6.1, 4.8, 7.0, 6.8, 7.3, 8.2, 5.6, 6.1, 7.9, 8.4, 6.5, 7.1, 6.6, 4.0, 7.0, 5.6, 4.8, 7.5, 6.0, 7.2, 5.6, 6.8, 4.9, 7.1, 2.0, 5.7, 4.1, 6.7, 7.5, 6.5, 7.9, 7.6, 6.4, 5.8, 7.7, 7.1, 5.3, 5.3, 7.5, 6.9, 4.9, 7.1, 8.0, 7.9, 7.6, 5.9, 6.3, 7.1, 6.4, 8.2, 6.9, 7.8, 6.7, 7.5, 7.4, 5.2, 6.5, 7.6, 7.3, 6.6, 6.8, 6.9, 5.8, 6.6, 6.7, 6.7, 6.3, 7.7, 6.1, 4.9, 6.2, 7.8, 8.2, 6.9, 6.2, 6.9, 4.8, 8.0, 5.3, 6.7, 5.4, 5.4, 4.9, 6.1, 5.8, 7.0, 6.5, 6.6, 6.1, 5.7, 6.6, 7.0, 7.4, 5.3, 7.4, 7.4, 6.8, 7.9, 7.2, 6.0, 7.8, 6.6, 7.9, 6.2, 5.7, 7.1, 5.6, 7.8, 7.9, 6.9, 7.4, 7.7, 6.9, 8.7, 6.7, 6.0, 6.2, 5.9, 6.8, 3.6, 6.7, 6.3, 6.4, 6.4, 5.7, 6.2, 6.6, 5.2, 6.1, 7.1, 7.2, 6.5, 6.0, 7.0, 7.0, 7.5, 6.6, 8.8, 7.4, 6.5, 6.2, 7.8, 5.2, 6.5, 6.5, 5.2, 7.2, 7.1, 4.5, 5.7, 6.0, 6.4, 5.2, 4.3, 6.1, 6.3, 6.8, 4.0, 5.2, 6.5, 7.5, 7.1, 6.9, 8.0, 8.2, 6.4, 7.9, 6.7, 6.1, 8.9, 8.1, 6.2, 4.9, 5.4, 5.8, 4.7, 6.0, 7.0, 6.0, 7.9, 8.1, 6.2, 6.7, 7.3, 4.6, 6.1, 6.2, 7.8, 6.1, 7.6, 5.8, 6.5, 7.2, 7.8, 4.7, 6.8, 5.9, 7.2, 8.7, 5.0, 6.6, 8.3, 6.7, 7.8, 6.5, 6.1, 8.1, 5.2, 5.6, 5.8, 6.6, 6.6, 5.5, 5.5, 7.0, 6.5, 5.8, 5.6, 5.6, 5.8, 7.6, 6.4, 6.3, 4.6, 6.5, 7.5, 7.5, 5.3, 7.5, 3.3, 5.7, 3.5, 9.3, 4.8, 6.9, 6.0, 7.3, 6.0, 6.6, 7.5, 6.9, 6.8, 8.3, 6.3, 6.4, 5.6, 6.3, 7.3, 6.6, 4.6, 5.1, 5.6, 5.3, 7.5, 5.6, 5.9, 4.7, 4.8, 6.8, 5.4, 5.1, 7.0, 6.7, 4.0, 7.3, 6.8, 6.1, 7.2, 7.0, 7.1, 6.9, 7.3, 6.3, 8.2, 7.1, 7.7, 6.5, 4.9, 6.4, 5.9, 6.2, 5.8, 6.7, 5.9, 7.3, 4.8, 4.1, 4.9, 7.9, 5.6, 5.2, 4.1, 6.6, 2.9, 7.2, 6.5, 6.8, 7.2, 6.8, 7.8, 6.7, 6.1, 7.1, 5.7, 2.9, 5.2, 5.3, 6.2, 7.3, 6.5, 4.1, 7.7, 6.1, 7.3, 7.2, 5.3, 6.1, 5.8, 5.7, 6.7, 6.5, 7.2, 7.6, 4.6, 6.9, 6.6, 6.3, 6.2, 5.3, 7.3, 5.6, 6.2, 5.2, 5.3, 5.4, 4.9, 5.5, 6.7, 3.9, 7.2, 5.1, 6.5, 8.2, 7.7, 7.2, 6.1, 8.8, 6.8, 6.8, 6.7, 7.1, 7.1, 6.1, 8.0, 7.5, 6.6, 5.4, 6.1, 6.1, 5.6, 5.8, 2.8, 6.7, 5.1, 7.2, 6.0, 7.2, 6.7, 6.3, 6.2, 6.8, 6.2, 6.9, 6.8, 7.1, 7.1, 7.0, 7.1, 6.4, 7.0, 6.2, 7.5, 4.8, 8.1, 7.3, 5.8, 7.6, 5.6, 7.0, 6.6, 6.5, 7.4, 4.6, 6.4, 6.0, 6.4, 5.9, 6.4, 6.6, 6.9, 6.9, 5.8, 6.4, 5.3, 6.5, 5.7, 6.7, 3.9, 4.1, 6.2, 3.8, 5.1, 6.4, 7.8, 7.8, 6.1, 5.8, 6.3, 7.7, 5.4, 7.3, 6.8, 7.3, 6.5, 7.2, 6.7, 6.3, 5.9, 7.8, 7.4, 4.8, 6.3, 7.8, 7.5, 6.0, 6.8, 6.6, 4.6, 2.9, 7.1, 6.1, 6.7, 7.1, 5.8, 6.7, 5.8, 6.8, 8.5, 6.6, 7.7, 4.7, 6.4, 5.5, 8.6, 7.0, 7.1, 5.7, 3.7, 7.5, 4.6, 4.9, 6.9, 7.1, 5.8, 7.0, 5.4, 7.3, 7.1, 5.8, 8.1, 5.7, 4.4, 7.9, 7.6, 4.8, 7.8, 6.7, 2.7, 5.8, 7.5, 5.4, 4.1, 5.9, 6.3, 7.0, 6.8, 3.5, 2.3, 6.9, 8.1, 6.1, 5.0, 5.5, 6.2, 6.2, 5.9, 6.3, 6.7, 3.5, 7.5, 6.6, 7.5, 7.2, 4.8, 6.6, 3.5, 6.7, 7.6, 6.3, 5.5, 6.3, 6.5, 5.6, 6.9, 7.6, 3.9, 6.1, 7.3, 8.3, 5.8, 6.8, 7.0, 5.9, 6.5, 6.4, 5.8, 5.1, 6.8, 5.3, 5.3, 6.4, 4.9, 6.8, 7.1, 6.8, 6.1, 7.0, 8.5, 5.9, 6.3, 5.9, 5.4, 7.0, 6.9, 7.5, 8.2, 5.9, 5.0, 7.3, 6.4, 6.6, 7.8, 6.7, 4.0, 7.6, 7.7, 5.8, 5.2, 5.6, 5.3, 7.4, 6.6, 6.2, 1.9, 5.7, 6.6, 6.0, 6.1, 4.8, 6.2, 7.5, 6.3, 7.1, 6.6, 6.1, 6.7, 5.6, 7.2, 4.3, 6.4, 7.1, 6.3, 7.4, 6.1, 6.6, 6.0, 6.8, 7.4, 6.8, 7.2, 1.9, 5.5, 4.5, 6.3, 7.0, 6.7, 2.8, 5.0, 7.5, 4.3, 5.6, 6.2, 5.3, 7.4, 7.4, 6.5, 7.1, 7.2, 2.3, 6.4, 6.1, 7.0, 6.5, 7.0, 7.0, 4.9, 6.9, 7.5, 8.4, 6.9, 4.5, 7.4, 7.0, 2.8, 7.5, 7.1, 6.4, 6.7, 5.3, 6.9, 6.2, 6.3, 6.4, 6.5, 6.0, 5.1, 5.5, 7.2, 5.4, 5.7, 5.2, 6.2, 6.7, 5.8, 7.0, 4.8, 7.2, 5.6, 6.4, 7.5, 7.4, 8.0, 5.7, 6.8, 5.9, 7.2, 5.5, 8.4, 8.5, 5.6, 4.1, 5.0, 6.1, 5.4, 7.1, 6.6, 3.6, 6.5, 8.6, 6.2, 7.0, 7.6, 6.5, 6.4, 6.7, 6.3, 6.4, 5.7, 6.3, 7.8, 6.0, 7.7, 6.2, 5.7, 7.7, 6.4, 6.4, 6.9, 7.3, 7.3, 6.2, 6.6, 6.7, 5.7, 3.1, 6.3, 5.7, 7.1, 7.0, 6.1, 6.6, 7.8, 8.3, 3.9, 7.0, 6.7, 7.3, 7.5, 6.3, 7.8, 7.3, 7.6, 5.3, 7.9, 5.3, 6.8, 7.1, 7.2, 5.8, 5.8, 8.3, 5.6, 6.8, 5.0, 7.6, 6.7, 6.7, 5.7, 5.2, 7.5, 7.2, 5.3, 6.5, 5.0, 6.1, 7.4, 4.4, 7.5, 5.7, 5.5, 7.1, 5.9, 6.7, 7.0, 7.9, 6.9, 7.3, 7.3, 3.5, 7.8, 7.4, 6.7, 6.4, 7.1, 6.7, 7.8, 4.0, 5.9, 7.2, 7.2, 5.1, 7.7, 5.5, 6.2, 7.2, 5.2, 6.7, 6.3, 5.0, 6.2, 7.6, 4.1, 5.3, 6.2, 6.5, 8.1, 6.3, 4.4, 4.6, 6.0, 7.6, 8.4, 7.9, 5.6, 6.5, 7.5, 6.3, 7.9, 7.9, 5.1, 6.7, 6.7, 5.6, 5.6, 6.8, 6.2, 5.6, 6.4, 5.6, 7.4, 4.9, 6.0, 7.2, 4.9, 7.5, 4.8, 3.1, 5.8, 6.7, 6.8, 6.5, 5.9, 5.5, 3.6, 3.3, 7.4, 6.7, 3.0, 7.6, 6.4, 6.9, 6.6, 5.5, 6.6, 5.2, 4.1, 6.8, 6.5, 7.6, 7.4, 7.7, 7.1, 6.3, 7.6, 8.0, 7.3, 7.6, 7.8, 6.5, 6.4, 8.0, 4.8, 7.8, 5.9, 5.4, 3.3, 8.2, 6.6, 5.4, 6.4, 4.8, 5.9, 5.5, 7.9, 4.9, 7.2, 6.6, 6.7, 5.3, 7.2, 5.1, 5.6, 7.6, 3.1, 7.2, 5.7, 5.2, 7.7, 7.0, 3.6, 4.9, 6.0, 6.6, 6.8, 7.2, 7.2, 2.8, 6.6, 6.7, 7.0, 4.4, 7.1, 6.2, 7.3, 5.1, 8.1, 6.7, 6.6, 4.5, 8.1, 6.6, 6.5, 5.9, 6.6, 6.5, 7.3, 7.5, 5.9, 7.4, 6.9, 7.9, 8.4, 8.0, 6.0, 7.3, 6.8, 7.8, 5.7, 6.1, 8.1, 6.1, 7.5, 6.2, 6.2, 7.9, 7.4, 6.6, 7.3, 7.5, 5.6, 7.3, 6.4, 5.0, 5.4, 8.2, 7.1, 5.3, 6.5, 6.2, 6.4, 7.2, 6.9, 5.7, 7.7, 5.4, 5.6, 7.7, 5.1, 6.8, 8.4, 4.9, 7.1, 6.6, 6.1, 4.1, 5.8, 8.1, 7.6, 7.8, 4.6, 6.0, 7.0, 6.7, 6.4, 7.2, 7.4, 4.8, 4.0, 6.2, 7.7, 6.7, 7.9, 7.9, 5.5, 6.2, 5.1, 4.1, 6.7, 4.7, 6.4, 6.3, 5.5, 7.3, 6.3, 4.9, 7.6, 6.0, 6.2, 6.8, 4.5, 5.7, 8.4, 4.6, 6.2, 7.0, 6.9, 6.1, 6.7, 5.6, 6.6, 6.4, 2.8, 5.4, 5.0, 5.1, 8.0, 5.9, 7.5, 8.2, 7.0, 6.6, 6.7, 5.5, 4.9, 6.9, 7.4, 5.6, 8.0, 5.3, 6.2, 5.3, 6.6, 7.2, 4.6, 7.5, 6.5, 7.6, 6.2, 8.0, 5.5, 6.3, 7.2, 7.9, 6.7, 5.3, 6.3, 6.5, 5.6, 7.0, 8.3, 7.2, 6.8, 6.4, 6.9, 8.0, 6.2, 6.4, 5.6, 6.1, 6.0, 5.1, 4.5, 5.9, 6.0, 5.8, 6.1, 4.9, 5.7, 7.1, 6.6, 8.1, 5.7, 6.8, 7.5, 6.2, 8.3, 7.4, 8.0, 6.9, 6.9, 9.5, 5.5, 5.7, 7.2, 6.9, 5.5, 5.9, 7.7, 5.2, 7.1, 6.6, 5.5, 7.7, 5.4, 6.7, 5.0, 6.4, 6.6, 5.9, 5.7, 4.5, 3.7, 5.0, 4.6, 6.5, 4.9, 6.0, 6.9, 5.7, 6.7, 6.9, 5.5, 4.4, 5.4, 7.0, 5.4, 5.4, 8.0, 7.6, 5.9, 6.6, 6.7, 3.9, 5.7, 6.7, 6.5, 6.8, 6.3, 7.3, 6.9, 7.0, 6.5, 3.6, 7.7, 7.7, 5.9, 6.8, 7.4, 5.1, 9.1, 7.4, 7.2, 6.0, 7.4, 8.3, 8.1, 6.3, 7.3, 3.6, 1.6, 8.0, 6.2, 9.0, 6.1, 5.7, 6.8, 5.5, 6.8, 7.3, 6.1, 7.2, 5.9, 6.1, 6.8, 7.7, 4.9, 6.1, 2.5, 6.1, 5.9, 5.7, 5.6, 7.2, 7.7, 7.8, 6.1, 5.8, 6.5, 7.9, 6.3, 3.8, 8.3, 6.4, 6.7, 6.1, 8.1, 6.0, 5.8, 5.6, 6.1, 5.9, 7.3, 6.8, 5.7, 7.3, 6.3, 5.9, 7.1, 7.1, 8.0, 5.1, 7.1, 6.5, 4.5, 6.6, 4.3, 6.7, 6.8, 5.4, 6.6, 7.4, 7.3, 6.9, 8.0, 6.4, 7.8, 6.1, 6.1, 5.1, 7.8, 7.4, 7.8, 8.0, 6.7, 6.6, 6.4, 6.7, 6.2, 7.3, 8.1, 7.0, 8.0, 8.0, 7.0, 7.9, 5.9, 6.6, 6.3, 7.7, 6.9, 7.1, 7.4, 6.5, 6.5, 6.8, 7.5, 6.6, 7.1, 6.6, 7.0, 3.3, 6.7, 8.0, 6.8, 6.0, 5.4, 4.3, 6.2, 7.7, 8.0, 7.4, 5.9, 7.8, 7.4, 6.5, 5.4, 7.0, 8.6, 7.6, 6.9, 7.0, 5.3, 6.4, 4.5, 7.8, 6.7, 5.3, 6.3, 7.0, 5.3, 6.6, 5.8, 6.7, 6.6, 7.0, 8.4, 6.0, 5.4, 7.8, 7.6, 6.6, 6.4, 7.0, 5.7, 5.9, 6.3, 6.3, 6.2, 2.1, 5.0, 5.3, 7.1, 7.0, 7.0, 5.7, 7.1, 7.0, 7.7, 7.1, 6.8, 7.5, 6.3, 7.3, 6.8, 7.2, 6.4, 6.0, 6.4, 5.1, 7.5, 7.1, 4.6, 5.7, 6.8, 7.7, 6.7, 3.2, 6.1, 5.6, 6.9, 7.5, 5.8, 8.3, 2.8, 6.6, 7.5, 6.0, 6.2, 7.2, 8.7, 6.0, 8.0, 7.2, 4.5, 7.9, 7.1, 7.5, 6.8, 4.3, 7.2, 5.8, 7.1, 7.4, 7.6, 6.9, 6.0, 6.9, 7.3, 4.6, 6.0, 6.4, 5.5, 7.5, 8.1, 6.3, 5.1, 6.8, 5.3, 7.3, 7.3, 7.1, 7.6, 5.3, 7.8, 7.7, 7.7, 5.4, 6.2, 7.4, 6.2, 5.1, 6.9, 6.3, 6.8, 7.4, 5.7, 5.8, 6.2, 4.3, 6.4, 6.0, 6.9, 5.5, 5.4, 8.3, 7.9, 6.5, 6.3, 6.4, 7.9, 5.3, 5.8, 6.6, 7.4, 8.3, 5.3, 6.2, 6.9, 5.9, 6.1, 5.8, 7.3, 5.9, 5.5, 5.0, 7.0, 7.8, 6.4, 5.9, 7.0, 6.1, 6.9, 7.5, 7.3, 6.5, 6.2, 6.7, 6.0, 6.3, 5.8, 6.1, 6.9, 8.3, 5.4, 6.7, 7.4, 5.6, 6.5, 6.5, 5.8, 5.0, 5.5, 6.5, 7.2, 7.3, 7.2, 5.2, 5.7, 4.7, 5.9, 6.8, 5.9, 5.3, 6.0, 7.7, 4.4, 6.6, 6.7, 5.5, 6.5, 6.2, 7.1, 6.1, 7.1, 6.0, 7.4, 5.9, 4.1, 5.8, 5.9, 7.0, 6.8, 7.4, 7.1, 7.0, 5.8, 7.8, 6.5, 7.0, 6.3, 5.3, 6.8, 5.5, 7.4, 4.3, 6.0, 5.2, 6.7, 6.3, 7.9, 8.6, 6.1, 5.8, 7.7, 8.0, 5.6, 6.7, 6.6, 4.2, 6.6, 4.1, 7.3, 7.1, 6.5, 7.0, 5.5, 6.6, 7.1, 7.9, 7.1, 5.6, 7.3, 3.3, 6.5, 4.8, 5.2, 6.3, 7.2, 6.8, 5.7, 7.2, 6.9, 9.1, 6.3, 6.2, 6.7, 6.5, 7.2, 5.3, 6.7, 6.2, 3.6, 5.7, 7.3, 5.0, 6.6, 6.6, 6.8, 6.2, 7.3, 6.2, 6.9, 6.6, 6.3, 7.0, 3.3, 6.7, 6.2, 6.5, 3.5, 5.5, 5.9, 4.7, 4.2, 5.2, 5.2, 3.9, 6.1, 5.8, 6.7, 5.7, 4.5, 6.9, 4.8, 6.3, 6.9, 5.4, 3.8, 7.0, 5.2, 7.3, 4.6, 6.5, 6.8, 6.7, 6.1, 5.2, 6.9, 6.0, 7.9, 4.5, 5.1, 7.6, 7.6, 6.7, 6.1, 7.5, 5.3, 6.0, 7.1, 7.5, 6.9, 8.5, 7.5, 6.6, 8.0, 7.0, 5.8, 7.3, 6.8, 6.7, 6.5, 8.0, 6.5, 4.9, 7.1, 7.0, 7.0, 7.5, 4.5, 5.5, 7.7, 7.2, 4.8, 6.7, 7.0, 6.5, 7.4, 3.5, 5.7, 6.2, 5.7, 6.4, 7.0, 7.7, 5.4, 6.6, 6.1, 6.1, 7.6, 6.2, 6.6, 6.1, 7.3, 4.2, 7.1, 6.0, 6.5, 6.5, 5.7, 6.1, 7.1, 7.3, 6.5, 7.9, 5.7, 7.2, 7.3, 6.9, 5.0, 5.9, 6.7, 7.3, 7.6, 6.5, 2.1, 5.3, 7.2, 7.0, 8.0, 6.5, 6.9, 7.1, 7.3, 7.5, 6.9, 7.2, 7.2, 6.7, 6.0, 8.9, 7.7, 7.9, 5.6, 8.0, 6.2, 7.9, 8.1, 7.6, 3.5, 7.6, 6.5, 5.6, 7.7, 5.2, 6.9, 6.1, 5.0, 7.8, 7.4, 6.8, 7.1, 6.4, 5.7, 7.5, 6.7, 5.6, 7.0, 7.6, 6.5, 7.0, 6.3, 6.4, 7.1, 7.1, 6.5, 6.9, 5.4, 4.9, 5.1, 5.3, 7.5, 8.3, 7.3, 7.3, 7.1, 6.0, 6.6, 7.2, 7.2, 6.9, 6.8, 4.0, 7.7, 7.4, 6.5, 6.4, 7.2, 5.6, 6.3, 6.8, 5.5, 6.9, 6.0, 7.7, 6.4, 6.6, 5.3, 8.1, 5.9, 7.7, 4.6, 5.1, 6.9, 8.0, 6.8, 5.4, 6.5, 4.2, 7.4, 6.9, 6.7, 7.3, 7.6, 5.4, 7.3, 6.4, 6.0, 7.2, 6.0, 3.1, 6.9, 6.2, 5.5, 6.9, 6.3, 4.8, 7.9, 6.7, 5.6, 5.4, 8.0, 5.7, 7.6, 7.0, 7.2, 6.2, 3.5, 7.5, 5.1, 6.7, 9.2, 6.1, 7.7, 7.6, 6.1, 4.9, 6.8, 7.0, 7.2, 5.7, 7.3, 7.5, 7.4, 7.2, 6.5, 9.0, 6.8, 6.8, 5.2, 7.2, 7.5, 4.0, 6.8, 6.9, 8.2, 7.3, 6.1, 7.8, 6.0, 4.1, 7.0, 7.1, 6.2, 6.9, 7.6, 7.6, 6.4, 6.2, 7.5, 2.0, 6.2, 7.7, 6.5, 7.4, 7.9, 6.8, 6.3, 6.3, 6.6, 6.4, 7.5, 5.8, 6.5, 4.8, 7.2, 6.3, 7.0, 6.3, 5.3, 2.3, 7.1, 6.2, 6.2, 6.7, 6.5, 5.9, 6.7, 6.0, 6.9, 7.9, 5.3, 4.8, 5.3, 6.0, 7.3, 7.4, 7.7, 4.8, 7.2, 5.8, 7.3, 7.0, 6.4, 5.6, 8.2, 6.5, 6.4, 8.1, 5.4, 6.3, 7.8, 6.8, 7.2, 7.1, 6.2, 7.3, 5.9, 7.2, 3.6, 7.7, 7.3, 7.4, 6.6, 6.9, 6.8, 7.3, 7.2, 6.5, 7.7, 8.1, 7.7, 7.6, 7.3, 8.7, 7.2, 7.2, 8.1, 7.5, 8.1, 7.8, 7.8, 5.8, 7.6, 7.4, 6.3, 6.9, 8.6, 5.1, 6.4, 7.9, 6.9, 7.5, 7.2, 5.8, 2.9, 6.2, 7.3, 6.2, 8.2, 6.8, 6.1, 7.7, 5.2, 6.8, 6.5, 7.0, 5.9, 7.1, 5.5, 7.4, 7.3, 4.6, 7.2, 7.0, 5.1, 6.7, 5.3, 8.4, 7.8, 6.7, 5.4, 7.2, 5.8, 6.4, 8.0, 7.0, 7.0, 6.7, 3.8, 5.7, 6.6, 6.7, 6.1, 6.2, 6.2, 7.4, 4.7, 8.3, 7.2, 5.8, 5.9, 6.3, 7.2, 5.4, 8.2, 7.3, 7.3, 5.8, 6.1, 7.1, 6.5, 7.9, 5.4, 7.1, 6.4, 8.4, 6.7, 6.9, 2.1, 4.3, 6.6, 3.4, 8.3, 7.2, 5.6, 7.7, 6.6, 7.6, 7.4, 7.1, 3.4, 7.9, 6.7, 6.6, 7.9, 4.9, 7.2, 7.4, 6.1, 8.4, 6.2, 5.3, 5.0, 7.7, 7.6, 6.3, 7.6, 5.6, 7.3, 6.2, 6.6, 6.6, 7.3, 6.6, 6.9, 5.8, 4.4, 6.6, 7.1, 7.6, 4.6, 6.8, 7.1, 4.9, 7.3, 7.2, 5.0, 8.2, 8.0, 5.2, 8.5, 6.5, 7.4, 7.7, 7.4, 5.1, 7.3, 5.0, 7.2, 6.7, 6.4, 7.1, 5.6, 6.2, 6.1, 5.2, 7.3, 7.5, 6.6, 6.4, 4.5, 6.6, 5.3, 4.9, 7.7, 8.0, 3.8, 7.6, 5.9, 6.2, 7.2, 6.3, 5.2, 6.9, 6.8, 6.2, 6.2, 3.5, 6.1, 6.6, 4.5, 5.9, 6.9, 7.7, 6.6, 5.3, 6.3, 7.0, 7.0, 6.6, 8.6, 6.4, 7.9, 5.4, 6.9, 7.7, 7.2, 6.8, 6.2, 7.4, 4.6, 6.4, 7.0, 7.7, 6.8, 7.0, 7.0, 6.3, 7.1, 5.6, 4.4, 7.1, 6.1, 7.4, 7.5, 7.2, 7.6, 7.3, 6.2, 6.2, 4.6, 6.2, 6.2, 3.3, 7.5, 4.2, 7.2, 6.2, 6.1, 4.2, 4.5, 8.4, 7.5, 6.7, 5.1, 5.5, 4.4, 4.4, 6.8, 6.7, 8.6, 4.8, 3.4, 7.4, 7.3, 8.0, 6.5, 5.9, 6.8, 7.4, 6.7, 6.8, 5.4, 5.5, 7.4, 5.7, 5.4, 3.2, 7.1, 7.8, 5.3, 7.2, 6.2, 5.9, 7.3, 6.7, 5.7, 7.1, 7.2, 7.4, 7.7, 7.7, 7.4, 8.4, 7.1, 7.2, 7.5, 5.4, 8.1, 6.0, 7.8, 6.8, 6.5, 7.7, 6.4, 6.5, 7.3, 6.6, 7.9, 5.9, 4.7, 8.7, 5.9, 6.7, 8.5, 8.4, 5.8, 6.1, 7.3, 6.7, 7.6, 7.2, 6.2, 5.8, 5.2, 8.1, 7.1, 6.5, 7.3, 6.2, 5.0, 8.0, 7.8, 8.1, 6.7, 6.1, 7.1, 5.6, 7.6, 4.3, 7.3, 7.3, 4.6, 6.8, 7.5, 7.1, 7.3, 8.3, 5.4, 4.0, 8.0, 6.7, 5.7, 4.6, 4.0, 7.0, 7.4, 5.9, 4.6, 4.8, 7.5, 4.7, 6.7, 6.3, 6.0, 6.7, 7.1, 2.7, 7.3, 7.6, 5.8, 6.5, 6.6, 6.2, 6.9, 8.5, 4.8, 6.6, 5.7, 7.0, 5.4, 7.1, 6.9, 6.6, 5.9, 6.3, 6.3, 7.7, 7.0, 6.3, 5.9, 6.2, 5.0, 7.7, 6.5, 6.1, 5.8, 6.1, 6.0, 6.3, 6.3, 7.5, 7.6, 5.2, 7.8, 6.6, 4.7, 6.7, 4.2, 6.3, 4.7, 6.0, 7.9, 8.1, 8.2, 6.0, 6.8, 7.3, 7.0, 7.3, 7.5, 6.8, 7.1, 6.9, 6.9, 6.9, 8.4, 7.9, 7.2, 7.8, 3.5, 7.3, 7.5, 7.8, 6.0, 7.3, 8.0, 7.6, 7.0, 7.5, 6.8, 3.9, 6.1, 7.5, 8.2, 7.2, 4.8, 7.8, 5.2, 3.3, 6.8, 7.0, 6.5, 5.7, 6.4, 5.3, 4.7, 6.1, 5.5, 7.3, 4.8, 8.4, 7.0, 3.3, 5.4, 4.8, 3.1, 6.7, 7.6, 7.1, 6.1, 6.5, 8.5, 8.7, 7.1, 6.6, 6.7, 8.3, 8.1, 7.4, 6.6, 4.5, 6.4, 7.5, 8.0, 8.1, 7.2, 7.5, 7.2, 6.4, 7.6, 7.8, 5.7, 8.6, 8.2, 6.6, 5.7, 7.4, 8.0, 7.3, 5.4, 7.4, 5.7, 6.8, 5.4, 8.1, 6.1, 5.1, 5.6, 5.9, 8.2, 5.3, 6.8, 8.3, 4.3, 6.7, 7.2, 6.9, 6.6, 5.9, 7.9, 8.3, 5.2, 7.8, 7.8, 3.0, 7.9, 3.2, 6.5, 6.9, 7.0, 7.4, 7.8, 6.9, 4.4, 6.0, 6.6, 7.8, 5.3, 5.3, 8.0, 7.1, 5.4, 6.9, 7.4, 7.3, 7.8, 6.6, 5.4, 8.4, 6.3, 6.1, 5.0, 6.9, 7.2, 7.3, 5.7, 5.0, 5.3, 7.9, 5.0, 5.3, 6.0, 7.6, 7.4, 5.9, 4.1, 6.7, 5.8, 6.2, 5.3, 3.3, 6.5, 6.2, 5.9, 5.5, 5.5, 2.6, 5.8, 7.4, 5.1, 5.2, 4.8, 3.9, 6.2, 7.0, 6.2, 5.9, 8.0, 7.3, 4.9, 6.5, 4.3, 6.4, 7.6, 6.8, 6.1, 4.0, 7.4, 8.3, 5.3, 8.1, 8.0, 5.7, 8.2, 7.1, 7.4, 6.6, 5.7, 6.9, 7.0, 7.0, 7.8, 5.9, 7.4, 7.8, 6.0, 5.3, 7.9, 7.2, 7.4, 5.3, 8.3, 7.6, 5.1, 5.1, 4.9, 6.9, 4.6, 6.3, 7.9, 6.7, 7.1, 7.6, 8.1, 6.6, 7.0, 7.6, 6.7, 7.1, 7.6, 7.1, 7.1, 7.7, 7.6, 6.6, 6.7, 5.7, 7.1, 6.2, 6.1, 5.9, 6.8, 5.8, 5.0, 6.3, 6.8, 5.1, 6.6, 5.0, 7.7, 3.1, 6.5, 3.9, 6.8, 7.0, 5.9, 5.8, 7.3, 7.8, 7.8, 6.9, 5.7, 4.7, 5.9, 5.9, 4.3, 7.5, 4.8, 5.8, 5.3, 6.0, 8.1, 7.0, 7.6, 7.2, 7.5, 6.3, 6.7, 4.8, 5.5, 7.5, 5.1, 7.4, 7.3, 6.9, 6.8, 8.4, 7.6, 7.6, 7.7, 7.6, 5.3, 8.5, 7.0, 8.0, 7.1, 7.8, 7.2, 7.5, 8.0, 8.1, 6.8, 7.4, 7.2, 8.1, 7.0, 7.4, 8.3, 6.1, 7.5, 7.0, 5.3, 4.7, 5.7, 8.1, 7.8, 6.5, 8.0, 3.3, 8.3, 6.9, 7.3, 8.1, 6.5, 6.8, 7.3, 6.4, 4.6, 6.5, 7.0, 5.4, 6.7, 2.8, 7.4, 5.8, 7.1, 4.5, 7.9, 5.3, 5.4, 4.8, 5.9, 6.2, 5.9, 6.6, 6.6, 5.1, 6.0, 6.8, 5.4, 5.2, 7.8, 6.4, 6.1, 5.7, 5.5, 7.4, 7.1, 3.9, 4.6, 7.3, 7.7, 4.9, 6.3, 6.1, 6.6, 5.7, 5.6, 6.0, 5.7, 7.0, 5.3, 4.4, 3.4, 4.5, 3.4, 7.1, 6.4, 5.2, 7.0, 7.3, 8.1, 5.8, 5.9, 6.4, 7.5, 7.8, 6.3, 7.2, 5.6, 7.2, 8.0, 8.5, 6.8, 7.3, 5.5, 7.3, 6.3, 5.1, 6.6, 6.1, 7.5, 7.0, 7.2, 5.3, 8.7, 3.4, 5.4, 7.8, 6.7, 4.7, 6.3, 7.4, 6.1, 7.5, 6.3, 6.3, 6.8, 7.8, 6.9, 8.0, 7.8, 7.4, 6.1, 4.3, 3.5, 7.2, 4.7, 7.3, 7.9, 5.1, 7.2, 5.4, 3.7, 7.4, 7.1, 6.8, 8.2, 7.0, 7.4, 6.7, 5.7, 9.1, 7.6, 7.2, 7.5, 6.8, 6.9, 7.9, 7.6, 6.7, 5.8, 6.5, 7.2, 6.9, 5.5, 6.5, 6.2, 6.7, 5.7, 8.6, 6.5, 6.3, 4.3, 6.1, 6.0, 5.8, 6.7, 6.7, 7.6, 5.1, 6.8, 6.8, 6.8, 6.3, 7.1, 2.8, 8.2, 3.1, 7.0, 3.3, 3.6, 7.7, 6.7, 5.5, 6.6, 4.8, 5.5, 6.3, 6.9, 6.5, 8.2, 7.1, 7.3, 8.1, 7.2, 7.4, 6.5, 5.7, 6.1, 7.7, 8.7, 4.3, 6.2, 3.3, 2.7, 5.2, 8.2, 6.1, 8.0, 5.5, 5.7, 3.7, 7.1, 7.8, 7.3, 4.1, 7.2, 7.7, 7.1, 7.6, 7.0, 5.5, 7.4, 7.7, 7.2, 7.8, 6.6, 6.0, 8.4, 6.5, 8.9, 7.9, 6.0, 6.1, 7.4, 6.2, 5.6, 7.2, 6.1, 3.8, 7.1, 4.5, 3.8, 6.2, 6.6, 4.6, 4.2, 6.8, 7.7, 7.1, 5.9, 4.7, 7.0, 6.9, 6.1, 7.6, 3.0, 2.6, 8.6, 6.1, 7.5, 6.7, 8.1, 4.9, 6.8, 6.8, 5.7, 8.3, 6.6, 7.3, 5.0, 7.0, 3.4, 5.9, 6.0, 7.4, 7.4, 4.2, 6.2, 6.2, 7.5, 7.2, 7.2, 5.4, 7.0, 7.2, 7.9, 6.8, 6.7, 7.5, 6.8, 6.9, 6.8, 7.2, 7.4, 5.6, 6.8, 7.2, 7.7, 7.0, 7.2, 6.4, 7.2, 7.2, 6.2, 6.9, 6.2, 6.9, 7.0, 6.7, 3.6, 6.3, 7.4, 7.4, 7.3, 6.1, 6.7, 8.2, 7.7, 7.3, 7.4, 5.7, 7.6, 6.8, 5.6, 4.8, 6.4, 6.8, 6.1, 5.2, 6.9, 6.0, 6.3, 6.1, 5.5, 6.9, 5.6, 1.9, 4.1, 5.4, 6.8, 7.0, 6.7, 5.8, 6.2, 2.8, 7.3, 5.8, 6.5, 6.1, 5.1, 2.2, 7.2, 5.7, 3.4, 3.8, 4.7, 5.6, 3.9, 5.4, 5.2, 3.5, 5.3, 7.0, 7.1, 5.5, 5.9, 6.0, 4.8, 7.1, 8.2, 5.7, 7.9, 7.3, 7.1, 6.4, 5.9, 7.5, 6.4, 7.4, 7.3, 6.5, 7.2, 6.7, 7.1, 6.0, 6.7, 5.6, 7.0, 4.9, 3.2, 8.4, 6.9, 7.5, 7.2, 7.2, 8.0, 7.4, 7.2, 6.5, 7.2, 4.2, 5.1, 6.4, 6.8, 6.2, 7.5, 7.7, 6.9, 7.0, 7.5, 6.3, 5.5, 4.8, 8.1, 6.6, 5.2, 5.6, 3.1, 8.1, 8.3, 7.1, 8.1, 7.2, 6.3, 4.0, 7.2, 5.3, 7.2, 6.5, 6.5, 4.9, 5.2, 7.4, 7.4, 5.4, 3.9, 5.3, 7.8, 6.4, 8.1, 6.5, 5.6, 5.6, 6.6, 6.3, 7.7, 7.0, 8.0, 7.2, 4.5, 7.7, 7.2, 6.1, 6.4, 6.5, 7.0, 6.1, 5.7, 5.4, 5.9, 7.5, 7.7, 7.1, 7.4, 7.6, 6.4, 7.4, 6.8, 6.5, 6.0, 7.3, 7.3, 6.5, 6.0, 5.3, 6.6, 6.1, 7.1, 8.7, 8.4, 5.8, 6.2, 5.8, 6.7, 5.7, 6.1, 6.4, 5.0, 6.5, 4.6, 7.7, 7.3, 6.6, 6.4, 5.8, 7.2, 7.2, 3.5, 7.5, 2.2, 3.3, 6.6, 6.9, 4.0, 7.4, 8.3, 5.7, 6.8, 5.2, 6.4, 6.2, 5.9, 7.7, 4.3, 7.1, 6.2, 6.8, 7.7, 8.2, 7.5, 7.6, 4.1, 6.9, 7.1, 6.3, 7.7, 8.3, 7.1, 4.7, 7.7, 7.2, 5.1, 5.4, 6.9, 8.2, 6.1, 6.1, 6.9, 5.8, 6.0, 8.2, 8.0, 7.0, 6.3, 7.6, 6.1, 7.2, 7.8, 4.7, 7.5, 6.7, 3.4, 7.9, 8.9, 6.9, 8.2, 7.3, 8.0, 6.7, 6.6, 6.9, 7.1, 5.6, 6.7, 7.1, 5.2, 7.7, 7.5, 7.6, 8.1, 5.5, 6.6, 3.2, 7.4, 6.6, 6.2, 4.8, 4.5, 7.2, 4.3, 4.5, 6.4, 6.4, 7.3, 6.9, 4.3, 7.2, 6.5, 6.6, 6.7, 4.3, 7.3, 6.4, 7.0, 5.5, 6.7, 4.3, 6.1, 6.8, 3.9, 8.5, 6.9, 7.3, 6.9, 6.3, 2.5, 5.7, 7.0, 6.2, 6.9, 4.5, 7.8, 4.4, 7.4, 6.6, 8.0, 8.3, 6.5, 7.1, 7.1, 4.0, 7.5, 7.0, 4.0, 6.7, 7.2, 7.0, 7.4, 8.0, 6.5, 7.2, 6.4, 6.5, 6.8, 6.9, 7.5, 7.1, 5.1, 6.2, 3.9, 6.0, 6.8, 7.4, 8.1, 6.5, 8.0, 7.7, 7.2, 5.4, 6.7, 6.3, 8.1, 8.5, 7.7, 6.5, 8.7, 6.5, 7.0, 5.8, 5.5, 7.0, 6.3, 7.9, 7.3, 7.4, 5.4, 7.1, 7.5, 8.4, 7.0, 5.3, 7.1, 7.5, 6.1, 7.2, 6.7, 8.2, 6.6, 6.7, 5.1, 7.0, 7.0, 8.0, 7.4, 5.4, 5.7, 6.7, 4.2, 7.4, 4.8, 7.0, 7.3, 5.8, 7.0, 3.2, 6.8, 7.7, 5.6, 7.1, 3.6, 6.8, 7.6, 6.6, 8.3, 7.5, 5.4, 5.3, 4.5, 7.3, 5.6, 5.6, 4.1, 6.8, 6.3, 5.8, 6.6, 6.7, 6.4, 6.3, 3.4, 4.7, 6.0, 7.3, 7.9, 6.1, 7.4, 6.6, 5.5, 7.5, 7.6, 5.0, 3.2, 8.2, 3.7, 6.3, 4.1, 6.9, 5.4, 6.5, 7.8, 6.7, 6.4, 7.3, 5.7, 7.0, 6.3, 7.1, 4.8, 3.3, 6.9, 4.6, 3.0, 6.6, 7.4, 6.2, 4.0, 6.1, 6.9, 7.5, 6.7, 7.4, 6.1, 5.4, 6.4, 7.0, 6.3, 6.9, 7.8, 6.4, 7.7, 7.5, 6.3, 6.3, 6.6]\n"
     ]
    }
   ],
   "source": [
    "score=list(df.get('imdb_score'))\n",
    "print(score)"
   ]
  },
  {
   "cell_type": "code",
   "execution_count": 70,
   "metadata": {},
   "outputs": [
    {
     "data": {
      "text/plain": [
       "pandas.core.frame.DataFrame"
      ]
     },
     "execution_count": 70,
     "metadata": {},
     "output_type": "execute_result"
    }
   ],
   "source": [
    "type(df)"
   ]
  },
  {
   "cell_type": "code",
   "execution_count": 72,
   "metadata": {},
   "outputs": [],
   "source": [
    "data=df.values #to numpy array conversion"
   ]
  },
  {
   "cell_type": "code",
   "execution_count": 73,
   "metadata": {},
   "outputs": [
    {
     "name": "stdout",
     "output_type": "stream",
     "text": [
      "(5043, 28)\n"
     ]
    }
   ],
   "source": [
    "print(data.shape)"
   ]
  },
  {
   "cell_type": "code",
   "execution_count": 74,
   "metadata": {},
   "outputs": [
    {
     "name": "stdout",
     "output_type": "stream",
     "text": [
      "<class 'numpy.ndarray'>\n"
     ]
    }
   ],
   "source": [
    "print(type(data))"
   ]
  },
  {
   "cell_type": "code",
   "execution_count": 75,
   "metadata": {},
   "outputs": [],
   "source": [
    "##Try to gain some insights, X-len of movie name Y-freq"
   ]
  },
  {
   "cell_type": "code",
   "execution_count": 78,
   "metadata": {},
   "outputs": [
    {
     "name": "stdout",
     "output_type": "stream",
     "text": [
      "['Avatar\\xa0', \"Pirates of the Caribbean: At World's End\\xa0\", 'Spectre\\xa0', 'The Dark Knight Rises\\xa0', 'Star Wars: Episode VII - The Force Awakens\\xa0            ', 'John Carter\\xa0', 'Spider-Man 3\\xa0', 'Tangled\\xa0', 'Avengers: Age of Ultron\\xa0', 'Harry Potter and the Half-Blood Prince\\xa0', 'Batman v Superman: Dawn of Justice\\xa0', 'Superman Returns\\xa0', 'Quantum of Solace\\xa0', \"Pirates of the Caribbean: Dead Man's Chest\\xa0\", 'The Lone Ranger\\xa0', 'Man of Steel\\xa0', 'The Chronicles of Narnia: Prince Caspian\\xa0', 'The Avengers\\xa0', 'Pirates of the Caribbean: On Stranger Tides\\xa0', 'Men in Black 3\\xa0', 'The Hobbit: The Battle of the Five Armies\\xa0', 'The Amazing Spider-Man\\xa0', 'Robin Hood\\xa0', 'The Hobbit: The Desolation of Smaug\\xa0', 'The Golden Compass\\xa0', 'King Kong\\xa0', 'Titanic\\xa0', 'Captain America: Civil War\\xa0', 'Battleship\\xa0', 'Jurassic World\\xa0', 'Skyfall\\xa0', 'Spider-Man 2\\xa0', 'Iron Man 3\\xa0', 'Alice in Wonderland\\xa0', 'X-Men: The Last Stand\\xa0', 'Monsters University\\xa0', 'Transformers: Revenge of the Fallen\\xa0', 'Transformers: Age of Extinction\\xa0', 'Oz the Great and Powerful\\xa0', 'The Amazing Spider-Man 2\\xa0', 'TRON: Legacy\\xa0', 'Cars 2\\xa0', 'Green Lantern\\xa0', 'Toy Story 3\\xa0', 'Terminator Salvation\\xa0', 'Furious 7\\xa0', 'World War Z\\xa0', 'X-Men: Days of Future Past\\xa0', 'Star Trek Into Darkness\\xa0', 'Jack the Giant Slayer\\xa0', 'The Great Gatsby\\xa0', 'Prince of Persia: The Sands of Time\\xa0', 'Pacific Rim\\xa0', 'Transformers: Dark of the Moon\\xa0', 'Indiana Jones and the Kingdom of the Crystal Skull\\xa0', 'The Good Dinosaur\\xa0', 'Brave\\xa0', 'Star Trek Beyond\\xa0', 'WALL·E\\xa0', 'Rush Hour 3\\xa0', '2012\\xa0', 'A Christmas Carol\\xa0', 'Jupiter Ascending\\xa0', 'The Legend of Tarzan\\xa0', 'The Chronicles of Narnia: The Lion, the Witch and the Wardrobe\\xa0', 'X-Men: Apocalypse\\xa0', 'The Dark Knight\\xa0', 'Up\\xa0', 'Monsters vs. Aliens\\xa0', 'Iron Man\\xa0', 'Hugo\\xa0', 'Wild Wild West\\xa0', 'The Mummy: Tomb of the Dragon Emperor\\xa0', 'Suicide Squad\\xa0', 'Evan Almighty\\xa0', 'Edge of Tomorrow\\xa0', 'Waterworld\\xa0', 'G.I. Joe: The Rise of Cobra\\xa0', 'Inside Out\\xa0', 'The Jungle Book\\xa0', 'Iron Man 2\\xa0', 'Snow White and the Huntsman\\xa0', 'Maleficent\\xa0', 'Dawn of the Planet of the Apes\\xa0', 'The Lovers\\xa0', '47 Ronin\\xa0', 'Captain America: The Winter Soldier\\xa0', 'Shrek Forever After\\xa0', 'Tomorrowland\\xa0', 'Big Hero 6\\xa0', 'Wreck-It Ralph\\xa0', 'The Polar Express\\xa0', 'Independence Day: Resurgence\\xa0', 'How to Train Your Dragon\\xa0', 'Terminator 3: Rise of the Machines\\xa0', 'Guardians of the Galaxy\\xa0', 'Interstellar\\xa0', 'Inception\\xa0', 'Godzilla Resurgence\\xa0', 'The Hobbit: An Unexpected Journey\\xa0', 'The Fast and the Furious\\xa0', 'The Curious Case of Benjamin Button\\xa0', 'X-Men: First Class\\xa0', 'The Hunger Games: Mockingjay - Part 2\\xa0', \"The Sorcerer's Apprentice\\xa0\", 'Poseidon\\xa0', 'Alice Through the Looking Glass\\xa0', 'Shrek the Third\\xa0', 'Warcraft\\xa0', 'Terminator Genisys\\xa0', 'The Chronicles of Narnia: The Voyage of the Dawn Treader\\xa0', 'Pearl Harbor\\xa0', 'Transformers\\xa0', 'Alexander\\xa0', 'Harry Potter and the Order of the Phoenix\\xa0', 'Harry Potter and the Goblet of Fire\\xa0', 'Hancock\\xa0', 'I Am Legend\\xa0', 'Charlie and the Chocolate Factory\\xa0', 'Ratatouille\\xa0', 'Batman Begins\\xa0', 'Madagascar: Escape 2 Africa\\xa0', 'Night at the Museum: Battle of the Smithsonian\\xa0', 'X-Men Origins: Wolverine\\xa0', 'The Matrix Revolutions\\xa0', 'Frozen\\xa0', 'The Matrix Reloaded\\xa0', 'Thor: The Dark World\\xa0', 'Mad Max: Fury Road\\xa0', 'Angels & Demons\\xa0', 'Thor\\xa0', 'Bolt\\xa0', 'G-Force\\xa0', 'Wrath of the Titans\\xa0', 'Dark Shadows\\xa0', 'Mission: Impossible - Rogue Nation\\xa0', 'The Wolfman\\xa0', 'The Legend of Tarzan\\xa0', 'Bee Movie\\xa0', 'Kung Fu Panda 2\\xa0', 'The Last Airbender\\xa0', 'Mission: Impossible III\\xa0', 'White House Down\\xa0', 'Mars Needs Moms\\xa0', 'Flushed Away\\xa0', 'Pan\\xa0', 'Mr. Peabody & Sherman\\xa0', 'Troy\\xa0', \"Madagascar 3: Europe's Most Wanted\\xa0\", 'Die Another Day\\xa0', 'Ghostbusters\\xa0', 'Armageddon\\xa0', 'Men in Black II\\xa0', 'Beowulf\\xa0', 'Kung Fu Panda 3\\xa0', 'Mission: Impossible - Ghost Protocol\\xa0', 'Rise of the Guardians\\xa0', 'Fun with Dick and Jane\\xa0', 'The Last Samurai\\xa0', 'Exodus: Gods and Kings\\xa0', 'Star Trek\\xa0', 'Spider-Man\\xa0', 'How to Train Your Dragon 2\\xa0', 'Gods of Egypt\\xa0', 'Stealth\\xa0', 'Watchmen\\xa0', 'Lethal Weapon 4\\xa0', 'Hulk\\xa0', 'G.I. Joe: Retaliation\\xa0', 'Sahara\\xa0', 'Final Fantasy: The Spirits Within\\xa0', 'Captain America: The First Avenger\\xa0', 'The World Is Not Enough\\xa0', 'Master and Commander: The Far Side of the World\\xa0', 'The Twilight Saga: Breaking Dawn - Part 2\\xa0', 'Happy Feet 2\\xa0', 'The Incredible Hulk\\xa0', 'Miami Vice\\xa0            ', 'The BFG\\xa0', 'The Revenant\\xa0', 'Turbo\\xa0', 'Rango\\xa0', 'Penguins of Madagascar\\xa0', 'The Bourne Ultimatum\\xa0', 'Kung Fu Panda\\xa0', 'Ant-Man\\xa0', 'The Hunger Games: Catching Fire\\xa0', 'The Twilight Saga: Breaking Dawn - Part 2\\xa0', 'Home\\xa0', 'War of the Worlds\\xa0', 'Bad Boys II\\xa0', 'Puss in Boots\\xa0', 'Salt\\xa0', 'Noah\\xa0', 'The Adventures of Tintin\\xa0', 'Harry Potter and the Prisoner of Azkaban\\xa0', 'Australia\\xa0', 'After Earth\\xa0', 'Dinosaur\\xa0', 'Harry Potter and the Deathly Hallows: Part II\\xa0', 'Night at the Museum: Secret of the Tomb\\xa0', 'Megamind\\xa0', \"Harry Potter and the Sorcerer's Stone\\xa0\", 'R.I.P.D.\\xa0', 'Godzilla Resurgence\\xa0', 'Pirates of the Caribbean: The Curse of the Black Pearl\\xa0', 'Harry Potter and the Deathly Hallows: Part I\\xa0', 'The Hunger Games: Mockingjay - Part 1\\xa0', 'The Da Vinci Code\\xa0', 'Rio 2\\xa0', 'X-Men 2\\xa0', 'Fast Five\\xa0', 'Sherlock Holmes: A Game of Shadows\\xa0', 'Clash of the Titans\\xa0', 'Total Recall\\xa0', 'The 13th Warrior\\xa0', 'The Bourne Legacy\\xa0', 'Batman & Robin\\xa0', 'How the Grinch Stole Christmas\\xa0', 'The Day After Tomorrow\\xa0', 'Mission: Impossible II\\xa0', 'The Perfect Storm\\xa0', 'Fantastic 4: Rise of the Silver Surfer\\xa0', 'Life of Pi\\xa0', 'Ghost Rider\\xa0', 'Jason Bourne\\xa0', \"Charlie's Angels: Full Throttle\\xa0\", 'Prometheus\\xa0', 'Stuart Little 2\\xa0', 'Elysium\\xa0', 'The Chronicles of Riddick\\xa0', 'RoboCop\\xa0', 'Speed Racer\\xa0', 'How Do You Know\\xa0', 'Knight and Day\\xa0', 'Oblivion\\xa0', 'Star Wars: Episode III - Revenge of the Sith\\xa0', 'Star Wars: Episode II - Attack of the Clones\\xa0', 'Monsters, Inc.\\xa0', 'The Wolverine\\xa0', 'Star Wars: Episode I - The Phantom Menace\\xa0', 'The Croods\\xa0', 'Asterix at the Olympic Games\\xa0', 'Windtalkers\\xa0', \"The Huntsman: Winter's War\\xa0\", 'Teenage Mutant Ninja Turtles\\xa0', 'Gravity\\xa0', \"Dante's Peak\\xa0\", 'Teenage Mutant Ninja Turtles: Out of the Shadows\\xa0', 'Fantastic Four\\xa0', 'Night at the Museum\\xa0', 'San Andreas\\xa0', 'Tomorrow Never Dies\\xa0', 'The Patriot\\xa0', \"Ocean's Twelve\\xa0\", 'Mr. & Mrs. Smith\\xa0', 'Insurgent\\xa0', 'The Aviator\\xa0', \"Gulliver's Travels\\xa0\", 'The Green Hornet\\xa0', 'The A-Team\\xa0            ', '300: Rise of an Empire\\xa0', 'The Smurfs\\xa0', 'Home on the Range\\xa0', 'Allegiant\\xa0', 'Real Steel\\xa0', 'The Smurfs 2\\xa0', 'Speed 2: Cruise Control\\xa0', \"Ender's Game\\xa0\", 'Live Free or Die Hard\\xa0', 'The Lord of the Rings: The Fellowship of the Ring\\xa0', 'Around the World in 80 Days\\xa0', 'Ali\\xa0', 'The Cat in the Hat\\xa0', 'I, Robot\\xa0', 'Kingdom of Heaven\\xa0', 'Stuart Little\\xa0', 'The Princess and the Frog\\xa0', 'The Martian\\xa0', '10,000 B.C.\\xa0            ', 'The Island\\xa0', 'Town & Country\\xa0', 'Gone in Sixty Seconds\\xa0', 'Gladiator\\xa0', 'Minority Report\\xa0', 'Harry Potter and the Chamber of Secrets\\xa0', 'Casino Royale\\xa0', 'Planet of the Apes\\xa0', 'Terminator 2: Judgment Day\\xa0', 'Public Enemies\\xa0', 'American Gangster\\xa0', 'True Lies\\xa0', 'The Taking of Pelham 1 2 3\\xa0', 'Little Fockers\\xa0', 'The Other Guys\\xa0', 'Eraser\\xa0', 'Django Unchained\\xa0', 'The Hunchback of Notre Dame\\xa0', \"The Emperor's New Groove\\xa0\", 'The Expendables 2\\xa0', 'National Treasure\\xa0', 'Eragon\\xa0', 'Where the Wild Things Are\\xa0', 'Pan\\xa0', 'Epic\\xa0', 'The Tourist\\xa0', 'End of Days\\xa0', 'Blood Diamond\\xa0', 'The Wolf of Wall Street\\xa0', 'Batman Forever\\xa0', 'Starship Troopers\\xa0', 'Cloud Atlas\\xa0', \"Legend of the Guardians: The Owls of Ga'Hoole\\xa0\", 'Catwoman\\xa0', 'Hercules\\xa0', 'Treasure Planet\\xa0', 'Land of the Lost\\xa0', 'The Expendables 3\\xa0', 'Point Break\\xa0', 'Son of the Mask\\xa0', 'In the Heart of the Sea\\xa0', 'The Adventures of Pluto Nash\\xa0', 'Green Zone\\xa0', 'The Peanuts Movie\\xa0', 'The Spanish Prisoner\\xa0', 'The Mummy Returns\\xa0', 'Gangs of New York\\xa0', 'The Flowers of War\\xa0', \"Surf's Up\\xa0\", 'The Stepford Wives\\xa0', 'Black Hawk Down\\xa0', 'The Campaign\\xa0', 'The Fifth Element\\xa0', 'Sex and the City 2\\xa0', 'The Road to El Dorado\\xa0', 'Ice Age: Continental Drift\\xa0', 'Cinderella\\xa0', 'The Lovely Bones\\xa0', 'Finding Nemo\\xa0', 'The Lord of the Rings: The Return of the King\\xa0', 'The Lord of the Rings: The Two Towers\\xa0', 'Seventh Son\\xa0', 'Lara Croft: Tomb Raider\\xa0', 'Transcendence\\xa0', 'Jurassic Park III\\xa0', 'Rise of the Planet of the Apes\\xa0', 'The Spiderwick Chronicles\\xa0', 'A Good Day to Die Hard\\xa0', 'The Alamo\\xa0', 'The Incredibles\\xa0', 'Cutthroat Island\\xa0', 'Percy Jackson & the Olympians: The Lightning Thief\\xa0', 'Men in Black\\xa0', 'Toy Story 2\\xa0', 'Unstoppable\\xa0', 'Rush Hour 2\\xa0', 'What Lies Beneath\\xa0', 'Cloudy with a Chance of Meatballs\\xa0', 'Ice Age: Dawn of the Dinosaurs\\xa0', 'The Secret Life of Walter Mitty\\xa0', \"Charlie's Angels\\xa0\", 'The Departed\\xa0', 'Mulan\\xa0', 'Tropic Thunder\\xa0', 'The Girl with the Dragon Tattoo\\xa0', 'Die Hard with a Vengeance\\xa0', 'Sherlock Holmes\\xa0', 'Ben-Hur\\xa0', 'Atlantis: The Lost Empire\\xa0', 'Alvin and the Chipmunks: The Road Chip\\xa0', 'Valkyrie\\xa0', \"You Don't Mess with the Zohan\\xa0\", 'Pixels\\xa0', 'A.I. Artificial Intelligence\\xa0', 'The Haunted Mansion\\xa0', 'Contact\\xa0', 'Hollow Man\\xa0', 'The Interpreter\\xa0', 'Percy Jackson: Sea of Monsters\\xa0', 'Lara Croft Tomb Raider: The Cradle of Life\\xa0', 'Now You See Me 2\\xa0', 'The Saint\\xa0', 'Spy Game\\xa0', 'Mission to Mars\\xa0', 'Rio\\xa0', 'Bicentennial Man\\xa0', 'Volcano\\xa0', \"The Devil's Own\\xa0\", 'K-19: The Widowmaker\\xa0', 'Fantastic Four\\xa0', 'Conan the Barbarian\\xa0', 'Cinderella Man\\xa0', 'The Nutcracker in 3D\\xa0', 'Seabiscuit\\xa0', 'Twister\\xa0', 'The Fast and the Furious\\xa0', 'Cast Away\\xa0', 'Happy Feet\\xa0', 'The Bourne Supremacy\\xa0', 'Air Force One\\xa0', \"Ocean's Eleven\\xa0\", 'The Three Musketeers\\xa0', 'Hotel Transylvania\\xa0', 'Enchanted\\xa0', 'Hannibal\\xa0            ', 'Safe House\\xa0', '102 Dalmatians\\xa0', 'Tower Heist\\xa0', 'The Holiday\\xa0', 'Enemy of the State\\xa0', \"It's Complicated\\xa0\", \"Ocean's Thirteen\\xa0\", 'Open Season\\xa0', 'Divergent\\xa0', 'Enemy at the Gates\\xa0', 'The Rundown\\xa0', 'Last Action Hero\\xa0', 'Memoirs of a Geisha\\xa0', 'The Fast and the Furious: Tokyo Drift\\xa0', 'Arthur Christmas\\xa0', 'Meet Joe Black\\xa0', 'Collateral Damage\\xa0', 'All That Jazz\\xa0', 'Mirror Mirror\\xa0', 'Scott Pilgrim vs. the World\\xa0', 'The Core\\xa0', 'Nutty Professor II: The Klumps\\xa0', 'Scooby-Doo\\xa0', 'Dredd\\xa0', 'Click\\xa0', 'Creepshow\\xa0', 'Cats & Dogs: The Revenge of Kitty Galore\\xa0', 'Jumper\\xa0', 'Hellboy II: The Golden Army\\xa0', 'Zodiac\\xa0', 'The 6th Day\\xa0', 'Bruce Almighty\\xa0', 'The Expendables\\xa0', 'Mission: Impossible\\xa0', 'The Hunger Games\\xa0', 'The Hangover Part II\\xa0', 'Batman Returns\\xa0', 'Over the Hedge\\xa0', 'Lilo & Stitch\\xa0', \"Charlotte's Web\\xa0\", 'Deep Impact\\xa0', 'RED 2\\xa0', 'The Longest Yard\\xa0', 'Alvin and the Chipmunks: Chipwrecked\\xa0', 'Grown Ups 2\\xa0', 'Get Smart\\xa0', \"Something's Gotta Give\\xa0\", 'Shutter Island\\xa0', 'Four Christmases\\xa0', 'Robots\\xa0', 'Face/Off\\xa0', 'Bedtime Stories\\xa0', 'Road to Perdition\\xa0', 'Just Go with It\\xa0', 'Daredevil\\xa0            ', 'Con Air\\xa0', 'Eagle Eye\\xa0', 'Cold Mountain\\xa0', 'The Book of Eli\\xa0', 'Flubber\\xa0', 'The Haunting\\xa0', 'Space Jam\\xa0', 'The Pink Panther\\xa0', 'The Day the Earth Stood Still\\xa0', 'Conspiracy Theory\\xa0', 'Fury\\xa0', 'Six Days Seven Nights\\xa0', 'Yogi Bear\\xa0', 'Spirit: Stallion of the Cimarron\\xa0', 'Zookeeper\\xa0', 'Lost in Space\\xa0', 'The Manchurian Candidate\\xa0', 'Déjà Vu\\xa0', 'Hotel Transylvania 2\\xa0', 'Bewitched\\xa0            ', 'Fantasia 2000\\xa0', 'The Time Machine\\xa0', 'Mighty Joe Young\\xa0', 'Swordfish\\xa0', 'The Legend of Zorro\\xa0', 'What Dreams May Come\\xa0', 'Little Nicky\\xa0', 'The Brothers Grimm\\xa0', 'Mars Attacks!\\xa0', 'Evolution\\xa0', 'The Edge\\xa0', 'Surrogates\\xa0', 'Thirteen Days\\xa0', 'Daylight\\xa0', 'Walking with Dinosaurs 3D\\xa0', 'Battlefield Earth\\xa0', 'Looney Tunes: Back in Action\\xa0', 'Nine\\xa0', 'Timeline\\xa0', 'The Postman\\xa0', 'Babe: Pig in the City\\xa0', 'The Last Witch Hunter\\xa0', 'Red Planet\\xa0', 'Arthur and the Invisibles\\xa0', 'Oceans\\xa0', 'A Sound of Thunder\\xa0', 'Pompeii\\xa0', 'Top Cat Begins\\xa0', 'A Beautiful Mind\\xa0', 'The Lion King\\xa0', 'Journey 2: The Mysterious Island\\xa0', 'Cloudy with a Chance of Meatballs 2\\xa0', 'Red Dragon\\xa0', 'Hidalgo\\xa0', 'Jack and Jill\\xa0', '2 Fast 2 Furious\\xa0', 'The Little Prince\\xa0', 'The Invasion\\xa0', 'The Adventures of Rocky & Bullwinkle\\xa0', 'The Secret Life of Pets\\xa0', 'The League of Extraordinary Gentlemen\\xa0', 'Despicable Me 2\\xa0', 'Independence Day\\xa0', 'The Lost World: Jurassic Park\\xa0', 'Madagascar\\xa0', 'Children of Men\\xa0', 'X-Men\\xa0', 'Wanted\\xa0', 'The Rock\\xa0', 'Ice Age: The Meltdown\\xa0', '50 First Dates\\xa0', 'Hairspray\\xa0', 'Exorcist: The Beginning\\xa0', 'Inspector Gadget\\xa0', 'Now You See Me\\xa0', 'Grown Ups\\xa0', 'The Terminal\\xa0', 'Constantine\\xa0            ', 'Hotel for Dogs\\xa0', 'Vertical Limit\\xa0', \"Charlie Wilson's War\\xa0\", 'Shark Tale\\xa0', 'Dreamgirls\\xa0', 'Life\\xa0            ', 'Be Cool\\xa0', 'Munich\\xa0', 'Tears of the Sun\\xa0', 'Killers\\xa0', 'The Man from U.N.C.L.E.\\xa0', 'Spanglish\\xa0', 'Monster House\\xa0', 'Bandits\\xa0', 'First Knight\\xa0', 'Anna and the King\\xa0', 'Immortals\\xa0', 'Hostage\\xa0', 'Titan A.E.\\xa0', 'Hollywood Homicide\\xa0', 'Soldier\\xa0', 'Carriers\\xa0', 'Monkeybone\\xa0', 'Flight of the Phoenix\\xa0', 'Unbreakable\\xa0', 'Minions\\xa0', 'Sucker Punch\\xa0', 'Snake Eyes\\xa0', 'Sphere\\xa0', 'The Angry Birds Movie\\xa0', \"Fool's Gold\\xa0\", 'Funny People\\xa0', 'The Kingdom\\xa0', 'Talladega Nights: The Ballad of Ricky Bobby\\xa0', 'Dr. Dolittle 2\\xa0', 'Braveheart\\xa0', 'Jarhead\\xa0', 'The Simpsons Movie\\xa0', 'The Majestic\\xa0', 'Driven\\xa0', 'Two Brothers\\xa0', 'The Village\\xa0', 'Doctor Dolittle\\xa0', 'Signs\\xa0', 'Shrek 2\\xa0', 'Cars\\xa0', 'Runaway Bride\\xa0', 'xXx\\xa0', 'The SpongeBob Movie: Sponge Out of Water\\xa0', 'Ransom\\xa0', 'Inglourious Basterds\\xa0', 'Hook\\xa0', 'Hercules\\xa0', 'Die Hard 2\\xa0', 'S.W.A.T.\\xa0', 'Sleepy Hollow\\xa0            ', 'Vanilla Sky\\xa0', 'Lady in the Water\\xa0', 'AVP: Alien vs. Predator\\xa0', 'Alvin and the Chipmunks: The Squeakquel\\xa0', 'We Were Soldiers\\xa0', 'Olympus Has Fallen\\xa0', 'Star Trek: Insurrection\\xa0', 'Battle Los Angeles\\xa0', 'Big Fish\\xa0', 'Wolf\\xa0', 'War Horse\\xa0', 'The Monuments Men\\xa0', 'The Abyss\\xa0', 'Wall Street: Money Never Sleeps\\xa0', 'Dracula Untold\\xa0', 'The Siege\\xa0', 'Stardust\\xa0', 'Seven Years in Tibet\\xa0', 'The Dilemma\\xa0', 'Bad Company\\xa0', 'Doom\\xa0', 'I Spy\\xa0', 'Underworld: Awakening\\xa0', 'Rock of Ages\\xa0', \"Hart's War\\xa0\", 'Killer Elite\\xa0', 'Rollerball\\xa0', 'Ballistic: Ecks vs. Sever\\xa0', 'Hard Rain\\xa0', 'Osmosis Jones\\xa0', \"Legends of Oz: Dorothy's Return\\xa0\", 'Blackhat\\xa0', 'Sky Captain and the World of Tomorrow\\xa0', 'Basic Instinct 2\\xa0', 'Escape Plan\\xa0', 'The Legend of Hercules\\xa0', 'The Sum of All Fears\\xa0', 'The Twilight Saga: Eclipse\\xa0', 'The Score\\xa0', 'Despicable Me\\xa0', 'Money Train\\xa0', 'Ted 2\\xa0', 'Agora\\xa0', 'Mystery Men\\xa0', 'Hall Pass\\xa0', 'The Insider\\xa0', 'The Finest Hours\\xa0', 'Body of Lies\\xa0', 'Dinner for Schmucks\\xa0', 'Abraham Lincoln: Vampire Hunter\\xa0', 'Entrapment\\xa0', 'Last Man Standing\\xa0            ', 'The X Files\\xa0', 'The Last Legion\\xa0', 'Saving Private Ryan\\xa0', 'Need for Speed\\xa0', 'What Women Want\\xa0', 'Ice Age\\xa0', 'Dreamcatcher\\xa0', 'Lincoln\\xa0', 'The Matrix\\xa0', 'Apollo 13\\xa0', 'Total Recall\\xa0', 'The Santa Clause 2\\xa0', 'Les Misérables\\xa0', \"You've Got Mail\\xa0\", 'Step Brothers\\xa0', 'The Mask of Zorro\\xa0', 'Due Date\\xa0', 'Unbroken\\xa0', 'Space Cowboys\\xa0', 'Cliffhanger\\xa0', 'Broken Arrow\\xa0', 'The Kid\\xa0', 'World Trade Center\\xa0', 'Mona Lisa Smile\\xa0', 'The Dictator\\xa0', 'Eyes Wide Shut\\xa0', 'Annie\\xa0', 'Focus\\xa0', 'This Means War\\xa0', 'Blade: Trinity\\xa0', 'Red Dawn\\xa0', 'Primary Colors\\xa0', 'Resident Evil: Retribution\\xa0', 'Death Race\\xa0', 'The Long Kiss Goodnight\\xa0', 'Proof of Life\\xa0', 'Zathura: A Space Adventure\\xa0', 'Fight Club\\xa0', 'We Are Marshall\\xa0', 'The Missing\\xa0            ', 'Hudson Hawk\\xa0', 'Lucky Numbers\\xa0', 'I, Frankenstein\\xa0', 'Oliver Twist\\xa0', 'Elektra\\xa0', 'Sin City: A Dame to Kill For\\xa0', 'Random Hearts\\xa0', 'Everest\\xa0', 'Perfume: The Story of a Murderer\\xa0', 'Austin Powers in Goldmember\\xa0', 'Astro Boy\\xa0', 'Jurassic Park\\xa0', 'Wyatt Earp\\xa0', 'Clear and Present Danger\\xa0', 'Dragon Blade\\xa0', 'Littleman\\xa0', 'U-571\\xa0', 'The American President\\xa0', 'The Love Guru\\xa0', '3000 Miles to Graceland\\xa0', 'The Hateful Eight\\xa0', 'Blades of Glory\\xa0', 'Hop\\xa0', '300\\xa0', 'Meet the Fockers\\xa0', 'Marley & Me\\xa0', 'The Green Mile\\xa0', 'Wild Hogs\\xa0', 'Chicken Little\\xa0', 'Gone Girl\\xa0', 'The Bourne Identity\\xa0', 'GoldenEye\\xa0', \"The General's Daughter\\xa0\", 'The Truman Show\\xa0', 'The Prince of Egypt\\xa0', 'Daddy Day Care\\xa0', '2 Guns\\xa0', 'Cats & Dogs\\xa0', 'The Italian Job\\xa0', 'Two Weeks Notice\\xa0', 'Antz\\xa0', 'Couples Retreat\\xa0', 'Days of Thunder\\xa0', 'Cheaper by the Dozen 2\\xa0', 'The Scorch Trials\\xa0', 'Eat Pray Love\\xa0', 'The Family Man\\xa0', 'RED\\xa0', 'Any Given Sunday\\xa0', 'The Horse Whisperer\\xa0', 'Collateral\\xa0', 'The Scorpion King\\xa0', 'Ladder 49\\xa0', 'Jack Reacher\\xa0', 'Deep Blue Sea\\xa0', 'This Is It\\xa0', 'Contagion\\xa0', 'Kangaroo Jack\\xa0', 'Coraline\\xa0', 'The Happening\\xa0', 'Man on Fire\\xa0', 'The Shaggy Dog\\xa0', 'Starsky & Hutch\\xa0', 'Jingle All the Way\\xa0', 'Hellboy\\xa0', 'A Civil Action\\xa0', 'ParaNorman\\xa0', 'The Jackal\\xa0', 'Paycheck\\xa0', 'Up Close & Personal\\xa0', 'The Tale of Despereaux\\xa0', 'Rules of Engagement\\xa0            ', 'The Tuxedo\\xa0', 'Under Siege 2: Dark Territory\\xa0', 'Jack Ryan: Shadow Recruit\\xa0', 'Joy\\xa0', 'London Has Fallen\\xa0', 'Alien: Resurrection\\xa0', 'Shooter\\xa0', 'The Boxtrolls\\xa0', 'Practical Magic\\xa0', 'The Lego Movie\\xa0', 'Miss Congeniality 2: Armed and Fabulous\\xa0', 'Reign of Fire\\xa0', 'Gangster Squad\\xa0', 'Year One\\xa0', 'Invictus\\xa0', 'State of Play\\xa0', 'Duplicity\\xa0', 'My Favorite Martian\\xa0', 'The Sentinel\\xa0', 'Planet 51\\xa0', 'Star Trek: Nemesis\\xa0', 'Intolerable Cruelty\\xa0', 'Trouble with the Curve\\xa0', 'Edge of Darkness\\xa0', 'The Relic\\xa0', 'Analyze That\\xa0', 'Righteous Kill\\xa0', 'Mercury Rising\\xa0', 'The Soloist\\xa0', 'The Legend of Bagger Vance\\xa0', 'Almost Famous\\xa0', 'Garfield 2\\xa0', 'xXx: State of the Union\\xa0', 'Priest\\xa0', 'Sinbad: Legend of the Seven Seas\\xa0', 'Event Horizon\\xa0', 'The Avengers\\xa0', 'Dragonfly\\xa0', 'The Black Dahlia\\xa0', 'Flyboys\\xa0', 'The Last Castle\\xa0', 'Supernova\\xa0', \"Winter's Tale\\xa0\", 'The Mortal Instruments: City of Bones\\xa0', 'Meet Dave\\xa0', 'Dark Water\\xa0', 'Edtv\\xa0', 'Inkheart\\xa0', 'The Spirit\\xa0', 'Mortdecai\\xa0', 'In the Name of the King: A Dungeon Siege Tale\\xa0', 'Beyond Borders\\xa0', 'Xi you ji zhi: Sun Wukong san da Baigu Jing\\xa0', 'The Great Raid\\xa0', 'Deadpool\\xa0', 'Holy Man\\xa0', 'American Sniper\\xa0', 'Goosebumps\\xa0', 'Sabrina, the Teenage Witch\\xa0            ', 'Just Like Heaven\\xa0', 'The Flintstones in Viva Rock Vegas\\xa0', 'Rambo III\\xa0', 'Leatherheads\\xa0', 'The Ridiculous 6\\xa0', 'Did You Hear About the Morgans?\\xa0', 'The Internship\\xa0', 'Resident Evil: Afterlife\\xa0', 'Red Tails\\xa0', 'Sex and the City\\xa0            ', \"The Devil's Advocate\\xa0\", \"That's My Boy\\xa0\", 'DragonHeart\\xa0', 'After the Sunset\\xa0', 'Ghost Rider: Spirit of Vengeance\\xa0', \"Captain Corelli's Mandolin\\xa0\", 'Anger Management\\xa0            ', 'The Pacifier\\xa0', 'Walking Tall\\xa0', 'Forrest Gump\\xa0', 'Alvin and the Chipmunks\\xa0', 'Meet the Parents\\xa0', 'Pocahontas\\xa0', 'Superman\\xa0', 'The Nutty Professor\\xa0', 'Hitch\\xa0', 'George of the Jungle\\xa0', 'American Wedding\\xa0', 'Captain Phillips\\xa0', 'Date Night\\xa0', 'Casper\\xa0', 'The Equalizer\\xa0', 'Maid in Manhattan\\xa0', 'Crimson Tide\\xa0', 'The Pursuit of Happyness\\xa0', 'Flightplan\\xa0', 'Disclosure\\xa0', 'City of Angels\\xa0', 'Kill Bill: Vol. 1\\xa0', 'Bowfinger\\xa0', 'Stargate SG-1\\xa0            ', 'Kill Bill: Vol. 2\\xa0', 'Tango & Cash\\xa0', 'Death Becomes Her\\xa0', 'Shanghai Noon\\xa0', 'Executive Decision\\xa0', \"Mr. Popper's Penguins\\xa0\", 'The Forbidden Kingdom\\xa0', 'Free Birds\\xa0', 'Alien 3\\xa0', 'Evita\\xa0', 'Ronin\\xa0', 'The Ghost and the Darkness\\xa0', 'Paddington\\xa0', 'The Watch\\xa0', 'The Hunted\\xa0', 'Instinct\\xa0', 'Stuck on You\\xa0', 'Semi-Pro\\xa0', 'The Pirates! Band of Misfits\\xa0', 'Changeling\\xa0', 'Chain Reaction\\xa0', 'The Fan\\xa0', 'The Phantom of the Opera\\xa0', 'Elizabeth: The Golden Age\\xa0', 'Æon Flux\\xa0', 'Gods and Generals\\xa0', 'Turbulence\\xa0', 'Imagine That\\xa0', 'Muppets Most Wanted\\xa0', 'Thunderbirds\\xa0', 'Burlesque\\xa0', 'A Very Long Engagement\\xa0', 'Lolita\\xa0', 'Eye See You\\xa0', 'Blade II\\xa0', 'Seven Pounds\\xa0', 'Bullet to the Head\\xa0', 'The Godfather: Part III\\xa0', 'Elizabethtown\\xa0', 'You, Me and Dupree\\xa0', 'Superman II\\xa0', 'Gigli\\xa0', \"All the King's Men\\xa0\", 'Shaft\\xa0', 'Anastasia\\xa0', 'Moulin Rouge!\\xa0', 'Domestic Disturbance\\xa0', 'Black Mass\\xa0', 'Flags of Our Fathers\\xa0', 'Law Abiding Citizen\\xa0', 'Grindhouse\\xa0', 'Beloved\\xa0', 'Lucky You\\xa0', 'Catch Me If You Can\\xa0', 'Zero Dark Thirty\\xa0', 'The Break-Up\\xa0', 'Mamma Mia!\\xa0', \"Valentine's Day\\xa0\", 'The Dukes of Hazzard\\xa0', 'The Thin Red Line\\xa0', 'The Change-Up\\xa0', 'Man on the Moon\\xa0', 'Casino\\xa0', 'From Paris with Love\\xa0', 'Bulletproof Monk\\xa0', 'Me, Myself & Irene\\xa0', 'Barnyard\\xa0', 'Deck the Halls\\xa0', 'The Twilight Saga: New Moon\\xa0', 'Shrek\\xa0', 'The Adjustment Bureau\\xa0', 'Robin Hood: Prince of Thieves\\xa0', 'Jerry Maguire\\xa0', 'Ted\\xa0', 'As Good as It Gets\\xa0', 'Patch Adams\\xa0', 'Anchorman 2: The Legend Continues\\xa0', 'Mr. Deeds\\xa0', 'Super 8\\xa0', 'Erin Brockovich\\xa0', 'How to Lose a Guy in 10 Days\\xa0', '22 Jump Street\\xa0', 'Interview with the Vampire: The Vampire Chronicles\\xa0', 'Yes Man\\xa0', 'Central Intelligence\\xa0', 'Stepmom\\xa0', \"Daddy's Home\\xa0\", 'Into the Woods\\xa0', 'Inside Man\\xa0', 'Payback\\xa0', 'Congo\\xa0', 'We Bought a Zoo\\xa0', 'Knowing\\xa0', 'Failure to Launch\\xa0', 'The Ring Two\\xa0', 'Crazy, Stupid, Love.\\xa0', 'Garfield\\xa0', 'Christmas with the Kranks\\xa0', 'Moneyball\\xa0', 'Outbreak\\xa0', 'Non-Stop\\xa0', 'Race to Witch Mountain\\xa0', 'V for Vendetta\\xa0', 'Shanghai Knights\\xa0', 'Unforgotten\\xa0            ', 'Curious George\\xa0', 'Herbie Fully Loaded\\xa0', \"Don't Say a Word\\xa0\", 'Hansel & Gretel: Witch Hunters\\xa0', 'Unfaithful\\xa0', 'I Am Number Four\\xa0', 'Syriana\\xa0', '13 Hours\\xa0', 'The Book of Life\\xa0', 'Firewall\\xa0', 'Absolute Power\\xa0', 'G.I. Jane\\xa0', 'The Game\\xa0', 'Silent Hill\\xa0', 'The Replacements\\xa0', 'American Reunion\\xa0', 'The Negotiator\\xa0', 'Into the Storm\\xa0', 'Beverly Hills Cop III\\xa0', 'Gremlins 2: The New Batch\\xa0', 'The Judge\\xa0', 'The Peacemaker\\xa0', 'Resident Evil: Apocalypse\\xa0', 'Bridget Jones: The Edge of Reason\\xa0', 'Out of Time\\xa0', 'On Deadly Ground\\xa0', 'The Adventures of Sharkboy and Lavagirl 3-D\\xa0', 'The Beach\\xa0', 'Raising Helen\\xa0', 'Ninja Assassin\\xa0', 'For Love of the Game\\xa0', 'A Touch of Frost\\xa0            ', 'Striptease\\xa0', 'Marmaduke\\xa0', 'Hereafter\\xa0', 'Murder by Numbers\\xa0', 'Assassins\\xa0', 'Hannibal Rising\\xa0', 'The Story of Us\\xa0', 'The Host\\xa0', 'Basic\\xa0', 'Blood Work\\xa0', 'The International\\xa0', 'Escape from L.A.\\xa0', 'Twisted\\xa0            ', 'The Iron Giant\\xa0', 'The Life Aquatic with Steve Zissou\\xa0', 'Free State of Jones\\xa0', 'The Life of David Gale\\xa0', 'Man of the House\\xa0', 'Run All Night\\xa0', 'Eastern Promises\\xa0', 'Into the Blue\\xa0', 'The Messenger: The Story of Joan of Arc\\xa0', 'Your Highness\\xa0', 'Dream House\\xa0', 'Mad City\\xa0', \"Baby's Day Out\\xa0\", 'The Scarlet Letter\\xa0', 'Fair Game\\xa0', 'Defiance\\xa0            ', 'Domino\\xa0', 'Jade\\xa0', 'Gamer\\xa0', 'Beautiful Creatures\\xa0', 'Death to Smoochy\\xa0', 'Zoolander 2\\xa0', 'The Big Bounce\\xa0', 'What Planet Are You From?\\xa0', 'Drive Angry\\xa0', 'Street Fighter: The Legend of Chun-Li\\xa0', 'The One\\xa0', 'Outlander\\xa0            ', 'The Adventures of Ford Fairlane\\xa0', 'Pirate Radio\\xa0', 'Traffic\\xa0', 'Indiana Jones and the Last Crusade\\xa0', 'Anna Karenina\\xa0', 'Chappie\\xa0', 'The Bone Collector\\xa0', 'Panic Room\\xa0', 'The Tooth Fairy\\xa0', 'Three Kings\\xa0', 'Child 44\\xa0', 'Rat Race\\xa0', 'K-PAX\\xa0', 'Kate & Leopold\\xa0', 'Bedazzled\\xa0', 'The Cotton Club\\xa0', '3:10 to Yuma\\xa0', 'Taken 3\\xa0', 'Out of Sight\\xa0', 'The Cable Guy\\xa0', 'Earth\\xa0', 'Dick Tracy\\xa0', 'The Thomas Crown Affair\\xa0', 'Riding in Cars with Boys\\xa0', 'First Blood\\xa0', 'Solaris\\xa0', \"Happily N'Ever After\\xa0\", 'Mary Reilly\\xa0', \"My Best Friend's Wedding\\xa0\", \"America's Sweethearts\\xa0\", 'Insomnia\\xa0', 'Star Trek: First Contact\\xa0', 'Jonah Hex\\xa0', 'Courage Under Fire\\xa0', 'Liar Liar\\xa0', 'The Infiltrator\\xa0', 'Inchon\\xa0', 'The Flintstones\\xa0', 'Taken 2\\xa0', 'Scary Movie 3\\xa0', 'Miss Congeniality\\xa0', 'Journey to the Center of the Earth\\xa0', 'The Princess Diaries 2: Royal Engagement\\xa0', 'The Pelican Brief\\xa0', 'The Client\\xa0', 'The Bucket List\\xa0', 'Patriot Games\\xa0', 'Monster-in-Law\\xa0', 'Prisoners\\xa0', 'Training Day\\xa0', 'Galaxy Quest\\xa0', 'Scary Movie 2\\xa0', 'The Muppets\\xa0', 'Blade\\xa0', 'Coach Carter\\xa0', 'Changing Lanes\\xa0', 'Anaconda\\xa0', 'Coyote Ugly\\xa0', 'Love Actually\\xa0', \"A Bug's Life\\xa0\", 'From Hell\\xa0', 'The Specialist\\xa0', 'Tin Cup\\xa0', 'Yours, Mine and Ours\\xa0', 'Kicking & Screaming\\xa0', \"The Hitchhiker's Guide to the Galaxy\\xa0\", 'Fat Albert\\xa0', 'Resident Evil: Extinction\\xa0', 'Blended\\xa0', 'Last Holiday\\xa0', 'The River Wild\\xa0', 'The Indian in the Cupboard\\xa0', 'Savages\\xa0', 'Cellular\\xa0', 'Johnny English\\xa0', 'The Ant Bully\\xa0', 'Dune\\xa0', 'Across the Universe\\xa0', 'Revolutionary Road\\xa0', '16 Blocks\\xa0', 'Babylon A.D.\\xa0', 'The Glimmer Man\\xa0', 'Multiplicity\\xa0', 'Aliens in the Attic\\xa0', 'The Pledge\\xa0', 'The Producers\\xa0', 'Dredd\\xa0', 'The Phantom\\xa0', 'All the Pretty Horses\\xa0', 'Nixon\\xa0', 'The Ghost Writer\\xa0', 'Deep Rising\\xa0', 'Miracle at St. Anna\\xa0', 'Curse of the Golden Flower\\xa0', 'Bangkok Dangerous\\xa0', 'Big Trouble\\xa0', 'Love in the Time of Cholera\\xa0', 'The Returned\\xa0            ', 'Shadow Conspiracy\\xa0', 'Johnny English Reborn\\xa0', 'Foodfight!\\xa0', 'Argo\\xa0', 'The Fugitive\\xa0', 'The Bounty Hunter\\xa0', 'Sleepers\\xa0', 'Rambo: First Blood Part II\\xa0', 'The Juror\\xa0', 'Pinocchio\\xa0', \"Heaven's Gate\\xa0\", 'Underworld: Evolution\\xa0', 'Victor Frankenstein\\xa0', 'Finding Forrester\\xa0', '28 Days\\xa0', 'Unleashed\\xa0', 'The Sweetest Thing\\xa0', 'The Firm\\xa0', 'Charlie St. Cloud\\xa0', 'The Mechanic\\xa0', '21 Jump Street\\xa0', 'Notting Hill\\xa0', 'Chicken Run\\xa0', 'Along Came Polly\\xa0', 'Boomerang\\xa0', 'The Heat\\xa0', 'Cleopatra\\xa0', 'Here Comes the Boom\\xa0', 'High Crimes\\xa0', 'The Mirror Has Two Faces\\xa0', 'The Mothman Prophecies\\xa0', 'Brüno\\xa0', 'Licence to Kill\\xa0', 'Red Riding Hood\\xa0', '15 Minutes\\xa0', 'Super Mario Bros.\\xa0', 'Lord of War\\xa0', 'Hero\\xa0', 'One for the Money\\xa0', 'The Interview\\xa0', \"The Warrior's Way\\xa0\", \"McHale's Navy\\xa0            \", 'Micmacs\\xa0', '8 Mile\\xa0', \"Animal Kingdom: Let's go Ape\\xa0\", \"A Knight's Tale\\xa0\", 'The Medallion\\xa0', 'The Sixth Sense\\xa0', 'Man on a Ledge\\xa0', 'The Big Year\\xa0', 'The Karate Kid\\xa0', 'American Hustle\\xa0', 'The Proposal\\xa0', 'Double Jeopardy\\xa0', 'Back to the Future Part II\\xa0', 'Lucy\\xa0', 'Fifty Shades of Grey\\xa0', 'Spy Kids 3-D: Game Over\\xa0', 'A Time to Kill\\xa0', 'Cheaper by the Dozen\\xa0', 'Lone Survivor\\xa0', 'A League of Their Own\\xa0', 'The Conjuring 2\\xa0', 'The Social Network\\xa0', \"He's Just Not That Into You\\xa0\", 'Scary Movie 4\\xa0', 'Scream 3\\xa0', 'Back to the Future Part III\\xa0', 'Get Hard\\xa0', \"Bram Stoker's Dracula\\xa0\", 'Julie & Julia\\xa0', '42\\xa0', 'The Talented Mr. Ripley\\xa0', 'Dumb and Dumber To\\xa0', 'Eight Below\\xa0', 'The Intern\\xa0', 'Ride Along 2\\xa0', 'The Last of the Mohicans\\xa0', 'Ray\\xa0', 'Sin City\\xa0', 'Vantage Point\\xa0', 'I Love You, Man\\xa0', 'Shallow Hal\\xa0', 'JFK\\xa0', \"Big Momma's House 2\\xa0\", 'The Mexican\\xa0', 'Unbroken\\xa0', '17 Again\\xa0', 'The Other Woman\\xa0', 'The Final Destination\\xa0', 'Bridge of Spies\\xa0', 'Behind Enemy Lines\\xa0', 'Get Him to the Greek\\xa0', 'Shall We Dance\\xa0', 'Small Soldiers\\xa0', 'Spawn\\xa0', 'The Count of Monte Cristo\\xa0', 'The Lincoln Lawyer\\xa0', 'Unknown\\xa0', 'The Prestige\\xa0', 'Horrible Bosses 2\\xa0', 'Escape from Planet Earth\\xa0', 'Apocalypto\\xa0', 'The Living Daylights\\xa0', 'Predators\\xa0', 'Legal Eagles\\xa0', 'Secret Window\\xa0', 'The Lake House\\xa0', 'The Skeleton Key\\xa0', 'The Odd Life of Timothy Green\\xa0', 'Made of Honor\\xa0', 'Jersey Boys\\xa0', 'The Rainmaker\\xa0', 'Gothika\\xa0', 'Amistad\\xa0', 'Medicine Man\\xa0', 'Aliens vs. Predator: Requiem\\xa0', 'Ri¢hie Ri¢h\\xa0', 'Autumn in New York\\xa0', 'Music and Lyrics\\xa0', 'Paul\\xa0', 'The Guilt Trip\\xa0', 'Scream 4\\xa0', '8MM\\xa0', 'The Doors\\xa0', 'Sex Tape\\xa0', 'Hanging Up\\xa0', 'Final Destination 5\\xa0', 'Mickey Blue Eyes\\xa0', 'Pay It Forward\\xa0', 'Fever Pitch\\xa0', 'Arthur\\xa0            ', 'Drillbit Taylor\\xa0', 'A Million Ways to Die in the West\\xa0', 'The Shadow\\xa0', 'Extremely Loud & Incredibly Close\\xa0', 'Morning Glory\\xa0', \"Get Rich or Die Tryin'\\xa0\", 'The Art of War\\xa0', 'Rent\\xa0', 'Bless the Child\\xa0', 'The Out-of-Towners\\xa0', 'The Island of Dr. Moreau\\xa0', 'The Musketeer\\xa0', 'The Other Boleyn Girl\\xa0', 'Sweet November\\xa0', 'The Reaping\\xa0', 'Mean Streets\\xa0', 'Renaissance Man\\xa0', 'Colombiana\\xa0', 'The Magic Sword: Quest for Camelot\\xa0', 'City by the Sea\\xa0', 'At First Sight\\xa0', 'Torque\\xa0', 'City Hall\\xa0', 'Showgirls\\xa0', 'Marie Antoinette\\xa0', 'Kiss of Death\\xa0', 'Get Carter\\xa0', 'The Impossible\\xa0', 'Ishtar\\xa0', 'Fantastic Mr. Fox\\xa0', 'Life or Something Like It\\xa0', 'Memoirs of an Invisible Man\\xa0', 'Amélie\\xa0', 'New York Minute\\xa0', 'Alfie\\xa0', 'Big Miracle\\xa0', 'The Deep End of the Ocean\\xa0', 'Feardotcom\\xa0', \"Cirque du Freak: The Vampire's Assistant\\xa0\", 'Victor Frankenstein\\xa0', 'Duplex\\xa0', 'Soul Men\\xa0', 'Raise the Titanic\\xa0', 'Universal Soldier: The Return\\xa0', 'Pandorum\\xa0', 'Impostor\\xa0', 'Extreme Ops\\xa0', 'Just Visiting\\xa0', 'Sunshine\\xa0', 'A Thousand Words\\xa0', 'Delgo\\xa0', 'The Gunman\\xa0', 'Alex Rider: Operation Stormbreaker\\xa0', 'Disturbia\\xa0', 'Hackers\\xa0', 'The Hunting Party\\xa0', 'The Hudsucker Proxy\\xa0', 'The Warlords\\xa0', 'Nomad: The Warrior\\xa0', 'Snowpiercer\\xa0', 'A Monster in Paris\\xa0', 'The Last Shot\\xa0', 'The Crow\\xa0', 'Baahubali: The Beginning\\xa0', \"The Time Traveler's Wife\\xa0\", 'Because I Said So\\xa0', 'The Fast and the Furious\\xa0', 'Frankenweenie\\xa0', 'Serenity\\xa0', 'Against the Ropes\\xa0', 'Superman III\\xa0', 'Grudge Match\\xa0', 'Red Cliff\\xa0', 'Sweet Home Alabama\\xa0', 'The Ugly Truth\\xa0', 'Sgt. Bilko\\xa0', 'Spy Kids 2: Island of Lost Dreams\\xa0', 'Star Trek: Generations\\xa0', 'The Grandmaster\\xa0', 'Water for Elephants\\xa0', '3rd Rock from the Sun\\xa0            ', \"Dragon Nest: Warriors' Dawn\\xa0\", 'The Hurricane\\xa0', 'Enough\\xa0', 'Heartbreakers\\xa0', 'Paul Blart: Mall Cop 2\\xa0', 'Angel Eyes\\xa0', 'Joe Somebody\\xa0', 'The Ninth Gate\\xa0', 'Extreme Measures\\xa0', 'Rock Star\\xa0', 'Precious\\xa0', 'White Squall\\xa0', 'The Thing\\xa0', 'Riddick\\xa0', 'Switchback\\xa0', 'Texas Rangers\\xa0', 'City of Ember\\xa0', 'The Master\\xa0', 'Virgin Territory\\xa0', 'The Express\\xa0', 'The 5th Wave\\xa0', 'Creed\\xa0', 'The Town\\xa0', \"What to Expect When You're Expecting\\xa0\", 'Burn After Reading\\xa0', \"Nim's Island\\xa0\", 'Rush\\xa0', 'Magnolia\\xa0', 'Cop Out\\xa0', 'How to Be Single\\xa0', 'Dolphin Tale\\xa0', 'Twilight\\xa0', 'John Q\\xa0', 'Blue Streak\\xa0', \"We're the Millers\\xa0\", 'Obitaemyy ostrov\\xa0', 'Breakdown\\xa0', 'Never Say Never Again\\xa0', 'Hot Tub Time Machine\\xa0', 'Dolphin Tale 2\\xa0', 'Reindeer Games\\xa0', 'A Man Apart\\xa0', 'Aloha\\xa0', 'Ghosts of Mississippi\\xa0', 'Snow Falling on Cedars\\xa0', 'The Rite\\xa0', 'Gattaca\\xa0', \"Isn't She Great\\xa0\", 'Space Chimps\\xa0', 'Head of State\\xa0', 'The Hangover\\xa0', 'Ip Man 3\\xa0', 'Austin Powers: The Spy Who Shagged Me\\xa0', 'Batman\\xa0', 'There Be Dragons\\xa0', 'Lethal Weapon 3\\xa0', 'The Blind Side\\xa0', 'Rush Hour\\xa0            ', 'Spy Kids\\xa0', 'Horrible Bosses\\xa0', 'True Grit\\xa0', 'The Devil Wears Prada\\xa0', 'Star Trek: The Motion Picture\\xa0', 'Identity Thief\\xa0', 'Cape Fear\\xa0', '21\\xa0', 'Trainwreck\\xa0', 'Guess Who\\xa0', 'The English Patient\\xa0', 'L.A. Confidential\\xa0', 'Sky High\\xa0', 'In & Out\\xa0', 'Species\\xa0', 'A Nightmare on Elm Street\\xa0', 'The Cell\\xa0', 'The Man in the Iron Mask\\xa0', 'Secretariat\\xa0', 'TMNT\\xa0', 'Radio\\xa0', 'Friends with Benefits\\xa0', 'Neighbors 2: Sorority Rising\\xa0', 'Saving Mr. Banks\\xa0', 'Malcolm X\\xa0', 'This Is 40\\xa0', 'Old Dogs\\xa0', 'Underworld: Rise of the Lycans\\xa0', 'License to Wed\\xa0', 'The Benchwarmers\\xa0', 'Must Love Dogs\\xa0', 'Donnie Brasco\\xa0', 'Resident Evil\\xa0', 'Poltergeist\\xa0', 'The Ladykillers\\xa0', 'Max Payne\\xa0', 'In Time\\xa0', 'The Back-up Plan\\xa0', 'Something Borrowed\\xa0', 'Hit the Floor\\xa0            ', 'Black Knight\\xa0', 'The Bad News Bears\\xa0', 'Street Fighter\\xa0', 'The Pianist\\xa0', 'From Hell\\xa0', 'The Nativity Story\\xa0', 'House of Wax\\xa0', 'Closer\\xa0', 'J. Edgar\\xa0', 'Mirrors\\xa0', 'Queen of the Damned\\xa0', 'Predator 2\\xa0', 'Untraceable\\xa0', 'Blast from the Past\\xa0', 'Flash Gordon\\xa0', 'Jersey Girl\\xa0', 'Alex Cross\\xa0', 'Midnight in the Garden of Good and Evil\\xa0', 'Heist\\xa0', 'Nanny McPhee Returns\\xa0', 'Hoffa\\xa0', 'The X Files: I Want to Believe\\xa0', 'Ella Enchanted\\xa0', 'Concussion\\xa0', 'Abduction\\xa0', 'Valiant\\xa0', 'Wonder Boys\\xa0', 'Superhero Movie\\xa0', 'Broken City\\xa0', 'Cursed\\xa0', 'Premium Rush\\xa0', 'Hot Pursuit\\xa0', 'The Four Feathers\\xa0', 'Parker\\xa0', 'Wimbledon\\xa0', 'Furry Vengeance\\xa0', 'Bait\\xa0', 'Krull\\xa0', 'Lions for Lambs\\xa0', 'Flight of the Intruder\\xa0', 'Walk Hard: The Dewey Cox Story\\xa0', 'The Shipping News\\xa0', 'American Outlaws\\xa0', 'The Young Victoria\\xa0', 'Whiteout\\xa0', 'The Tree of Life\\xa0', 'Knock Off\\xa0', 'Sabotage\\xa0', 'The Order\\xa0', 'Punisher: War Zone\\xa0', 'Zoom\\xa0', 'The Walk\\xa0', 'Warriors of Virtue\\xa0', 'A Good Year\\xa0', 'Luther\\xa0            ', 'Radio Flyer\\xa0', 'Blood In, Blood Out\\xa0', \"Smilla's Sense of Snow\\xa0\", 'Femme Fatale\\xa0', 'Lion of the Desert\\xa0', 'The Horseman on the Roof\\xa0', 'Ride with the Devil\\xa0', 'Biutiful\\xa0', 'The Lovers\\xa0', 'Bandidas\\xa0', 'Black Water Transit\\xa0', 'The Maze Runner\\xa0', 'Unfinished Business\\xa0', 'The Age of Innocence\\xa0', 'The Fountain\\xa0', 'Chill Factor\\xa0', 'Stolen\\xa0', 'Ponyo\\xa0', 'The Longest Ride\\xa0', \"The Astronaut's Wife\\xa0\", 'I Dreamed of Africa\\xa0', 'Playing for Keeps\\xa0', 'Mandela: Long Walk to Freedom\\xa0', 'Reds\\xa0', 'A Few Good Men\\xa0', 'Exit Wounds\\xa0', \"Big Momma's House\\xa0\", 'Thunder and the House of Magic\\xa0', 'The Darkest Hour\\xa0', 'Step Up Revolution\\xa0', 'Snakes on a Plane\\xa0', 'The Watcher\\xa0', 'The Punisher\\xa0', 'Goal! The Dream Begins\\xa0', 'Safe\\xa0', 'Pushing Tin\\xa0', 'Star Wars: Episode VI - Return of the Jedi\\xa0', 'Doomsday\\xa0', 'The Reader\\xa0', 'Wanderlust\\xa0', 'Elf\\xa0', 'Phenomenon\\xa0', 'Snow Dogs\\xa0', 'Scrooged\\xa0', 'Nacho Libre\\xa0', 'Bridesmaids\\xa0', 'This Is the End\\xa0', 'Stigmata\\xa0', 'Men of Honor\\xa0', 'Takers\\xa0', 'The Big Wedding\\xa0', 'Big Mommas: Like Father, Like Son\\xa0', 'Source Code\\xa0', 'Alive\\xa0', 'The Number 23\\xa0', 'The Young and Prodigious T.S. Spivet\\xa0', '1941\\xa0', 'Dreamer: Inspired by a True Story\\xa0', 'A History of Violence\\xa0', 'Transporter 2\\xa0', 'The Quick and the Dead\\xa0', 'Laws of Attraction\\xa0', 'Bringing Out the Dead\\xa0', 'Repo Men\\xa0', 'Dragon Wars: D-War\\xa0', 'Bogus\\xa0', 'The Incredible Burt Wonderstone\\xa0', \"Cats Don't Dance\\xa0\", 'Cradle Will Rock\\xa0', 'The Good German\\xa0', 'George and the Dragon\\xa0', 'Apocalypse Now\\xa0', 'Going the Distance\\xa0', \"Mr. Holland's Opus\\xa0\", 'Criminal\\xa0', 'Out of Africa\\xa0', 'Flight\\xa0', 'Moonraker\\xa0', 'The Grand Budapest Hotel\\xa0', 'Hearts in Atlantis\\xa0', 'Arachnophobia\\xa0', 'Frequency\\xa0', 'Ghostbusters\\xa0', 'Vacation\\xa0', 'Get Shorty\\xa0', 'Chicago\\xa0', 'Big Daddy\\xa0', 'American Pie 2\\xa0', 'Toy Story\\xa0', 'Speed\\xa0', 'The Vow\\xa0', 'Extraordinary Measures\\xa0', 'Remember the Titans\\xa0', 'The Hunt for Red October\\xa0', \"Lee Daniels' The Butler\\xa0\", 'Dodgeball: A True Underdog Story\\xa0', 'The Addams Family\\xa0', 'Ace Ventura: When Nature Calls\\xa0', 'The Princess Diaries\\xa0', 'The First Wives Club\\xa0', 'Se7en\\xa0', 'District 9\\xa0', 'The SpongeBob SquarePants Movie\\xa0', 'Mystic River\\xa0', 'Million Dollar Baby\\xa0', 'Analyze This\\xa0', 'The Notebook\\xa0', '27 Dresses\\xa0', 'Hannah Montana: The Movie\\xa0', 'Rugrats in Paris: The Movie\\xa0', 'The Prince of Tides\\xa0', 'Legends of the Fall\\xa0', 'Up in the Air\\xa0', 'About Schmidt\\xa0', 'Warm Bodies\\xa0', 'Looper\\xa0', 'Down to Earth\\xa0', 'Babe\\xa0', 'Hope Springs\\xa0', 'Forgetting Sarah Marshall\\xa0', 'Friday Night Lights\\xa0            ', 'Four Brothers\\xa0', 'Baby Mama\\xa0', 'Hope Floats\\xa0', 'Bride Wars\\xa0', 'Without a Paddle\\xa0', '13 Going on 30\\xa0', 'Midnight in Paris\\xa0', 'The Nut Job\\xa0', 'Blow\\xa0', 'Message in a Bottle\\xa0', 'Star Trek V: The Final Frontier\\xa0', 'Like Mike\\xa0', 'Naked Gun 33 1/3: The Final Insult\\xa0', 'A View to a Kill\\xa0', 'The Curse of the Were-Rabbit\\xa0', 'P.S. I Love You\\xa0', 'Racing Stripes\\xa0', 'Atonement\\xa0', 'Letters to Juliet\\xa0', 'Black Rain\\xa0', 'The Three Stooges\\xa0', 'Corpse Bride\\xa0', 'Glory Road\\xa0', 'Sicario\\xa0', 'Southpaw\\xa0', 'Drag Me to Hell\\xa0', 'The Age of Adaline\\xa0', 'Secondhand Lions\\xa0', 'Step Up 3D\\xa0', 'Blue Crush\\xa0', 'Stranger Than Fiction\\xa0', '30 Days of Night\\xa0', 'The Cabin in the Woods\\xa0', 'Meet the Spartans\\xa0', 'Midnight Run\\xa0', 'The Running Man\\xa0', 'Little Shop of Horrors\\xa0', 'Hanna\\xa0', 'The Family\\xa0            ', 'Mortal Kombat: Annihilation\\xa0', 'Larry Crowne\\xa0', 'Carrie\\xa0', 'Take the Lead\\xa0', 'Entourage\\xa0            ', 'Gridiron Gang\\xa0', \"What's the Worst That Could Happen?\\xa0\", '9\\xa0', 'Side Effects\\xa0', 'The Prince and Me\\xa0', 'Winnie the Pooh\\xa0', 'Dumb and Dumberer: When Harry Met Lloyd\\xa0', 'Bulworth\\xa0', 'Get on Up\\xa0', 'One True Thing\\xa0', 'Virtuosity\\xa0', 'My Super Ex-Girlfriend\\xa0', 'Deliver Us from Evil\\xa0', 'Sanctum\\xa0', 'Little Black Book\\xa0', 'The Five-Year Engagement\\xa0', 'Mr 3000\\xa0', 'The Next Three Days\\xa0', 'Ultraviolet\\xa0', 'Assault on Precinct 13\\xa0', 'The Replacement Killers\\xa0', 'Fled\\xa0', 'Eight Legged Freaks\\xa0', 'Love & Other Drugs\\xa0', '88 Minutes\\xa0', 'North Country\\xa0', 'The Whole Ten Yards\\xa0', 'Splice\\xa0', 'Howard the Duck\\xa0', 'Pride and Glory\\xa0', 'The Cave\\xa0', 'Alex & Emma\\xa0', 'Wicker Park\\xa0', 'Fright Night\\xa0', 'The New World\\xa0', 'Wing Commander\\xa0', 'In Dreams\\xa0', 'Dragonball: Evolution\\xa0', 'The Last Stand\\xa0', 'Godsend\\xa0', 'Chasing Liberty\\xa0', 'Hoodwinked Too! Hood vs. Evil\\xa0', 'An Unfinished Life\\xa0', 'The Imaginarium of Doctor Parnassus\\xa0', \"Barney's Version\\xa0\", 'Trapped\\xa0            ', 'Runner Runner\\xa0', 'Antitrust\\xa0', 'Glory\\xa0', 'Once Upon a Time in America\\xa0', 'Dead Man Down\\xa0', 'The Merchant of Venice\\xa0', 'The Good Thief\\xa0', 'Supercross\\xa0', 'Miss Potter\\xa0', 'The Promise\\xa0', 'DOA: Dead or Alive\\xa0', 'The Assassination of Jesse James by the Coward Robert Ford\\xa0', '1911\\xa0', 'Little Nicholas\\xa0', 'Wild Card\\xa0', 'Machine Gun Preacher\\xa0', 'Animals United\\xa0', 'The Color of Freedom\\xa0', 'United Passions\\xa0', 'Grace of Monaco\\xa0', \"A Warrior's Tail\\xa0\", \"Ripley's Game\\xa0\", 'Sausage Party\\xa0', 'Pitch Perfect 2\\xa0', 'Walk the Line\\xa0', '12 Monkeys\\xa0            ', 'Keeping the Faith\\xa0', 'The Borrowers\\xa0', 'Frost/Nixon\\xa0', 'Confessions of a Dangerous Mind\\xa0', 'Serving Sara\\xa0', 'The Boss\\xa0', 'Cry Freedom\\xa0', 'Mumford\\xa0', 'Seed of Chucky\\xa0', 'The Jacket\\xa0', 'Aladdin\\xa0', 'Straight Outta Compton\\xa0', 'Indiana Jones and the Temple of Doom\\xa0', 'The Rugrats Movie\\xa0', 'Along Came a Spider\\xa0', 'Florence Foster Jenkins\\xa0', 'Once Upon a Time in Mexico\\xa0', 'Die Hard\\xa0', 'Role Models\\xa0', 'The Big Short\\xa0', 'Taking Woodstock\\xa0', 'Miracle\\xa0', 'Dawn of the Dead\\xa0', 'The Wedding Planner\\xa0', 'Harlock: Space Pirate\\xa0', 'The Royal Tenenbaums\\xa0', 'Identity\\xa0', 'Last Vegas\\xa0', 'For Your Eyes Only\\xa0', 'Serendipity\\xa0', 'Timecop\\xa0', 'Zoolander\\xa0', 'Safe Haven\\xa0', 'Hocus Pocus\\xa0', 'No Reservations\\xa0', 'Kick-Ass\\xa0', '30 Minutes or Less\\xa0', 'Dracula 2000\\xa0', 'Alexander and the Terrible, Horrible, No Good, Very Bad Day\\xa0', 'Pride & Prejudice\\xa0', 'Blade Runner\\xa0', 'Rob Roy\\xa0', '3 Days to Kill\\xa0', 'We Own the Night\\xa0', 'Lost Souls\\xa0', 'Winged Migration\\xa0', 'Just My Luck\\xa0', 'Mystery, Alaska\\xa0', 'The Spy Next Door\\xa0', 'A Simple Wish\\xa0', 'Ghosts of Mars\\xa0', 'Our Brand Is Crisis\\xa0', 'Pride and Prejudice and Zombies\\xa0', 'Kundun\\xa0', 'How to Lose Friends & Alienate People\\xa0', 'Kick-Ass 2\\xa0', 'Captain Alatriste: The Spanish Musketeer\\xa0', 'Brick Mansions\\xa0', 'Octopussy\\xa0', 'Knocked Up\\xa0', \"My Sister's Keeper\\xa0\", 'Welcome Home, Roscoe Jenkins\\xa0', 'A Passage to India\\xa0', 'Notes on a Scandal\\xa0', 'Rendition\\xa0', 'Limitless\\xa0            ', 'Star Trek VI: The Undiscovered Country\\xa0', 'Divine Secrets of the Ya-Ya Sisterhood\\xa0', 'The Jungle Book\\xa0', 'Kiss the Girls\\xa0', 'The Blues Brothers\\xa0', 'The Sisterhood of the Traveling Pants 2\\xa0', 'Joyful Noise\\xa0', 'About a Boy\\xa0', 'Lake Placid\\xa0', 'Lucky Number Slevin\\xa0', 'The Right Stuff\\xa0', 'Anonymous\\xa0', 'The NeverEnding Story\\xa0', 'Dark City\\xa0', 'The Duchess\\xa0', 'The Honeymooners\\xa0            ', 'Return to Oz\\xa0', 'The Newton Boys\\xa0', 'Case 39\\xa0', 'Suspect Zero\\xa0', 'Martian Child\\xa0', 'Spy Kids: All the Time in the World in 4D\\xa0', 'Money Monster\\xa0', 'Formula 51\\xa0', 'Flawless\\xa0', 'Mindhunters\\xa0', 'What Just Happened\\xa0', 'The Statement\\xa0', 'The Magic Flute\\xa0', 'Paul Blart: Mall Cop\\xa0', 'Freaky Friday\\xa0', 'The 40-Year-Old Virgin\\xa0', 'Shakespeare in Love\\xa0', 'A Walk Among the Tombstones\\xa0', 'Kindergarten Cop\\xa0', 'Pineapple Express\\xa0', 'Ever After: A Cinderella Story\\xa0', 'Open Range\\xa0', 'Flatliners\\xa0', \"It's Always Sunny in Philadelphia\\xa0            \", 'A Bridge Too Far\\xa0', 'Red Eye\\xa0', 'Final Destination 2\\xa0', 'O Brother, Where Art Thou?\\xa0', 'Legion\\xa0', 'Pain & Gain\\xa0', 'In Good Company\\xa0', 'Clockstoppers\\xa0', 'Silverado\\xa0', 'Brothers\\xa0', 'Agent Cody Banks 2: Destination London\\xa0', \"New Year's Eve\\xa0\", 'Original Sin\\xa0', 'The Raven\\xa0', 'Welcome to Mooseport\\xa0', 'Highlander: The Final Dimension\\xa0', 'Blood and Wine\\xa0', 'Snow White: A Tale of Terror\\xa0', 'The Curse of the Jade Scorpion\\xa0', 'Accidental Love\\xa0', 'Flipper\\xa0', 'Self/less\\xa0', 'The Constant Gardener\\xa0', 'The Passion of the Christ\\xa0', 'Mrs. Doubtfire\\xa0', 'Rain Man\\xa0', 'Gran Torino\\xa0', 'W.\\xa0', 'Taken\\xa0', 'The Best of Me\\xa0', 'The Bodyguard\\xa0', \"Schindler's List\\xa0\", 'The Help\\xa0', 'The Fifth Estate\\xa0', 'Scooby-Doo 2: Monsters Unleashed\\xa0', 'Viy\\xa0', 'Freddy vs. Jason\\xa0', 'The Face of an Angel\\xa0', 'Jimmy Neutron: Boy Genius\\xa0', 'Cloverfield\\xa0', 'Teenage Mutant Ninja Turtles II: The Secret of the Ooze\\xa0', 'The Untouchables\\xa0', 'No Country for Old Men\\xa0', 'Ride Along\\xa0', \"Bridget Jones's Diary\\xa0\", 'Chocolat\\xa0', 'Legally Blonde 2: Red, White & Blonde\\xa0', 'Parental Guidance\\xa0', 'No Strings Attached\\xa0', 'Tombstone\\xa0', 'Romeo Must Die\\xa0', 'The Omen\\xa0', 'Final Destination 3\\xa0', 'The Lucky One\\xa0', 'Bridge to Terabithia\\xa0', 'Finding Neverland\\xa0', 'A Madea Christmas\\xa0', 'The Grey\\xa0', 'Hide and Seek\\xa0', 'Anchorman: The Legend of Ron Burgundy\\xa0', 'Goodfellas\\xa0', 'Agent Cody Banks\\xa0', 'Nanny McPhee\\xa0', 'Scarface\\xa0', 'Nothing to Lose\\xa0', 'The Last Emperor\\xa0', 'Contraband\\xa0', 'Money Talks\\xa0', 'There Will Be Blood\\xa0', 'The Wild Thornberrys Movie\\xa0', 'Rugrats Go Wild\\xa0', 'Undercover Brother\\xa0', 'The Sisterhood of the Traveling Pants\\xa0', 'Kiss of the Dragon\\xa0', 'The House Bunny\\xa0', 'Beauty Shop\\xa0', 'Million Dollar Arm\\xa0', 'The Giver\\xa0', 'What a Girl Wants\\xa0', 'Jeepers Creepers II\\xa0', 'Good Luck Chuck\\xa0', 'Cradle 2 the Grave\\xa0', 'The Hours\\xa0', \"She's the Man\\xa0\", \"Mr. Bean's Holiday\\xa0\", 'Anacondas: The Hunt for the Blood Orchid\\xa0', 'Blood Ties\\xa0', 'August Rush\\xa0', 'Elizabeth\\xa0', 'Bride of Chucky\\xa0', 'Tora! Tora! Tora!\\xa0', 'Spice World\\xa0', 'The Sitter\\xa0', 'Dance Flick\\xa0', 'The Shawshank Redemption\\xa0', 'Crocodile Dundee in Los Angeles\\xa0', 'Kingpin\\xa0', 'The Gambler\\xa0', 'August: Osage County\\xa0', 'Ice Princess\\xa0', 'A Lot Like Love\\xa0', 'Eddie the Eagle\\xa0', 'He Got Game\\xa0', 'Don Juan DeMarco\\xa0', 'Shaun the Sheep\\xa0            ', 'Dear John\\xa0', 'The Losers\\xa0', \"Don't Be Afraid of the Dark\\xa0\", 'War\\xa0', 'Punch-Drunk Love\\xa0', 'EuroTrip\\xa0', 'Half Past Dead\\xa0', 'Unaccompanied Minors\\xa0', 'Bright Lights, Big City\\xa0', 'The Adventures of Pinocchio\\xa0', 'The Greatest Game Ever Played\\xa0', 'The Box\\xa0', 'The Ruins\\xa0', 'The Next Best Thing\\xa0', 'My Soul to Take\\xa0', 'The Girl Next Door\\xa0', 'Maximum Risk\\xa0', 'Stealing Harvard\\xa0', 'Legend\\xa0', 'Hot Rod\\xa0', 'Shark Night 3D\\xa0', \"Angela's Ashes\\xa0\", 'Draft Day\\xa0', 'Lifeforce\\xa0', 'The Powerpuff Girls\\xa0            ', 'The Conspirator\\xa0', 'Lords of Dogtown\\xa0', 'The 33\\xa0', 'Big Trouble in Little China\\xa0', 'A Perfect Plan\\xa0', 'Warrior\\xa0', 'Michael Collins\\xa0', 'Gettysburg\\xa0', 'Stop-Loss\\xa0', 'Abandon\\xa0', 'Brokedown Palace\\xa0', 'The Possession\\xa0', 'Mrs. Winterbourne\\xa0', 'Straw Dogs\\xa0', 'The Hoax\\xa0', 'Stone Cold\\xa0', 'The Road\\xa0', 'Sheena\\xa0', 'Underclassman\\xa0', \"Say It Isn't So\\xa0\", \"The World's Fastest Indian\\xa0\", 'Snakes on a Plane\\xa0', 'Tank Girl\\xa0', \"King's Ransom\\xa0\", 'Blindness\\xa0', 'BloodRayne\\xa0', 'Carnage\\xa0', 'Where the Truth Lies\\xa0', 'Cirque du Soleil: Worlds Away\\xa0', 'Without Limits\\xa0', 'Me and Orson Welles\\xa0', 'The Best Offer\\xa0', 'Bad Lieutenant: Port of Call New Orleans\\xa0', \"A Turtle's Tale: Sammy's Adventures\\xa0\", 'Little White Lies\\xa0', 'Love Ranch\\xa0', \"The True Story of Puss'N Boots\\xa0\", 'Space Dogs\\xa0', 'The Counselor\\xa0', 'Ironclad\\xa0', 'Waterloo\\xa0', 'Kung Fu Killer\\xa0', 'Red Sky\\xa0', 'Dangerous Liaisons\\xa0', 'On the Road\\xa0', 'Star Trek IV: The Voyage Home\\xa0', 'Rocky Balboa\\xa0', 'Point Break\\xa0', 'Scream 2\\xa0', 'Jane Got a Gun\\xa0', 'Think Like a Man Too\\xa0', 'The Whole Nine Yards\\xa0', 'Footloose\\xa0', 'Old School\\xa0', 'The Fisher King\\xa0', 'I Still Know What You Did Last Summer\\xa0', 'Return to Me\\xa0', 'Zack and Miri Make a Porno\\xa0', 'Nurse Betty\\xa0', 'The Men Who Stare at Goats\\xa0', 'Double Take\\xa0', 'Girl, Interrupted\\xa0', 'Win a Date with Tad Hamilton!\\xa0', 'Muppets from Space\\xa0', 'The Wiz\\xa0', 'Ready to Rumble\\xa0', 'Play It to the Bone\\xa0', \"I Don't Know How She Does It\\xa0\", 'Piranha 3D\\xa0', 'Beyond the Sea\\xa0', 'Meet the Deedles\\xa0', 'The Princess and the Cobbler\\xa0', 'The Bridge of San Luis Rey\\xa0', 'Faster\\xa0', \"Howl's Moving Castle\\xa0\", 'Zombieland\\xa0', 'King Kong\\xa0', 'The Waterboy\\xa0', 'Star Wars: Episode V - The Empire Strikes Back\\xa0', 'Bad Boys\\xa0', 'The Naked Gun 2½: The Smell of Fear\\xa0', 'Final Destination\\xa0', 'The Ides of March\\xa0', 'Pitch Black\\xa0', 'Someone Like You...\\xa0', 'Her\\xa0', 'Eddie the Eagle\\xa0', 'Joy Ride\\xa0', 'The Adventurer: The Curse of the Midas Box\\xa0', 'Anywhere But Here\\xa0', 'Chasing Liberty\\xa0', 'The Crew\\xa0', 'Haywire\\xa0', 'Jaws: The Revenge\\xa0', \"Marvin's Room\\xa0\", 'The Longshots\\xa0', 'The End of the Affair\\xa0', 'Harley Davidson and the Marlboro Man\\xa0', 'In the Valley of Elah\\xa0', 'Coco Before Chanel\\xa0', 'Forsaken\\xa0', 'Chéri\\xa0', 'Rogue\\xa0            ', 'Vanity Fair\\xa0', 'Bodyguards and Assassins\\xa0', '1408\\xa0', 'Spaceballs\\xa0', 'The Water Diviner\\xa0', 'Ghost\\xa0', \"There's Something About Mary\\xa0\", 'The Santa Clause\\xa0', 'The Rookie\\xa0', 'The Game Plan\\xa0', 'The Bridges of Madison County\\xa0', 'The Animal\\xa0', 'Gandhi\\xa0', 'The Hundred-Foot Journey\\xa0', 'The Net\\xa0', 'I Am Sam\\xa0', 'Son of God\\xa0', 'Underworld\\xa0', 'Derailed\\xa0', 'The Informant!\\xa0', 'Shadowlands\\xa0', 'Deuce Bigalow: European Gigolo\\xa0', 'Delivery Man\\xa0', 'Victor Frankenstein\\xa0', 'Our Kind of Traitor\\xa0', 'Saving Silverman\\xa0', 'Diary of a Wimpy Kid: Dog Days\\xa0', 'Summer of Sam\\xa0', 'Jay and Silent Bob Strike Back\\xa0', 'The Island\\xa0', 'The Glass House\\xa0', 'Hail, Caesar!\\xa0', 'Josie and the Pussycats\\xa0', 'Homefront\\xa0', 'The Little Vampire\\xa0', 'I Heart Huckabees\\xa0', 'RoboCop 3\\xa0', 'Megiddo: The Omega Code 2\\xa0', 'Darling Lili\\xa0', 'Dudley Do-Right\\xa0', 'The Transporter Refueled\\xa0', 'The Libertine\\xa0', 'Black Book\\xa0', 'Joyeux Noel\\xa0', 'Hit and Run\\xa0', 'Mad Money\\xa0', 'Before I Go to Sleep\\xa0', 'Sorcerer\\xa0', 'Stone\\xa0', 'Molière\\xa0', 'Out of the Furnace\\xa0', 'Michael Clayton\\xa0', 'My Fellow Americans\\xa0', 'Arlington Road\\xa0', 'Underdogs\\xa0', 'To Rome with Love\\xa0', 'Firefox\\xa0', 'South Park: Bigger Longer & Uncut\\xa0', 'Death at a Funeral\\xa0', 'Teenage Mutant Ninja Turtles III\\xa0', 'Hardball\\xa0', 'Silver Linings Playbook\\xa0', 'Freedom Writers\\xa0', 'For Colored Girls\\xa0', 'The Transporter\\xa0', 'Never Back Down\\xa0', 'The Rage: Carrie 2\\xa0', 'The Bachelor\\xa0            ', 'Away We Go\\xa0', 'Swing Vote\\xa0', 'Moonlight Mile\\xa0', 'Tinker Tailor Soldier Spy\\xa0', 'Molly\\xa0', 'The Beaver\\xa0', 'The Best Little Whorehouse in Texas\\xa0', 'eXistenZ\\xa0', 'Raiders of the Lost Ark\\xa0', 'Home Alone 2: Lost in New York\\xa0', 'Close Encounters of the Third Kind\\xa0', 'Pulse\\xa0', 'Beverly Hills Cop II\\xa0', 'Bringing Down the House\\xa0', 'The Silence of the Lambs\\xa0', \"Wayne's World\\xa0\", 'Jackass 3D\\xa0', 'Jaws 2\\xa0', 'Beverly Hills Chihuahua\\xa0', 'The Conjuring\\xa0', 'Are We There Yet?\\xa0', 'Tammy\\xa0', 'Disturbia\\xa0', 'School of Rock\\xa0', 'Mortal Kombat\\xa0', 'Wicker Park\\xa0', 'White Chicks\\xa0', 'The Descendants\\xa0', 'Holes\\xa0', 'The Last Song\\xa0', '12 Years a Slave\\xa0', 'Drumline\\xa0', 'Why Did I Get Married Too?\\xa0', 'Edward Scissorhands\\xa0', 'Me Before You\\xa0', \"Madea's Witness Protection\\xa0\", 'The French Connection\\xa0', 'Bad Moms\\xa0', 'Date Movie\\xa0', 'Return to Never Land\\xa0', 'Selma\\xa0', 'The Jungle Book 2\\xa0', 'Boogeyman\\xa0', 'Premonition\\xa0', 'The Tigger Movie\\xa0', 'Orphan\\xa0', 'Max\\xa0', 'Meet the Browns\\xa0            ', 'Epic Movie\\xa0', 'Conan the Barbarian\\xa0', 'Spotlight\\xa0', 'Lakeview Terrace\\xa0', 'The Grudge 2\\xa0', 'How Stella Got Her Groove Back\\xa0', \"Bill & Ted's Bogus Journey\\xa0\", 'Man of the Year\\xa0', 'The Black Hole\\xa0', 'The American\\xa0', 'Selena\\xa0', 'Vampires Suck\\xa0', 'Babel\\xa0', 'This Is Where I Leave You\\xa0', 'Doubt\\xa0', 'Team America: World Police\\xa0', 'Texas Chainsaw 3D\\xa0', 'Copycat\\xa0', 'Scary Movie 5\\xa0', 'Paint Your Wagon\\xa0', 'Milk\\xa0', 'Risen\\xa0', 'Ghost Ship\\xa0', 'A Very Harold & Kumar 3D Christmas\\xa0', 'Wild Things\\xa0', 'The Stepfather\\xa0', 'The Debt\\xa0', 'High Fidelity\\xa0', 'One Missed Call\\xa0', 'Eye for an Eye\\xa0', 'The Bank Job\\xa0', 'Eternal Sunshine of the Spotless Mind\\xa0', 'You Again\\xa0', 'Street Kings\\xa0', \"The World's End\\xa0\", 'Nancy Drew\\xa0', 'Daybreakers\\xa0', \"She's Out of My League\\xa0\", 'Monte Carlo\\xa0', 'Stay Alive\\xa0', 'Quigley Down Under\\xa0', 'Alpha and Omega\\xa0', 'The Covenant\\xa0', 'Stick It\\xa0', 'Shorts\\xa0', 'To Die For\\xa0', 'Nerve\\xa0', 'Appaloosa\\xa0', 'Vampires\\xa0', 'Yu-Gi-Oh! Duel Monsters\\xa0            ', 'Psycho\\xa0', \"My Best Friend's Girl\\xa0\", 'Endless Love\\xa0', 'Georgia Rule\\xa0', 'Under the Rainbow\\xa0', 'Ladyhawke\\xa0', 'Simon Birch\\xa0', 'Reign Over Me\\xa0', 'Into the Wild\\xa0', 'School for Scoundrels\\xa0', 'Silent Hill: Revelation 3D\\xa0', 'From Dusk Till Dawn\\xa0', \"Pooh's Heffalump Movie\\xa0\", 'Home for the Holidays\\xa0', 'Kung Fu Hustle\\xa0', 'Fired Up\\xa0            ', 'The Country Bears\\xa0', 'The Kite Runner\\xa0', '21 Grams\\xa0', 'Paparazzi\\xa0', 'Twilight\\xa0', 'A Guy Thing\\xa0', 'Loser\\xa0', 'Capitalism: A Love Story\\xa0', 'The Greatest Story Ever Told\\xa0', 'Secret in Their Eyes\\xa0', 'Disaster Movie\\xa0', 'Armored\\xa0', 'The Man Who Knew Too Little\\xa0', \"What's Your Number?\\xa0\", 'Lockout\\xa0', 'Envy\\xa0', 'Crank: High Voltage\\xa0', 'Bullets Over Broadway\\xa0', 'One Night with the King\\xa0', 'The Quiet American\\xa0', 'The Weather Man\\xa0', 'Undisputed\\xa0', 'Ghost Town\\xa0', '12 Rounds\\xa0', 'Let Me In\\xa0', '3 Ninjas Kick Back\\xa0', 'Be Kind Rewind\\xa0', 'Mrs Henderson Presents\\xa0', 'Triple 9\\xa0', 'Deconstructing Harry\\xa0', 'Three to Tango\\xa0', 'Burnt\\xa0', \"We're No Angels\\xa0\", 'Everyone Says I Love You\\xa0', 'Death at a Funeral\\xa0', 'Death Sentence\\xa0', \"Everybody's Fine\\xa0\", 'Superbabies: Baby Geniuses 2\\xa0', 'The Man\\xa0', 'Code Name: The Cleaner\\xa0', 'Connie and Carla\\xa0', 'Sweet Charity\\xa0', 'Inherent Vice\\xa0', 'Doogal\\xa0', 'Battle of the Year\\xa0', 'Perception\\xa0            ', 'An American Carol\\xa0', 'Machete Kills\\xa0', 'Willard\\xa0', 'Strange Wilderness\\xa0', 'Topsy-Turvy\\xa0', 'Little Boy\\xa0', 'A Dangerous Method\\xa0', 'A Scanner Darkly\\xa0', 'Chasing Mavericks\\xa0', 'Alone in the Dark\\xa0', 'Bandslam\\xa0', 'Birth\\xa0', 'A Most Violent Year\\xa0', 'Passchendaele\\xa0', 'Flash of Genius\\xa0', \"I'm Not There.\\xa0\", 'The Cold Light of Day\\xa0', 'The Brothers Bloom\\xa0', 'Synecdoche, New York\\xa0', 'Princess Mononoke\\xa0', 'Bon voyage\\xa0', \"Can't Stop the Music\\xa0\", 'The Proposition\\xa0', 'Courage\\xa0', 'Marci X\\xa0', 'Equilibrium\\xa0', 'The Children of Huang Shi\\xa0', 'The Yards\\xa0', 'The Oogieloves in the Big Balloon Adventure\\xa0', 'By the Sea\\xa0', 'Steamboy\\xa0', 'The Game of Their Lives\\xa0', 'All Good Things\\xa0', 'Rapa Nui\\xa0', 'CJ7\\xa0', 'Les couloirs du temps: Les visiteurs II\\xa0', 'Dylan Dog: Dead of Night\\xa0', 'People I Know\\xa0', 'The Doombolt Chase\\xa0            ', 'The Tempest\\xa0', 'Regression\\xa0', 'The Touch\\xa0', 'Three Kingdoms: Resurrection of the Dragon\\xa0', 'Shattered\\xa0', 'Zambezia\\xa0', 'Ramanujan\\xa0', 'Dwegons and Leprechauns\\xa0', 'Hands of Stone\\xa0', 'Survivor\\xa0', 'The Frozen Ground\\xa0', 'The Painted Veil\\xa0', 'The Baader Meinhof Complex\\xa0', 'Dances with Wolves\\xa0', 'Bad Teacher\\xa0', 'Sea of Love\\xa0', 'A Cinderella Story\\xa0', 'Scream\\xa0', 'Thir13en Ghosts\\xa0', 'The Shining\\xa0', 'Back to the Future\\xa0', 'House on Haunted Hill\\xa0', 'I Can Do Bad All by Myself\\xa0', 'Fight Valley\\xa0', 'The Switch\\xa0', 'Just Married\\xa0', \"The Devil's Double\\xa0\", 'Gone, Baby, Gone\\xa0            ', 'Thomas and the Magic Railroad\\xa0', 'The Crazies\\xa0', 'Spirited Away\\xa0', 'Firestorm\\xa0', 'The Bounty\\xa0', 'The Book Thief\\xa0', 'Sex Drive\\xa0', 'Leap Year\\xa0', 'The Fall of the Roman Empire\\xa0', 'Take Me Home Tonight\\xa0', \"Won't Back Down\\xa0\", 'The Nutcracker\\xa0', 'Kansas City\\xa0', 'Indignation\\xa0', 'The Amityville Horror\\xa0', 'Adaptation.\\xa0', 'Land of the Dead\\xa0', 'Out of Inferno\\xa0', 'Fear and Loathing in Las Vegas\\xa0', 'The Invention of Lying\\xa0', 'Neighbors\\xa0', 'The Mask\\xa0', 'Big\\xa0', 'Borat: Cultural Learnings of America for Make Benefit Glorious Nation of Kazakhstan\\xa0', 'Legally Blonde\\xa0', 'Star Trek III: The Search for Spock\\xa0', 'The Exorcism of Emily Rose\\xa0', 'Deuce Bigalow: Male Gigolo\\xa0', 'Left Behind\\xa0', 'The Family Stone\\xa0', 'Barbershop 2: Back in Business\\xa0', 'Bad Santa\\xa0', 'Austin Powers: International Man of Mystery\\xa0', 'My Big Fat Greek Wedding 2\\xa0', 'Diary of a Wimpy Kid: Rodrick Rules\\xa0', 'Predator\\xa0', 'Amadeus\\xa0', 'Prom Night\\xa0', 'Mean Girls\\xa0', 'Under the Tuscan Sun\\xa0', 'Gosford Park\\xa0', 'The O.C.\\xa0            ', 'Peggy Sue Got Married\\xa0', 'Birdman or (The Unexpected Virtue of Ignorance)\\xa0', 'Blue Jasmine\\xa0', 'United 93\\xa0', 'Honey\\xa0', 'Glory\\xa0', 'Spy Hard\\xa0', 'The Fog\\xa0', 'Soul Surfer\\xa0', 'Catch-22\\xa0', 'Observe and Report\\xa0', 'Conan the Destroyer\\xa0', 'Raging Bull\\xa0', 'Love Happens\\xa0', 'Young Sherlock Holmes\\xa0', 'Fame\\xa0', '127 Hours\\xa0', 'Small Time Crooks\\xa0', 'Center Stage\\xa0', 'Love the Coopers\\xa0', 'Catch That Kid\\xa0', 'Life as a House\\xa0', 'Steve Jobs\\xa0', 'I Love You, Beth Cooper\\xa0', 'Youth in Revolt\\xa0', 'The Legend of the Lone Ranger\\xa0', 'The Tailor of Panama\\xa0', 'Blow Out\\xa0', 'Getaway\\xa0', 'The Ice Storm\\xa0', 'And So It Goes\\xa0', 'Troop Beverly Hills\\xa0', 'Being Julia\\xa0', '9½ Weeks\\xa0', 'Dragonslayer\\xa0', 'The Last Station\\xa0', 'Ed Wood\\xa0', 'Labor Day\\xa0', 'Mongol: The Rise of Genghis Khan\\xa0', 'RocknRolla\\xa0', 'Megaforce\\xa0', 'Hamlet\\xa0', \"Mao's Last Dancer\\xa0\", 'Midnight Special\\xa0', 'Anything Else\\xa0', 'The Railway Man\\xa0', 'Unforgettable\\xa0            ', 'The White Ribbon\\xa0', 'Restoration\\xa0', 'The Wraith\\xa0', 'The Salton Sea\\xa0', 'Metallica Through the Never\\xa0', 'The Informers\\xa0', 'Carlos\\xa0            ', 'I Come with the Rain\\xa0', \"One Man's Hero\\xa0\", 'Day of the Dead\\xa0', 'I Am Wrath\\xa0', 'Renaissance\\xa0', 'Forsaken\\xa0', 'Red Sonja\\xa0', 'Red Lights\\xa0', 'Superbad\\xa0', 'Madea Goes to Jail\\xa0', 'Wolves\\xa0', 'Step Up 2: The Streets\\xa0', 'Hoodwinked!\\xa0', 'Hotel Rwanda\\xa0', 'Hitman\\xa0', 'Black Nativity\\xa0', 'The Prince\\xa0', 'City of Ghosts\\xa0', 'The Others\\xa0', 'Aliens\\xa0', 'My Fair Lady\\xa0', 'I Know What You Did Last Summer\\xa0', \"Let's Be Cops\\xa0\", 'Sideways\\xa0', 'Beerfest\\xa0', 'Halloween\\xa0', 'Hero\\xa0', 'Good Boy!\\xa0', 'The Best Man Holiday\\xa0', \"Smokin' Aces\\xa0\", 'Saw 3D: The Final Chapter\\xa0', '40 Days and 40 Nights\\xa0', 'TRON: Legacy\\xa0', 'A Night at the Roxbury\\xa0', 'Beastly\\xa0', 'The Hills Have Eyes\\xa0', 'Dickie Roberts: Former Child Star\\xa0', 'McFarland, USA\\xa0', 'Lottery Ticket\\xa0', 'ATL\\xa0', 'Pitch Perfect\\xa0', 'Summer Catch\\xa0', 'A Simple Plan\\xa0', 'They\\xa0', 'Larry the Cable Guy: Health Inspector\\xa0', 'The Adventures of Elmo in Grouchland\\xa0', \"Brooklyn's Finest\\xa0\", '55 Days at Peking\\xa0', 'Evil Dead\\xa0', 'My Life in Ruins\\xa0', 'American Dreamz\\xa0', 'Superman IV: The Quest for Peace\\xa0', 'How She Move\\xa0', 'Running Scared\\xa0', 'Bobby Jones: Stroke of Genius\\xa0', 'Shanghai Surprise\\xa0', 'The Illusionist\\xa0', 'Roar\\xa0', 'Veronica Guerin\\xa0', 'Escobar: Paradise Lost\\xa0', 'Southland Tales\\xa0', 'Dragon Hunters\\xa0', 'Damnation Alley\\xa0', 'The Apparition\\xa0', 'My Girl\\xa0', 'Fur: An Imaginary Portrait of Diane Arbus\\xa0', 'The Illusionist\\xa0', 'Wall Street\\xa0', 'Sense and Sensibility\\xa0', 'Becoming Jane\\xa0', 'Sydney White\\xa0', 'House of Sand and Fog\\xa0', 'Dead Poets Society\\xa0', 'Dumb & Dumber\\xa0', 'When Harry Met Sally...\\xa0', 'The Verdict\\xa0', 'Road Trip\\xa0', 'Varsity Blues\\xa0', 'The Artist\\xa0', 'The Unborn\\xa0', 'Moonrise Kingdom\\xa0', 'The Texas Chainsaw Massacre: The Beginning\\xa0', 'The Young Messiah\\xa0', 'The Master of Disguise\\xa0', \"Pan's Labyrinth\\xa0\", 'The Messengers\\xa0            ', 'See Spot Run\\xa0', 'Baby Boy\\xa0', 'The Roommate\\xa0', 'Joe Dirt\\xa0', 'Double Impact\\xa0', 'Hot Fuzz\\xa0', 'The Women\\xa0', 'Vicky Cristina Barcelona\\xa0', 'Arn: The Knight Templar\\xa0', 'Bad Moms\\xa0', 'Boys and Girls\\xa0', 'White Oleander\\xa0', \"Jennifer's Body\\xa0\", 'Drowning Mona\\xa0', 'Radio Days\\xa0', 'Left Behind\\xa0', 'Remember Me\\xa0', 'How to Deal\\xa0', 'My Stepmother Is an Alien\\xa0', 'Philadelphia\\xa0', 'The Thirteenth Floor\\xa0', 'The Cookout\\xa0', 'Meteor\\xa0', 'Duets\\xa0', 'Hollywood Ending\\xa0', 'Detroit Rock City\\xa0', 'Highlander\\xa0', 'Things We Lost in the Fire\\xa0', 'Steel\\xa0', 'The Immigrant\\xa0', 'The White Countess\\xa0', 'Trance\\xa0', 'Soul Plane\\xa0', 'Welcome to the Sticks\\xa0', 'Good\\xa0', 'Enter the Void\\xa0', 'Vamps\\xa0', \"Hachi: A Dog's Tale\\xa0\", 'Zulu\\xa0', 'The Homesman\\xa0', 'Juwanna Mann\\xa0', 'Lilyhammer\\xa0            ', 'Ararat\\xa0', 'Madison\\xa0', 'Slow Burn\\xa0', 'Wasabi\\xa0', 'Slither\\xa0', 'Beverly Hills Cop\\xa0', 'Home Alone\\xa0', '3 Men and a Baby\\xa0', 'Tootsie\\xa0', 'Top Gun\\xa0', 'Crouching Tiger, Hidden Dragon\\xa0', 'American Beauty\\xa0', \"The King's Speech\\xa0\", 'Twins\\xa0', 'Scream: The TV Series\\xa0            ', 'The Yellow Handkerchief\\xa0', 'The Color Purple\\xa0', 'Tidal Wave\\xa0', 'Ben-Hur\\xa0', 'The Imitation Game\\xa0', 'Private Benjamin\\xa0', \"Coal Miner's Daughter\\xa0\", 'Diary of a Wimpy Kid\\xa0', 'Mama\\xa0', 'Halloween\\xa0', \"National Lampoon's Vacation\\xa0\", 'Bad Grandpa\\xa0', 'The Queen\\xa0', 'Beetlejuice\\xa0', 'Why Did I Get Married?\\xa0', 'Little Women\\xa0', 'The Woman in Black\\xa0', 'When a Stranger Calls\\xa0', 'Big Fat Liar\\xa0', 'The Deer Hunter\\xa0', 'Wag the Dog\\xa0', 'The Lizzie McGuire Movie\\xa0', 'Snitch\\xa0', 'Krampus\\xa0', 'The Faculty\\xa0', \"What's Love Got to Do with It\\xa0\", 'Cop Land\\xa0', 'Not Another Teen Movie\\xa0', 'End of Watch\\xa0', 'Aloha\\xa0', 'The Skulls\\xa0', 'The Theory of Everything\\xa0', \"Malibu's Most Wanted\\xa0\", 'Where the Heart Is\\xa0', 'Lawrence of Arabia\\xa0', 'Halloween II\\xa0', 'Wild\\xa0', 'The Last House on the Left\\xa0', 'The Wedding Date\\xa0', 'Halloween: Resurrection\\xa0', 'Clash of the Titans\\xa0', 'The Princess Bride\\xa0', 'The Great Debaters\\xa0', 'Drive\\xa0', 'Confessions of a Teenage Drama Queen\\xa0', 'The Object of My Affection\\xa0', '28 Weeks Later\\xa0', 'When the Game Stands Tall\\xa0', 'Because of Winn-Dixie\\xa0', 'Love & Basketball\\xa0', 'Grosse Pointe Blank\\xa0', 'All About Steve\\xa0', 'Book of Shadows: Blair Witch 2\\xa0', 'The Craft\\xa0', 'Match Point\\xa0', 'Ramona and Beezus\\xa0', 'The Remains of the Day\\xa0', 'Boogie Nights\\xa0', 'Nowhere to Run\\xa0', 'Flicka\\xa0', 'The Hills Have Eyes II\\xa0', 'Urban Legends: Final Cut\\xa0', 'Tuck Everlasting\\xa0', 'The Marine\\xa0', 'Keanu\\xa0', 'Country Strong\\xa0', 'Disturbing Behavior\\xa0', 'The Place Beyond the Pines\\xa0', 'The November Man\\xa0', 'Eye of the Beholder\\xa0', 'The Hurt Locker\\xa0', 'Firestarter\\xa0', 'Killing Them Softly\\xa0', 'A Most Wanted Man\\xa0', 'Freddy Got Fingered\\xa0', \"The Pirates Who Don't Do Anything: A VeggieTales Movie\\xa0\", 'U2 3D\\xa0', 'Highlander: Endgame\\xa0', 'Idlewild\\xa0', 'One Day\\xa0', 'Whip It\\xa0', 'Knockaround Guys\\xa0', 'Confidence\\xa0', 'The Muse\\xa0', 'De-Lovely\\xa0', 'New York Stories\\xa0', \"Barney's Great Adventure\\xa0\", 'The Man with the Iron Fists\\xa0', 'Home Fries\\xa0', 'Here on Earth\\xa0', 'Brazil\\xa0', 'Raise Your Voice\\xa0', 'The Dead Zone\\xa0            ', 'The Big Lebowski\\xa0', 'Black Snake Moan\\xa0', 'Dark Blue\\xa0', 'A Mighty Heart\\xa0', 'Whatever It Takes\\xa0', 'Boat Trip\\xa0', 'The Importance of Being Earnest\\xa0', 'The Love Letter\\xa0', 'Hoot\\xa0', 'In Bruges\\xa0', 'Peeples\\xa0', 'The Rocker\\xa0', 'Post Grad\\xa0', 'Promised Land\\xa0', 'Whatever Works\\xa0', 'The In Crowd\\xa0', 'Three Burials\\xa0', 'Jakob the Liar\\xa0', 'Kiss Kiss Bang Bang\\xa0', 'Idle Hands\\xa0', 'Mulholland Drive\\xa0', 'Blood and Chocolate\\xa0', 'You Will Meet a Tall Dark Stranger\\xa0', 'Never Let Me Go\\xa0', 'The Company\\xa0            ', 'Transsiberian\\xa0', 'The Clan of the Cave Bear\\xa0', 'Crazy in Alabama\\xa0', 'Funny Games\\xa0', 'Listening\\xa0', \"Felicia's Journey\\xa0\", 'Metropolis\\xa0', 'District B13\\xa0', \"Things to Do in Denver When You're Dead\\xa0\", 'The Assassin\\xa0', 'Buffalo Soldiers\\xa0', 'The Return\\xa0', 'Ong-bak 2\\xa0', 'Centurion\\xa0', 'Silent Trigger\\xa0', 'The Midnight Meat Train\\xa0', 'Winnie Mandela\\xa0', 'The Son of No One\\xa0', \"All the Queen's Men\\xa0\", 'The Good Night\\xa0', 'Bathory: Countess of Blood\\xa0', 'Khumba\\xa0', 'Automata\\xa0', 'Dungeons & Dragons: Wrath of the Dragon God\\xa0', 'Chiamatemi Francesco - Il Papa della gente\\xa0', 'Shinjuku Incident\\xa0', 'Pandaemonium\\xa0', 'Groundhog Day\\xa0', 'Magic Mike XXL\\xa0', 'Romeo + Juliet\\xa0', \"Sarah's Key\\xa0\", 'Freedom\\xa0', 'Unforgiven\\xa0', 'Manderlay\\xa0', 'Slumdog Millionaire\\xa0', 'Fatal Attraction\\xa0', 'Pretty Woman\\xa0', 'Towering Inferno\\xa0            ', 'Crocodile Dundee II\\xa0', 'Broken Horses\\xa0', 'Born on the Fourth of July\\xa0', 'Cool Runnings\\xa0', 'My Bloody Valentine\\xa0', 'The Possession\\xa0', 'First Blood\\xa0', 'Stomp the Yard\\xa0', 'The Spy Who Loved Me\\xa0', 'Ghost Hunters\\xa0            ', 'Urban Legend\\xa0', 'Dangerous Liaisons\\xa0', 'Good Deeds\\xa0', 'White Fang\\xa0', 'Superstar\\xa0', 'The Iron Lady\\xa0', 'Jonah: A VeggieTales Movie\\xa0', 'Poetic Justice\\xa0', 'All About the Benjamins\\xa0', 'Vampire in Brooklyn\\xa0', 'Exorcist II: The Heretic\\xa0', 'An American Haunting\\xa0', \"My Boss's Daughter\\xa0\", 'A Perfect Getaway\\xa0', 'Our Family Wedding\\xa0', 'Dead Man on Campus\\xa0', 'Tea with Mussolini\\xa0', 'Thinner\\xa0', 'New York, New York\\xa0', 'Crooklyn\\xa0', 'I Think I Love My Wife\\xa0', 'Jason X\\xa0', 'Big Fat Liar\\xa0', 'Bobby\\xa0', 'Head Over Heels\\xa0', 'Fun Size\\xa0', 'The Diving Bell and the Butterfly\\xa0', 'Little Children\\xa0', 'Gossip\\xa0', 'A Walk on the Moon\\xa0', 'Catch a Fire\\xa0', 'Soul Survivors\\xa0', 'Jefferson in Paris\\xa0', 'Easy Virtue\\xa0', 'Caravans\\xa0', 'Mr. Turner\\xa0', 'Wild Grass\\xa0', 'Amen.\\xa0', 'Reign of Assassins\\xa0', 'The Lucky Ones\\xa0', 'Margaret\\xa0', 'Stan Helsing\\xa0', 'Flipped\\xa0', 'Brokeback Mountain\\xa0', 'Teenage Mutant Ninja Turtles\\xa0', 'Clueless\\xa0', 'Far from Heaven\\xa0', 'Hot Tub Time Machine 2\\xa0', 'Dekalog\\xa0            ', 'Quills\\xa0', 'Seven Psychopaths\\xa0', \"The Caveman's Valentine\\xa0\", 'The Border\\xa0            ', 'Downfall\\xa0', 'The Sea Inside\\xa0', 'Under the Skin\\xa0', 'Good Morning, Vietnam\\xa0', 'The Last Godfather\\xa0', 'Justin Bieber: Never Say Never\\xa0', 'Black Swan\\xa0', 'RoboCop\\xa0', 'The Godfather: Part II\\xa0', 'Save the Last Dance\\xa0', 'A Nightmare on Elm Street 4: The Dream Master\\xa0', 'Miracles from Heaven\\xa0', \"Dude, Where's My Car?\\xa0\", 'Young Guns\\xa0', 'St. Vincent\\xa0', 'About Last Night\\xa0', '10 Things I Hate About You\\xa0', 'The New Guy\\xa0', 'Loaded Weapon 1\\xa0', 'The Shallows\\xa0', 'The Butterfly Effect\\xa0', 'Snow Day\\xa0', 'This Christmas\\xa0', 'Baby Geniuses\\xa0', 'The Big Hit\\xa0', 'Harriet the Spy\\xa0', \"Child's Play 2\\xa0\", 'No Good Deed\\xa0', 'The Mist\\xa0', 'Ex Machina\\xa0', 'Being John Malkovich\\xa0', 'Two Can Play That Game\\xa0', 'Earth to Echo\\xa0', 'Crazy/Beautiful\\xa0', 'Letters from Iwo Jima\\xa0', 'The Astronaut Farmer\\xa0', 'Woo\\xa0', 'Room\\xa0', 'Dirty Work\\xa0', 'Serial Mom\\xa0', 'Dick\\xa0', 'Del 1 - Män som hatar kvinnor\\xa0            ', 'Light It Up\\xa0', '54\\xa0', 'Bubble Boy\\xa0', 'Birthday Girl\\xa0', '21 & Over\\xa0', \"Paris, je t'aime\\xa0\", 'Resurrecting the Champ\\xa0', 'Admission\\xa0', 'The Widow of Saint-Pierre\\xa0', 'Chloe\\xa0', 'Faithful\\xa0', 'Brothers\\xa0', 'Find Me Guilty\\xa0', 'The Perks of Being a Wallflower\\xa0', 'Excessive Force\\xa0', 'Infamous\\xa0', 'The Claim\\xa0', 'The Vatican Tapes\\xa0', 'Attack the Block\\xa0', 'In the Land of Blood and Honey\\xa0', 'The Call\\xa0', 'Operation Chromite\\xa0', 'The Crocodile Hunter: Collision Course\\xa0', 'I Love You Phillip Morris\\xa0', 'Quest for Fire\\xa0', 'Antwone Fisher\\xa0', \"The Emperor's Club\\xa0\", 'True Romance\\xa0', 'Womb\\xa0', 'Glengarry Glen Ross\\xa0', 'The Killer Inside Me\\xa0', 'Cat People\\xa0', 'Sorority Row\\xa0', 'The Prisoner of Zenda\\xa0', 'Lars and the Real Girl\\xa0', 'The Boy in the Striped Pajamas\\xa0', 'Dancer in the Dark\\xa0', 'Oscar and Lucinda\\xa0', 'The Funeral\\xa0', 'Solitary Man\\xa0', 'Machete\\xa0', 'Casino Jack\\xa0', 'The Land Before Time\\xa0', 'Tae Guk Gi: The Brotherhood of War\\xa0', 'The Perfect Game\\xa0', 'The Exorcist\\xa0', 'Jaws\\xa0', 'American Pie\\xa0', 'Ernest & Celestine\\xa0', 'The Golden Child\\xa0', 'Think Like a Man\\xa0', 'Barbershop\\xa0', 'Star Trek II: The Wrath of Khan\\xa0', 'Ace Ventura: Pet Detective\\xa0', 'WarGames\\xa0', 'Witness\\xa0', 'Act of Valor\\xa0', 'Step Up\\xa0', 'Beavis and Butt-Head Do America\\xa0', 'Jackie Brown\\xa0', 'Harold & Kumar Escape from Guantanamo Bay\\xa0', 'Chronicle\\xa0', 'Yentl\\xa0', 'Time Bandits\\xa0', 'Crossroads\\xa0', 'Project X\\xa0', 'Patton\\xa0', 'One Hour Photo\\xa0', 'Quarantine\\xa0', 'The Eye\\xa0', 'Johnson Family Vacation\\xa0', 'How High\\xa0', 'The Muppet Christmas Carol\\xa0', 'Casino Royale\\xa0', 'Frida\\xa0', 'Katy Perry: Part of Me\\xa0', 'The Fault in Our Stars\\xa0', 'Rounders\\xa0', 'Top Five\\xa0', 'Prophecy\\xa0', 'Stir of Echoes\\xa0', 'Spartacus: War of the Damned\\xa0            ', 'Philomena\\xa0', 'The Upside of Anger\\xa0', 'The Boys from Brazil\\xa0', 'Aquamarine\\xa0', 'Paper Towns\\xa0', \"My Baby's Daddy\\xa0\", 'Nebraska\\xa0', 'Tales from the Crypt: Demon Knight\\xa0', \"Max Keeble's Big Move\\xa0\", 'Young Adult\\xa0', 'Crank\\xa0', 'How to Be a Player\\xa0', 'Living Out Loud\\xa0', 'Just Wright\\xa0', 'Rachel Getting Married\\xa0', 'The Postman Always Rings Twice\\xa0', 'Girl with a Pearl Earring\\xa0', 'Das Boot\\xa0', 'The Alamo\\xa0', 'Sorority Boys\\xa0', 'About Time\\xa0', 'House of Flying Daggers\\xa0', 'Arbitrage\\xa0', 'Project Almanac\\xa0', 'Cadillac Records\\xa0', 'Screwed\\xa0', 'Fortress\\xa0', 'For Your Consideration\\xa0', 'Celebrity\\xa0', 'Running with Scissors\\xa0', 'From Justin to Kelly\\xa0', 'Girl 6\\xa0', 'In the Cut\\xa0', 'Two Lovers\\xa0', 'Last Orders\\xa0', 'The Host\\xa0', 'The Pursuit of D.B. Cooper\\xa0', 'Ravenous\\xa0', 'Charlie Bartlett\\xa0', 'The Great Beauty\\xa0', 'The Dangerous Lives of Altar Boys\\xa0', 'Stoker\\xa0', '2046\\xa0', 'Married Life\\xa0', 'Duma\\xa0', 'Ondine\\xa0', 'Brother\\xa0', 'Welcome to Collinwood\\xa0', 'Critical Care\\xa0', 'The Life Before Her Eyes\\xa0', 'Darling Companion\\xa0', 'Trade\\xa0', 'Fateless\\xa0', 'Breakfast of Champions\\xa0', 'A Woman, a Gun and a Noodle Shop\\xa0', 'Cypher\\xa0', 'City of Life and Death\\xa0', 'Home\\xa0', 'Legend of Kung Fu Rabbit\\xa0', 'Space Battleship Yamato\\xa0', '5 Days of War\\xa0', 'Triangle\\xa0', '10 Days in a Madhouse\\xa0', 'Heaven Is for Real\\xa0', 'Snatch\\xa0', \"Dancin' It's On\\xa0\", 'Pet Sematary\\xa0', 'Madadayo\\xa0', 'The Cry of the Owl\\xa0', 'A Tale of Three Cities\\xa0', 'Gremlins\\xa0', 'Star Wars: Episode IV - A New Hope\\xa0', 'Dirty Grandpa\\xa0', 'Doctor Zhivago\\xa0', 'Trash\\xa0', 'High School Musical 3: Senior Year\\xa0', 'The Fighter\\xa0', 'Jackass Number Two\\xa0', 'My Cousin Vinny\\xa0', 'If I Stay\\xa0', 'Drive Hard\\xa0', 'Major League\\xa0', \"St. Trinian's\\xa0\", 'Phone Booth\\xa0', 'A Walk to Remember\\xa0', 'Dead Man Walking\\xa0', 'Cruel Intentions\\xa0', 'Saw VI\\xa0', 'History of the World: Part I\\xa0', 'The Secret Life of Bees\\xa0', 'Corky Romano\\xa0', 'Raising Cain\\xa0', 'F.I.S.T.\\xa0', 'Invaders from Mars\\xa0', 'Brooklyn\\xa0', 'Barry Lyndon\\xa0', 'Out Cold\\xa0', 'The Ladies Man\\xa0', 'Quartet\\xa0', 'Tomcats\\xa0', 'Frailty\\xa0', 'Woman in Gold\\xa0', 'Kinsey\\xa0', 'Army of Darkness\\xa0', 'Slackers\\xa0', \"What's Eating Gilbert Grape\\xa0\", 'The Visual Bible: The Gospel of John\\xa0', 'Vera Drake\\xa0', 'The Guru\\xa0', 'The Perez Family\\xa0', 'Inside Llewyn Davis\\xa0', 'O\\xa0', 'Return to the Blue Lagoon\\xa0', 'The Molly Maguires\\xa0', 'Romance & Cigarettes\\xa0', 'Copying Beethoven\\xa0', 'Poltergeist\\xa0', 'Brighton Rock\\xa0', 'Saw V\\xa0', 'Machine Gun McCain\\xa0', 'LOL\\xa0', 'Jindabyne\\xa0', 'Kabhi Alvida Naa Kehna\\xa0', 'An Ideal Husband\\xa0', 'The Last Days on Mars\\xa0', 'Darkness\\xa0', '2001: A Space Odyssey\\xa0', 'E.T. the Extra-Terrestrial\\xa0', 'In the Land of Women\\xa0', 'The Blue Butterfly\\xa0', 'There Goes My Baby\\xa0', 'Lovesick\\xa0            ', 'Housefull\\xa0', 'September Dawn\\xa0', 'For Greater Glory: The True Story of Cristiada\\xa0', 'La Famille Bélier\\xa0', 'Good Will Hunting\\xa0', 'Misconduct\\xa0', 'Saw III\\xa0', 'Stripes\\xa0', 'Bring It On\\xa0', 'The Purge: Election Year\\xa0', \"She's All That\\xa0\", 'Precious\\xa0', 'Saw IV\\xa0', 'White Noise\\xa0', \"Madea's Family Reunion\\xa0\", 'The Color of Money\\xa0', 'The Longest Day\\xa0', 'The Mighty Ducks\\xa0', 'The Grudge\\xa0', 'Happy Gilmore\\xa0', 'Jeepers Creepers\\xa0', \"Bill & Ted's Excellent Adventure\\xa0\", 'Oliver!\\xa0', 'The Best Exotic Marigold Hotel\\xa0', \"Recess: School's Out\\xa0\", 'Mad Max Beyond Thunderdome\\xa0', 'Commando\\xa0', 'The Boy\\xa0', 'Devil\\xa0', 'Friday After Next\\xa0', 'Insidious: Chapter 3\\xa0', 'The Last Dragon\\xa0', 'Snatch\\xa0', 'The Lawnmower Man\\xa0', \"Nick and Norah's Infinite Playlist\\xa0\", 'Dogma\\xa0', 'The Banger Sisters\\xa0', 'Twilight Zone: The Movie\\xa0', 'Road House\\xa0', 'A Low Down Dirty Shame\\xa0', 'Swimfan\\xa0', 'Employee of the Month\\xa0', \"Can't Hardly Wait\\xa0\", 'The Outsiders\\xa0', \"Pete's Dragon\\xa0\", 'The Dead Zone\\xa0', 'Sinister 2\\xa0', 'Sparkle\\xa0', 'Valentine\\xa0', 'The Fourth Kind\\xa0', 'A Prairie Home Companion\\xa0', 'Sugar Hill\\xa0', 'Invasion U.S.A.\\xa0', 'Roll Bounce\\xa0', 'Rushmore\\xa0', 'Skyline\\xa0', 'The Second Best Exotic Marigold Hotel\\xa0', 'Kit Kittredge: An American Girl\\xa0', 'The Perfect Man\\xa0', \"Mo' Better Blues\\xa0\", 'Kung Pow: Enter the Fist\\xa0', 'Tremors\\xa0', 'Wrong Turn\\xa0', 'The Long Riders\\xa0', 'The Corruptor\\xa0', 'Mud\\xa0', 'Reno 911!: Miami\\xa0', 'One Direction: This Is Us\\xa0', 'The Goods: Live Hard, Sell Hard\\xa0', 'Hey Arnold! The Movie\\xa0', 'My Week with Marilyn\\xa0', 'The Matador\\xa0', 'Love Jones\\xa0', 'The Gift\\xa0', 'End of the Spear\\xa0', 'Get Over It\\xa0', 'Office Space\\xa0', 'Drop Dead Gorgeous\\xa0', 'Big Eyes\\xa0', 'Very Bad Things\\xa0', 'Sleepover\\xa0', 'Body Double\\xa0', 'MacGruber\\xa0', 'Dirty Pretty Things\\xa0', 'Movie 43\\xa0', 'The Tourist\\xa0', 'Over Her Dead Body\\xa0', 'Seeking a Friend for the End of the World\\xa0', 'Cedar Rapids\\xa0', 'Bones\\xa0            ', 'American History X\\xa0', 'The Collection\\xa0', \"Teacher's Pet\\xa0\", 'The Red Violin\\xa0', 'The Straight Story\\xa0', 'Deuces Wild\\xa0', 'Bad Words\\xa0', 'Run, Fatboy, Run\\xa0', 'Heartbeeps\\xa0', 'Black or White\\xa0', 'On the Line\\xa0', 'Rescue Dawn\\xa0', 'Danny Collins\\xa0', 'Jeff, Who Lives at Home\\xa0', 'I Am Love\\xa0', 'Atlas Shrugged II: The Strike\\xa0', 'Romeo Is Bleeding\\xa0', 'The Limey\\xa0', 'Crash\\xa0', 'The House of Mirth\\xa0', 'Malone\\xa0', 'Peaceful Warrior\\xa0', 'Bucky Larson: Born to Be a Star\\xa0', 'Bamboozled\\xa0', 'The Forest\\xa0', 'Sphinx\\xa0', \"While We're Young\\xa0\", 'A Better Life\\xa0', 'Spider\\xa0', 'Gun Shy\\xa0', 'Nicholas Nickleby\\xa0', 'The Iceman\\xa0', 'Dekalog\\xa0            ', 'Krrish\\xa0', 'Cecil B. DeMented\\xa0', 'Killer Joe\\xa0', 'The Joneses\\xa0', 'Owning Mahowny\\xa0', 'The Brothers Solomon\\xa0', 'My Blueberry Nights\\xa0', 'Illuminata\\xa0', 'Swept Away\\xa0', 'War, Inc.\\xa0', 'Shaolin Soccer\\xa0', 'The Brown Bunny\\xa0', 'The Swindle\\xa0', 'Rosewater\\xa0', 'The Chambermaid on the Titanic\\xa0', 'Coriolanus\\xa0', 'Imaginary Heroes\\xa0', 'High Heels and Low Lifes\\xa0', \"World's Greatest Dad\\xa0\", 'Severance\\xa0', 'Edmond\\xa0', 'Welcome to the Rileys\\xa0', 'Police Academy: Mission to Moscow\\xa0', 'Blood Done Sign My Name\\xa0', 'Cinco de Mayo, La Batalla\\xa0', 'Elsa & Fred\\xa0', 'An Alan Smithee Film: Burn Hollywood Burn\\xa0', 'The Open Road\\xa0', 'The Good Guy\\xa0', 'Motherhood\\xa0', 'Free Style\\xa0', 'Strangerland\\xa0', 'The Janky Promoters\\xa0', 'Blonde Ambition\\xa0', 'The Oxford Murders\\xa0', 'The Reef\\xa0', 'Eulogy\\xa0', 'White Noise 2: The Light\\xa0', 'You Got Served: Beat the World\\xa0', 'Fifty Dead Men Walking\\xa0', 'Jungle Shuffle\\xa0', 'Adam Resurrected\\xa0', 'Of Horses and Men\\xa0', \"It's a Wonderful Afterlife\\xa0\", \"The Devil's Tomb\\xa0\", 'Partition\\xa0', 'Good Intentions\\xa0', 'The Good, the Bad, the Weird\\xa0', 'Nurse 3D\\xa0', 'Gunless\\xa0', 'Adventureland\\xa0', 'The Lost City\\xa0', 'Next Friday\\xa0', 'American Heist\\xa0', 'You Only Live Twice\\xa0', 'Plastic\\xa0', 'Amour\\xa0', 'Poltergeist III\\xa0', 'Re-Kill\\xa0', \"It's a Mad, Mad, Mad, Mad World\\xa0\", 'Volver\\xa0', 'Heavy Metal\\xa0', 'Gentlemen Broncos\\xa0', 'Richard III\\xa0', 'Into the Grizzly Maze\\xa0', 'Kites\\xa0', 'Melancholia\\xa0', 'Red Dog\\xa0', 'Jab Tak Hai Jaan\\xa0', 'Alien\\xa0', 'The Texas Chain Saw Massacre\\xa0', 'The Runaways\\xa0', 'Fiddler on the Roof\\xa0', 'Thunderball\\xa0', 'Detention\\xa0', 'Loose Cannons\\xa0', 'Set It Off\\xa0', 'The Best Man\\xa0', \"Child's Play\\xa0\", 'Sicko\\xa0', 'The Purge: Anarchy\\xa0', 'Down to You\\xa0', 'Harold & Kumar Go to White Castle\\xa0', 'The Contender\\xa0', 'Boiler Room\\xa0', 'Trading Places\\xa0', 'Black Christmas\\xa0', \"Breakin' All the Rules\\xa0\", 'Henry V\\xa0', 'The Savages\\xa0', 'Chasing Papi\\xa0', 'The Way of the Gun\\xa0', 'Igby Goes Down\\xa0', 'PCU\\xa0', 'The Ultimate Gift\\xa0', 'The Bold and the Beautiful\\xa0            ', 'The Ice Pirates\\xa0', 'Gracie\\xa0', 'Trust the Man\\xa0', 'Hamlet 2\\xa0', 'Velvet Goldmine\\xa0', 'The Wailing\\xa0', 'Glee: The 3D Concert Movie\\xa0', 'The Legend of Suriyothai\\xa0', 'Two Evil Eyes\\xa0', 'Barbecue\\xa0', 'All or Nothing\\xa0', 'Princess Kaiulani\\xa0', 'Opal Dream\\xa0', 'Heist\\xa0', 'Flame and Citron\\xa0', 'Undiscovered\\xa0', 'Red Riding: In the Year of Our Lord 1974\\xa0', 'The Girl on the Train\\xa0', 'Veronika Decides to Die\\xa0', 'Crocodile Dundee\\xa0', 'Ultramarines: A Warhammer 40,000 Movie\\xa0', 'The I Inside\\xa0', 'Beneath Hill 60\\xa0', 'Polisse\\xa0', 'Awake\\xa0', 'Star Wars: The Clone Wars\\xa0            ', 'Skin Trade\\xa0', 'The Lost Boys\\xa0', 'Crazy Heart\\xa0', 'The Rose\\xa0', 'Baggage Claim\\xa0', 'Barbarella\\xa0', 'Shipwrecked\\xa0', 'Election\\xa0', 'The Namesake\\xa0', 'The DUFF\\xa0', 'Glitter\\xa0', 'The Haunting in Connecticut 2: Ghosts of Georgia\\xa0', 'Silmido\\xa0', 'Bright Star\\xa0', 'My Name Is Khan\\xa0', 'Footloose\\xa0', 'All Is Lost\\xa0', 'Limbo\\xa0', 'Namastey London\\xa0', 'The Wind That Shakes the Barley\\xa0', 'Yeh Jawaani Hai Deewani\\xa0', 'The Karate Kid\\xa0', 'Quo Vadis\\xa0', 'Repo! The Genetic Opera\\xa0', 'Valley of the Wolves: Iraq\\xa0', 'Pulp Fiction\\xa0', 'The Muppet Movie\\xa0', 'Nightcrawler\\xa0', 'Club Dread\\xa0', 'The Sound of Music\\xa0', 'Splash\\xa0', 'Little Miss Sunshine\\xa0', 'Stand by Me\\xa0', '28 Days Later...\\xa0', 'You Got Served\\xa0', 'Escape from Alcatraz\\xa0', 'Brown Sugar\\xa0', 'A Thin Line Between Love and Hate\\xa0', '50/50\\xa0', 'Shutter\\xa0', 'Creepshow\\xa0', 'That Awkward Moment\\xa0', 'Modern Problems\\xa0', 'Kicks\\xa0', 'Much Ado About Nothing\\xa0', \"On Her Majesty's Secret Service\\xa0\", 'The Player\\xa0            ', 'New Nightmare\\xa0', 'Drive Me Crazy\\xa0', 'Akeelah and the Bee\\xa0', 'Half Baked\\xa0', 'New in Town\\xa0', 'Syriana\\xa0', 'American Psycho\\xa0', 'The Good Girl\\xa0', 'Bon Cop Bad Cop\\xa0', 'The Boondock Saints II: All Saints Day\\xa0', 'The City of Your Final Destination\\xa0', 'Enough Said\\xa0', 'Easy A\\xa0', 'The Inkwell\\xa0', 'Shadow of the Vampire\\xa0', 'Prom\\xa0', 'The Pallbearer\\xa0', 'Held Up\\xa0', 'Woman on Top\\xa0', 'Howards End\\xa0', 'Preacher\\xa0            ', 'Anomalisa\\xa0', 'Another Year\\xa0', '8 Women\\xa0', 'Showdown in Little Tokyo\\xa0', 'Clay Pigeons\\xa0', \"It's Kind of a Funny Story\\xa0\", 'Made in Dagenham\\xa0', 'When Did You Last See Your Father?\\xa0', 'Prefontaine\\xa0', 'The Wicked Lady\\xa0', 'The Secret of Kells\\xa0', 'Begin Again\\xa0', 'Down in the Valley\\xa0', 'Brooklyn Rules\\xa0', 'Restless\\xa0', 'The Singing Detective\\xa0', 'The Land Girls\\xa0', 'Fido\\xa0', 'The Wendell Baker Story\\xa0', 'Wild Target\\xa0', 'Pathology\\xa0', 'Wuthering Heights\\xa0            ', '10th & Wolf\\xa0', 'Dear Wendy\\xa0', 'Aloft\\xa0', 'Akira\\xa0', 'The Death and Life of Bobby Z\\xa0', 'The Rocket: The Legend of Rocket Richard\\xa0', 'Swelter\\xa0', 'My Lucky Star\\xa0', 'Imagine Me & You\\xa0', 'Mr. Church\\xa0', 'Swimming Pool\\xa0', 'Green Street 3: Never Back Down\\xa0', 'The Blood of Heroes\\xa0', 'Code of Honor\\xa0', 'Driving Miss Daisy\\xa0', 'Soul Food\\xa0', 'Rumble in the Bronx\\xa0', 'Far from Men\\xa0', 'Thank You for Smoking\\xa0', 'Hostel: Part II\\xa0', 'An Education\\xa0', 'Shopgirl\\xa0', 'The Hotel New Hampshire\\xa0', 'Narc\\xa0', 'Men with Brooms\\xa0', 'Witless Protection\\xa0', 'The Work and the Glory\\xa0', 'Extract\\xa0', 'Masked and Anonymous\\xa0', 'Alias Betty\\xa0', 'Code 46\\xa0', 'Outside Bet\\xa0', 'Crash\\xa0', 'Albert Nobbs\\xa0', 'Black November\\xa0', 'Ta Ra Rum Pum\\xa0', 'Persepolis\\xa0', 'The Hole\\xa0', 'The Wave\\xa0', 'The Neon Demon\\xa0', 'Harry Brown\\xa0', 'Spider-Man 3\\xa0', 'The Omega Code\\xa0', 'Juno\\xa0', 'Pound of Flesh\\xa0', 'Diamonds Are Forever\\xa0', 'The Godfather\\xa0', 'Flashdance\\xa0', '500 Days of Summer\\xa0', 'The Piano\\xa0', 'Magic Mike\\xa0', 'Darkness Falls\\xa0', 'Live and Let Die\\xa0', 'My Dog Skip\\xa0', 'Definitely, Maybe\\xa0', 'Jumping the Broom\\xa0', 'The Great Gatsby\\xa0', 'Good Night, and Good Luck.\\xa0', 'Capote\\xa0', 'Desperado\\xa0', 'The Claim\\xa0', 'Fargo\\xa0            ', \"Logan's Run\\xa0\", 'The Man with the Golden Gun\\xa0', 'Action Jackson\\xa0', 'The Descent\\xa0', 'Michael Jordan to the Max\\xa0', \"Devil's Due\\xa0\", 'Flirting with Disaster\\xa0', \"The Devil's Rejects\\xa0\", 'Buffy the Vampire Slayer\\xa0            ', 'Dope\\xa0', 'In Too Deep\\xa0', 'Skyfall\\xa0', 'House of 1000 Corpses\\xa0', 'Alien Zone\\xa0', 'A Serious Man\\xa0', 'Get Low\\xa0', 'Warlock\\xa0', 'Beyond the Lights\\xa0', 'A Single Man\\xa0', 'The Last Temptation of Christ\\xa0', 'Outside Providence\\xa0', 'Bride & Prejudice\\xa0', 'Rabbit-Proof Fence\\xa0', \"Who's Your Caddy?\\xa0\", 'Split Second\\xa0', 'Nikita\\xa0            ', 'The Other Side of Heaven\\xa0', 'Dark Angel\\xa0            ', 'Veer-Zaara\\xa0', 'Redbelt\\xa0', 'Cyrus\\xa0', 'A Dog of Flanders\\xa0', 'Auto Focus\\xa0', 'Factory Girl\\xa0', 'We Need to Talk About Kevin\\xa0', 'The Christmas Candle\\xa0', 'The Mighty Macs\\xa0', \"Losin' It\\xa0\", 'Mother and Child\\xa0', 'March or Die\\xa0', 'Les visiteurs\\xa0', 'Somewhere\\xa0', 'I Hope They Serve Beer in Hell\\xa0', 'Chairman of the Board\\xa0', 'Hesher\\xa0', 'Dom Hemingway\\xa0', 'Gerry\\xa0', 'The Heart of Me\\xa0', 'Freeheld\\xa0', 'The Extra Man\\xa0', 'Hard to Be a God\\xa0', 'Ca$h\\xa0', 'Wah-Wah\\xa0', 'The Boondock Saints\\xa0', 'Z Storm\\xa0', 'Twixt\\xa0', 'Snow Queen\\xa0', 'Alpha and Omega 4: The Legend of the Saw Toothed Cave\\xa0', 'Pale Rider\\xa0', 'Stargate: The Ark of Truth\\xa0', 'Dazed and Confused\\xa0', 'High School Musical 2\\xa0', 'Two Lovers and a Bear\\xa0', 'Criminal Activities\\xa0', 'Aimee & Jaguar\\xa0', 'The Chumscrubber\\xa0', 'Shade\\xa0', 'House at the End of the Street\\xa0', 'Incendies\\xa0', 'Remember Me, My Love\\xa0', \"Perrier's Bounty\\xa0\", 'Elite Squad\\xa0', 'Annabelle\\xa0', 'Bran Nue Dae\\xa0', 'Boyz n the Hood\\xa0', 'La Bamba\\xa0', 'The Four Seasons\\xa0', 'Dressed to Kill\\xa0', 'The Adventures of Huck Finn\\xa0', 'Go\\xa0', 'Friends with Money\\xa0', 'The Andromeda Strain\\xa0', 'Bats\\xa0', 'Nowhere in Africa\\xa0', 'Shame\\xa0', 'Layer Cake\\xa0', 'The Work and the Glory II: American Zion\\xa0', 'The East\\xa0', 'A Home at the End of the World\\xa0', 'Aberdeen\\xa0', 'The Messenger\\xa0', 'Tracker\\xa0', 'Control\\xa0', 'The Terminator\\xa0', 'Good Bye Lenin!\\xa0', 'The Damned United\\xa0', 'The Return of the Living Dead\\xa0', 'Gomorrah\\xa0            ', 'Mallrats\\xa0', 'Grease\\xa0', 'Platoon\\xa0', 'Fahrenheit 9/11\\xa0', 'Butch Cassidy and the Sundance Kid\\xa0', 'Mary Poppins\\xa0', 'Ordinary People\\xa0', 'Around the World in 80 Days\\xa0', 'West Side Story\\xa0', 'Caddyshack\\xa0', 'The Brothers\\xa0', 'The Wood\\xa0', 'The Usual Suspects\\xa0', 'A Nightmare on Elm Street 5: The Dream Child\\xa0', 'Van Wilder: Party Liaison\\xa0', 'The Wrestler\\xa0', 'Duel in the Sun\\xa0', 'Best in Show\\xa0', 'Escape from New York\\xa0', 'School Daze\\xa0', 'Daddy Day Camp\\xa0', 'Mr. Nice Guy\\xa0', 'A Mighty Wind\\xa0', 'Mystic Pizza\\xa0', 'War & Peace\\xa0            ', 'Sliding Doors\\xa0', 'Tales from the Hood\\xa0', 'The Last King of Scotland\\xa0', 'Halloween 5\\xa0', 'Bernie\\xa0', 'Dolphins and Whales 3D: Tribes of the Ocean\\xa0', 'Pollock\\xa0', '200 Cigarettes\\xa0', 'The Words\\xa0', 'Casa de mi Padre\\xa0', 'City Island\\xa0', 'The Guard\\xa0', 'College\\xa0', 'The Virgin Suicides\\xa0', 'Little Voice\\xa0', 'Miss March\\xa0', 'Wish I Was Here\\xa0', 'Simply Irresistible\\xa0', 'Veronica Mars\\xa0            ', 'Hedwig and the Angry Inch\\xa0', 'Only the Strong\\xa0', 'Goddess of Love\\xa0', 'Shattered Glass\\xa0', 'Novocaine\\xa0', 'The Business of Strangers\\xa0', 'The Wild Bunch\\xa0', 'The Wackness\\xa0', 'The Great Train Robbery\\xa0', 'Morvern Callar\\xa0', 'Beastmaster 2: Through the Portal of Time\\xa0', 'The 5th Quarter\\xa0', 'The Flower of Evil\\xa0', 'The Greatest\\xa0', 'Snow Flower and the Secret Fan\\xa0', 'Come Early Morning\\xa0', 'Lucky Break\\xa0', 'Julia\\xa0', 'Surfer, Dude\\xa0', 'Lake of Fire\\xa0', '11:14\\xa0', 'Men of War\\xa0', 'Don McKay\\xa0', 'Deadfall\\xa0', 'A Shine of Rainbows\\xa0', 'The Hit List\\xa0', 'Emma\\xa0            ', 'Videodrome\\xa0', \"L'auberge espagnole\\xa0\", 'Song One\\xa0', 'Murder by Numbers\\xa0', 'Winter in Wartime\\xa0', 'Freaky Deaky\\xa0', 'The Train\\xa0', 'Trade of Innocents\\xa0', 'The Protector\\xa0', 'Stiff Upper Lips\\xa0', 'The Inbetweeners\\xa0            ', 'Bend It Like Beckham\\xa0', 'Sunshine State\\xa0', 'Crossover\\xa0', 'Khiladi 786\\xa0', '[Rec] 2\\xa0', 'Standing Ovation\\xa0', 'The Sting\\xa0', 'Chariots of Fire\\xa0', 'Diary of a Mad Black Woman\\xa0', 'Shine\\xa0', 'Don Jon\\xa0', 'High Plains Drifter\\xa0', 'Ghost World\\xa0', 'Iris\\xa0', 'Galaxina\\xa0', 'The Chorus\\xa0', 'Mambo Italiano\\xa0', 'Wonderland\\xa0', 'Do the Right Thing\\xa0', 'Harvard Man\\xa0', 'Le Havre\\xa0', 'Irreversible\\xa0', 'R100\\xa0', 'Rang De Basanti\\xa0', 'Animals\\xa0', 'Salvation Boulevard\\xa0', 'The Ten\\xa0', 'A Room for Romeo Brass\\xa0', 'Headhunters\\xa0', 'Grabbers\\xa0', 'Saint Ralph\\xa0', 'Miss Julie\\xa0', 'Somewhere in Time\\xa0', 'Dum Maaro Dum\\xa0', 'Insidious: Chapter 2\\xa0', 'Saw II\\xa0', '10 Cloverfield Lane\\xa0', 'Jackass: The Movie\\xa0', 'Lights Out\\xa0', 'Paranormal Activity 3\\xa0', 'Ouija\\xa0', 'A Nightmare on Elm Street 3: Dream Warriors\\xa0', 'The Gift\\xa0', 'Instructions Not Included\\xa0', 'Paranormal Activity 4\\xa0', 'The Robe\\xa0', 'The Return of the Pink Panther\\xa0', \"Freddy's Dead: The Final Nightmare\\xa0\", 'Monster\\xa0', '20,000 Leagues Under the Sea\\xa0', 'Paranormal Activity: The Marked Ones\\xa0', 'The Elephant Man\\xa0', 'Dallas Buyers Club\\xa0', 'The Lazarus Effect\\xa0', 'Memento\\xa0', 'Oculus\\xa0', 'Clerks II\\xa0', 'Billy Elliot\\xa0', 'The Way Way Back\\xa0', 'House Party 2\\xa0', 'The Man from Snowy River\\xa0', \"Doug's 1st Movie\\xa0\", 'The Apostle\\xa0', 'Mommie Dearest\\xa0', 'Our Idiot Brother\\xa0', 'Race\\xa0', 'The Players Club\\xa0', 'O\\xa0', 'As Above, So Below\\xa0', 'Addicted\\xa0', \"Eve's Bayou\\xa0\", 'Still Alice\\xa0', 'The Egyptian\\xa0', 'Nighthawks\\xa0', 'Friday the 13th Part VIII: Jason Takes Manhattan\\xa0', 'My Big Fat Greek Wedding\\xa0', 'Spring Breakers\\xa0', 'Halloween: The Curse of Michael Myers\\xa0', 'Y Tu Mamá También\\xa0', 'Shaun of the Dead\\xa0', 'The Haunting of Molly Hartley\\xa0', 'Lone Star\\xa0', 'Halloween 4: The Return of Michael Myers\\xa0', \"April Fool's Day\\xa0\", 'Diner\\xa0', 'Lone Wolf McQuade\\xa0', 'Apollo 18\\xa0', 'Sunshine Cleaning\\xa0', 'No Escape\\xa0', 'The Beastmaster\\xa0', 'Solomon and Sheba\\xa0', 'Fifty Shades of Black\\xa0', 'Not Easily Broken\\xa0', 'A Farewell to Arms\\xa0', 'The Perfect Match\\xa0', 'Digimon: The Movie\\xa0', 'Saved!\\xa0', 'The Barbarian Invasions\\xa0', 'Robin and Marian\\xa0', 'The Forsaken\\xa0', 'Force 10 from Navarone\\xa0', 'UHF\\xa0', \"Grandma's Boy\\xa0\", 'Slums of Beverly Hills\\xa0', 'Once Upon a Time in the West\\xa0', 'Made\\xa0', 'Moon\\xa0', 'Keeping Up with the Steins\\xa0', 'Sea Rex 3D: Journey to a Prehistoric World\\xa0', 'The Sweet Hereafter\\xa0', 'Of Gods and Men\\xa0', 'Bottle Shock\\xa0', 'Jekyll and Hyde... Together Again\\xa0', 'Heavenly Creatures\\xa0', '90 Minutes in Heaven\\xa0', 'Everything Must Go\\xa0', 'Zero Effect\\xa0', 'The Machinist\\xa0', 'Light Sleeper\\xa0', 'Kill the Messenger\\xa0', 'Rabbit Hole\\xa0', 'Party Monster\\xa0', 'Green Room\\xa0', 'The Oh in Ohio\\xa0', 'Atlas Shrugged: Who Is John Galt?\\xa0', 'Bottle Rocket\\xa0', 'Albino Alligator\\xa0', 'Gandhi, My Father\\xa0', 'Standard Operating Procedure\\xa0', 'Out of the Blue\\xa0', 'Tucker and Dale vs Evil\\xa0', 'Lovely, Still\\xa0', 'Tycoon\\xa0', 'Desert Blue\\xa0', 'Decoys\\xa0', 'The Visit\\xa0', 'Redacted\\xa0', 'Fascination\\xa0', 'Saving Grace\\xa0            ', 'Area 51\\xa0', 'Sleep Tight\\xa0', 'The Cottage\\xa0', 'Dead Like Me: Life After Death\\xa0', 'Farce of the Penguins\\xa0', 'Flying By\\xa0', 'Psych\\xa0            ', 'Rudderless\\xa0', 'Henry & Me\\xa0', 'Christmas Eve\\xa0', 'We Have Your Husband\\xa0', 'Dying of the Light\\xa0', 'Born of War\\xa0', 'Capricorn One\\xa0', \"Should've Been Romeo\\xa0\", 'Running Forever\\xa0', 'Yoga Hosers\\xa0', 'Navy Seals vs. Zombies\\xa0', 'I Served the King of England\\xa0', 'Soul Kitchen\\xa0', 'Sling Blade\\xa0', 'The Awakening\\xa0', 'Hostel\\xa0', 'Tristram Shandy: A Cock and Bull Story\\xa0', 'Take Shelter\\xa0', 'Lady in White\\xa0', 'Driving Lessons\\xa0', \"Let's Kill Ward's Wife\\xa0\", 'The Texas Chainsaw Massacre 2\\xa0', 'Pat Garrett & Billy the Kid\\xa0', 'Only God Forgives\\xa0', 'Camping sauvage\\xa0', 'Without Men\\xa0', 'Barfi\\xa0', 'Dear Frankie\\xa0', 'All Hat\\xa0', 'The Names of Love\\xa0', 'Treading Water\\xa0', 'Savage Grace\\xa0', 'Out of the Blue\\xa0', 'Police Academy\\xa0', 'The Blue Lagoon\\xa0', 'Four Weddings and a Funeral\\xa0', 'Fast Times at Ridgemont High\\xa0', 'Moby Dick\\xa0', '25th Hour\\xa0', 'Secrets and Lies\\xa0            ', 'Bound\\xa0', 'Requiem for a Dream\\xa0', 'State Fair\\xa0', 'Tango\\xa0', 'Salvador\\xa0', \"Moms' Night Out\\xa0\", 'Donnie Darko\\xa0', 'Saving Private Perez\\xa0', 'Character\\xa0', 'Spun\\xa0', 'Life During Wartime\\xa0', 'Lady Vengeance\\xa0', \"Mozart's Sister\\xa0\", 'Mean Machine\\xa0', 'Exiled\\xa0', 'Blackthorn\\xa0', 'Lilya 4-Ever\\xa0', 'After.Life\\xa0', 'Fugly\\xa0', \"One Flew Over the Cuckoo's Nest\\xa0\", \"R.L. Stine's Monsterville: The Cabinet of Souls\\xa0\", 'Silent Movie\\xa0', 'Airlift\\xa0', 'Anne of Green Gables\\xa0            ', 'Falcon Rising\\xa0', 'The Sweeney\\xa0', 'Sexy Beast\\xa0', 'Easy Money\\xa0', 'Whale Rider\\xa0', 'Paa\\xa0', 'Cargo\\xa0', 'Pan\\xa0', 'High School Musical\\xa0', 'Animal Kingdom\\xa0            ', 'Love and Death on Long Island\\xa0', 'Night Watch\\xa0', 'The Crying Game\\xa0', \"Porky's\\xa0\", 'Survival of the Dead\\xa0', 'Night of the Living Dead\\xa0', 'Lost in Translation\\xa0', 'Annie Hall\\xa0', 'The Greatest Show on Earth\\xa0', 'Exodus: Gods and Kings\\xa0', \"Monster's Ball\\xa0\", 'Maggie\\xa0', 'Leaving Las Vegas\\xa0', 'Hansel & Gretel Get Baked\\xa0', 'The Return of the Living Dead\\xa0', 'The Front Page\\xa0', 'The Boy Next Door\\xa0', 'Trapeze\\xa0', 'Saving Grace\\xa0            ', 'The Kids Are All Right\\xa0', 'They Live\\xa0', 'The Great Escape\\xa0', 'What the #$*! Do We (K)now!?\\xa0', 'The Last Exorcism Part II\\xa0', 'Boyhood\\xa0', 'Scoop\\xa0', 'Planet of the Apes\\xa0', 'The Wash\\xa0', '3 Strikes\\xa0', 'The Cooler\\xa0', 'The Misfits\\xa0', 'The Night Listener\\xa0', 'The Jerky Boys\\xa0', 'My Soul to Take\\xa0', 'The Orphanage\\xa0', 'A Haunted House 2\\xa0', 'The Rules of Attraction\\xa0', 'Topaz\\xa0', \"Let's Go to Prison\\xa0\", 'Four Rooms\\xa0', 'Secretary\\xa0', 'The Real Cancun\\xa0', 'Talk Radio\\xa0', 'Waiting for Guffman\\xa0', 'Love Stinks\\xa0', 'You Kill Me\\xa0', 'Thumbsucker\\xa0', 'Red State\\xa0', 'Mirrormask\\xa0', 'Samsara\\xa0', 'The Barbarians\\xa0', 'The Art of Getting By\\xa0', 'Zipper\\xa0', 'Poolhall Junkies\\xa0', 'The Loss of Sexual Innocence\\xa0', 'Holy Motors\\xa0', 'Joe\\xa0', 'Shooting Fish\\xa0', 'Prison\\xa0', 'Psycho Beach Party\\xa0', 'The Big Tease\\xa0', 'Buen Día, Ramón\\xa0', 'Trust\\xa0', 'An Everlasting Piece\\xa0', 'Among Giants\\xa0', 'Adore\\xa0', 'The Velocity of Gary\\xa0', 'Mondays in the Sun\\xa0', 'Stake Land\\xa0', 'Sonny with a Chance\\xa0            ', 'The Last Time I Committed Suicide\\xa0', 'Futuro Beach\\xa0', 'Another Happy Day\\xa0', 'A Lonely Place to Die\\xa0', 'Nothing\\xa0', 'The Geographer Drank His Globe Away\\xa0', '1776\\xa0', 'Inescapable\\xa0', \"Hell's Angels\\xa0\", 'Purple Violets\\xa0', 'The Veil\\xa0', 'The Loved Ones\\xa0', 'No Vacancy\\xa0', 'How to Fall in Love\\xa0', 'The Perfect Wave\\xa0', 'Ben-Hur\\xa0', 'A Man for All Seasons\\xa0', 'Network\\xa0', 'Gone with the Wind\\xa0', 'Desert Dancer\\xa0', 'Major Dundee\\xa0', 'Down for Life\\xa0', 'Annie Get Your Gun\\xa0', 'Four Lions\\xa0', 'House of Sand\\xa0', 'Defendor\\xa0', 'The Pirate\\xa0', 'The Good Heart\\xa0', 'The History Boys\\xa0', 'Unknown\\xa0', 'M*A*S*H\\xa0            ', 'Midnight Cowboy\\xa0', 'The Full Monty\\xa0', 'Airplane!\\xa0', 'Chain of Command\\xa0', 'Friday\\xa0', 'Menace II Society\\xa0', 'Empire\\xa0            ', 'Creepshow 2\\xa0', 'The Ballad of Cable Hogue\\xa0', 'In Cold Blood\\xa0', \"The Nun's Story\\xa0\", 'Harper\\xa0', 'Frenzy\\xa0', 'The Witch\\xa0', 'I Got the Hook Up\\xa0', \"She's the One\\xa0\", 'Gods and Monsters\\xa0', 'The Secret in Their Eyes\\xa0', 'Day of the Dead\\xa0', 'Train\\xa0', 'Evil Dead II\\xa0', 'Pootie Tang\\xa0', 'Sharknado\\xa0', 'La otra conquista\\xa0', 'Trollhunter\\xa0', 'Ira & Abby\\xa0', 'The Watch\\xa0', 'Winter Passing\\xa0', 'D.E.B.S.\\xa0', 'The Masked Saint\\xa0', 'The Betrayed\\xa0', 'Taxman\\xa0', 'The Secret\\xa0            ', '2:13\\xa0', 'Batman: The Dark Knight Returns, Part 2\\xa0', 'Time to Choose\\xa0', 'In the Name of the King: The Last Job\\xa0', 'Wicked Blood\\xa0', 'Dawn Patrol\\xa0', 'Lords of London\\xa0', 'High Anxiety\\xa0', 'March of the Penguins\\xa0', 'Margin Call\\xa0', 'August\\xa0', 'Choke\\xa0', 'Whiplash\\xa0', 'City of God\\xa0', 'Human Traffic\\xa0', 'Day One\\xa0', 'The Dead Girl\\xa0', 'The Hunt\\xa0', 'A Christmas Story\\xa0', 'Bella\\xa0', 'Class of 1984\\xa0', 'The Opposite Sex\\xa0', 'Dreaming of Joseph Lees\\xa0', 'The Class\\xa0', \"Rosemary's Baby\\xa0\", 'The Man Who Shot Liberty Valance\\xa0', 'Adam\\xa0', 'Maria Full of Grace\\xa0', 'Beginners\\xa0', 'Feast\\xa0', 'Animal House\\xa0', 'Goldfinger\\xa0', 'Antiviral\\xa0', \"It's a Wonderful Life\\xa0\", 'Trainspotting\\xa0', 'The Original Kings of Comedy\\xa0', 'Paranormal Activity 2\\xa0', 'Waking Ned Devine\\xa0', 'Bowling for Columbine\\xa0', 'Coming Home\\xa0', \"A Nightmare on Elm Street 2: Freddy's Revenge\\xa0\", 'A Room with a View\\xa0', 'The Purge\\xa0', 'Sinister\\xa0', 'Martin Lawrence Live: Runteldat\\xa0', 'Cat on a Hot Tin Roof\\xa0', 'Beneath the Planet of the Apes\\xa0', 'Air Bud\\xa0', 'Pokémon 3: The Movie\\xa0', 'Jason Lives: Friday the 13th Part VI\\xa0', 'The Bridge on the River Kwai\\xa0', 'Spaced Invaders\\xa0', 'Family Plot\\xa0', 'The Apartment\\xa0', 'Jason Goes to Hell: The Final Friday\\xa0', 'Torn Curtain\\xa0', \"Dave Chappelle's Block Party\\xa0\", 'Slow West\\xa0', 'Krush Groove\\xa0', 'Next Day Air\\xa0', 'Elmer Gantry\\xa0', 'Judgment at Nuremberg\\xa0', \"Trippin'\\xa0\", 'Robot Chicken\\xa0            ', 'Red River\\xa0', 'Phat Girlz\\xa0', 'Before Midnight\\xa0', 'Teen Wolf Too\\xa0', 'Phantasm II\\xa0', 'Woman Thou Art Loosed\\xa0', 'Real Women Have Curves\\xa0', 'Deadline Gallipoli\\xa0            ', 'Water\\xa0', 'East Is East\\xa0', 'Whipped\\xa0', 'Kama Sutra: A Tale of Love\\xa0', 'Please Give\\xa0', 'Willy Wonka & the Chocolate Factory\\xa0', 'Warlock: The Armageddon\\xa0', '8 Heads in a Duffel Bag\\xa0', 'Days of Heaven\\xa0', 'Thirteen Conversations About One Thing\\xa0', 'Jawbreaker\\xa0', 'Basquiat\\xa0', 'Frances Ha\\xa0', 'Tsotsi\\xa0', 'Happiness\\xa0', 'DysFunktional Family\\xa0', 'Tusk\\xa0', 'Oldboy\\xa0', 'Letters to God\\xa0', 'Hobo with a Shotgun\\xa0', 'Compadres\\xa0', 'Freeway\\xa0', \"Love's Abiding Joy\\xa0\", 'Fish Tank\\xa0', 'Damsels in Distress\\xa0', 'Creature\\xa0            ', 'Bachelorette\\xa0', 'BrainDead\\xa0            ', 'Brave New Girl\\xa0', \"Tim and Eric's Billion Dollar Movie\\xa0\", 'The Gambler\\xa0', 'The Grand\\xa0            ', 'Summer Storm\\xa0', 'Fort McCoy\\xa0', 'Chain Letter\\xa0', 'Just Looking\\xa0', 'The Divide\\xa0', 'The Eclipse\\xa0', 'Demonic\\xa0', 'My Big Fat Independent Movie\\xa0', 'Alice in Wonderland\\xa0', 'The Deported\\xa0', 'Tanner Hall\\xa0', 'Open Road\\xa0', 'They Came Together\\xa0', '30 Nights of Paranormal Activity with the Devil Inside the Girl with the Dragon Tattoo\\xa0', 'Never Back Down 2: The Beatdown\\xa0', 'Point Blank\\xa0', 'Four Single Fathers\\xa0', 'Enter the Dangerous Mind\\xa0', 'Something Wicked\\xa0', 'AWOL-72\\xa0', 'Iguana\\xa0', 'Cinderella\\xa0', 'Chicago Overcoat\\xa0', 'Barry Munday\\xa0', 'Central Station\\xa0', 'Pocketful of Miracles\\xa0', 'Close Range\\xa0', 'Boynton Beach Club\\xa0', 'Amnesiac\\xa0', 'Freakonomics\\xa0', 'The Omen\\xa0', 'High Tension\\xa0', 'Griff the Invisible\\xa0', 'Unnatural\\xa0', 'Hustle & Flow\\xa0', 'Some Like It Hot\\xa0', 'Friday the 13th Part VII: The New Blood\\xa0', 'The Wizard of Oz\\xa0', 'Young Frankenstein\\xa0', 'Diary of the Dead\\xa0', 'Lage Raho Munna Bhai\\xa0', \"Ulee's Gold\\xa0\", 'The Black Stallion\\xa0', 'Sardaar Ji\\xa0', 'Journey to Saturn\\xa0', \"Donovan's Reef\\xa0\", 'The Dress\\xa0', 'A Guy Named Joe\\xa0', 'Blazing Saddles\\xa0', 'Friday the 13th: The Final Chapter\\xa0', 'Ida\\xa0', 'Maurice\\xa0', 'Beer League\\xa0', \"The Astronaut's Wife\\xa0\", 'Riding Giants\\xa0', 'Timecrimes\\xa0', 'Silver Medallist\\xa0', 'Timber Falls\\xa0', \"Singin' in the Rain\\xa0\", 'Fat, Sick & Nearly Dead\\xa0', 'A Haunted House\\xa0', \"2016: Obama's America\\xa0\", 'Halloween II\\xa0', 'That Thing You Do!\\xa0', 'Halloween III: Season of the Witch\\xa0', 'Escape from the Planet of the Apes\\xa0', 'Hud\\xa0', 'Kevin Hart: Let Me Explain\\xa0', 'My Own Private Idaho\\xa0', 'Garden State\\xa0', 'Before Sunrise\\xa0', 'Sur le seuil\\xa0', \"Jesus' Son\\xa0\", 'Saving Face\\xa0', 'Brick Lane\\xa0', 'Robot & Frank\\xa0', 'My Life Without Me\\xa0', 'The Spectacular Now\\xa0', \"Marilyn Hotchkiss' Ballroom Dancing and Charm School\\xa0\", 'Religulous\\xa0', 'Fuel\\xa0', \"Valley of the Heart's Delight\\xa0\", 'Dodgeball: A True Underdog Story\\xa0', 'Eye of the Dolphin\\xa0', '8: The Mormon Proposition\\xa0', 'The Other End of the Line\\xa0', 'Anatomy\\xa0', 'Sleep Dealer\\xa0', 'Super\\xa0', 'Christmas Mail\\xa0', 'Stung\\xa0', 'Antibirth\\xa0', 'Get on the Bus\\xa0', 'Thr3e\\xa0', 'Idiocracy\\xa0', 'The Rise of the Krays\\xa0', 'This Is England\\xa0', 'Alien Uprising\\xa0', 'Bathing Beauty\\xa0', 'Go for It!\\xa0', 'Dancer, Texas Pop. 81\\xa0', 'Show Boat\\xa0', 'Redemption Road\\xa0', 'The Calling\\xa0', 'The Brave Little Toaster\\xa0', 'Fantasia\\xa0', 'The French Connection\\xa0', '8 Days\\xa0', 'Friday the 13th Part III\\xa0', 'Friday the 13th: A New Beginning\\xa0', 'The Last Sin Eater\\xa0', 'Do You Believe?\\xa0', 'Impact Point\\xa0', 'The Valley of Decision\\xa0', 'Eden\\xa0', 'Chicken Tikka Masala\\xa0', 'Always Woodstock\\xa0', 'Jack Brooks: Monster Slayer\\xa0', 'The Best Years of Our Lives\\xa0', 'Bully\\xa0', 'Elling\\xa0', 'Mi America\\xa0', '[Rec]\\xa0', 'Lies in Plain Sight\\xa0', 'Sharkskin\\xa0', 'Containment\\xa0', 'The Timber\\xa0', 'From Russia with Love\\xa0', 'The Toxic Avenger Part II\\xa0', 'In the Heat of the Night\\xa0            ', 'Sleeper\\xa0', 'It Follows\\xa0', 'Everything You Always Wanted to Know About Sex * But Were Afraid to Ask\\xa0', 'To Kill a Mockingbird\\xa0', 'Mad Max 2: The Road Warrior\\xa0', 'The Legend of Drunken Master\\xa0', 'Lolita\\xa0', \"Boys Don't Cry\\xa0\", 'Silent House\\xa0', 'The Lives of Others\\xa0', 'Courageous\\xa0', 'The Hustler\\xa0', 'Boom Town\\xa0', 'The Triplets of Belleville\\xa0', 'Smoke Signals\\xa0', 'American Splendor\\xa0', 'Before Sunset\\xa0', 'Amores Perros\\xa0', 'Thirteen\\xa0', \"Gentleman's Agreement\\xa0\", \"Winter's Bone\\xa0\", 'Touching the Void\\xa0', \"Alexander's Ragtime Band\\xa0\", 'Me and You and Everyone We Know\\xa0', 'Inside Job\\xa0', 'We Are Your Friends\\xa0', 'Ghost Dog: The Way of the Samurai\\xa0', 'Harsh Times\\xa0', 'Captive\\xa0', 'Full Frontal\\xa0', 'Witchboard\\xa0', 'Strangers with Candy\\xa0            ', 'Hamlet\\xa0', 'Shortbus\\xa0', 'Waltz with Bashir\\xa0', 'The Book of Mormon Movie, Volume 1: The Journey\\xa0', 'No End in Sight\\xa0', 'The Diary of a Teenage Girl\\xa0', 'Get Real\\xa0            ', 'In the Shadow of the Moon\\xa0', \"Meek's Cutoff\\xa0\", 'Inside Deep Throat\\xa0', 'Dinner Rush\\xa0', 'Clockwatchers\\xa0', 'The Virginity Hit\\xa0', 'Subway\\xa0', 'House of D\\xa0', 'Teeth\\xa0', 'Six-String Samurai\\xa0', 'Hum To Mohabbat Karega\\xa0', \"It's All Gone Pete Tong\\xa0\", 'Saint John of Las Vegas\\xa0', '24 7: Twenty Four Seven\\xa0', 'Stonewall\\xa0', 'Eureka\\xa0            ', 'Roadside Romeo\\xa0', 'This Thing of Ours\\xa0', 'The Lost Medallion: The Adventures of Billy Stone\\xa0', 'The Last Five Years\\xa0', 'The Missing Person\\xa0', 'Return of the Living Dead III\\xa0', 'London\\xa0', 'Sherrybaby\\xa0', 'Stealing Harvard\\xa0', 'Circle\\xa0', 'Eden Lake\\xa0', 'Plush\\xa0', 'Vampire Killers\\xa0', \"Gangster's Paradise: Jerusalema\\xa0\", 'Freeze Frame\\xa0', 'Grave Encounters\\xa0', 'Stitches\\xa0', 'Nine Dead\\xa0', 'To Be Frank, Sinatra at 100\\xa0', 'Bananas\\xa0', 'Supercapitalist\\xa0', 'Rockaway\\xa0', 'Wings\\xa0            ', 'The Lady from Shanghai\\xa0', \"No Man's Land: The Rise of Reeker\\xa0\", 'Highway\\xa0', 'Small Apartments\\xa0', 'Coffee Town\\xa0', 'The Ghastly Love of Johnny X\\xa0', 'All Is Bright\\xa0', 'The Torture Chamber of Dr. Sadism\\xa0', \"Straight A's\\xa0\", 'A Funny Thing Happened on the Way to the Forum\\xa0', 'Slacker Uprising\\xa0', \"The Legend of Hell's Gate: An American Conspiracy\\xa0\", 'The Walking Deceased\\xa0', 'The Curse of Downers Grove\\xa0', 'Shark Lake\\xa0', \"River's Edge\\xa0\", 'Northfork\\xa0', 'The Marine 4: Moving Target\\xa0', 'Buried\\xa0', 'Submarine\\xa0', 'The Square\\xa0', 'One to Another\\xa0', 'Carrie\\xa0', 'ABCD (Any Body Can Dance)\\xa0', 'A Nightmare on Elm Street\\xa0', 'Man on Wire\\xa0', 'Abandoned\\xa0', 'Brotherly Love\\xa0', 'The Last Exorcism\\xa0', 'Nowhere Boy\\xa0', 'A Streetcar Named Desire\\xa0', 'Dr. Strangelove or: How I Learned to Stop Worrying and Love the Bomb\\xa0', 'El crimen del padre Amaro\\xa0', 'Beasts of the Southern Wild\\xa0', 'Battle for the Planet of the Apes\\xa0', 'Songcatcher\\xa0', 'Higher Ground\\xa0', 'Vaalu\\xa0', 'The Greatest Movie Ever Sold\\xa0', 'Ed and His Dead Mother\\xa0', 'Travelers and Magicians\\xa0', \"Hang 'Em High\\xa0\", 'Deadline - U.S.A.\\xa0', 'Sublime\\xa0', \"A Beginner's Guide to Snuff\\xa0\", 'Independence Daysaster\\xa0', 'Dysfunctional Friends\\xa0', 'Run Lola Run\\xa0', 'May\\xa0', 'Against the Wild\\xa0', 'Living Dark: The Story of Ted the Caver\\xa0', 'Under the Same Moon\\xa0', 'Conquest of the Planet of the Apes\\xa0', 'In the Bedroom\\xa0', 'I Spit on Your Grave\\xa0', 'Happy, Texas\\xa0', 'My Summer of Love\\xa0', 'The Lunchbox\\xa0', 'Yes\\xa0', \"You Can't Take It with You\\xa0\", 'From Here to Eternity\\xa0', 'She Wore a Yellow Ribbon\\xa0', 'Grace Unplugged\\xa0', 'Foolish\\xa0', 'N-Secure\\xa0', 'Caramel\\xa0', 'Out of the Dark\\xa0', 'The Bubble\\xa0', 'The Conversation\\xa0', 'Dil Jo Bhi Kahey...\\xa0', 'Mississippi Mermaid\\xa0', 'I Love Your Work\\xa0', 'Cabin Fever\\xa0', 'Dawn of the Dead\\xa0', 'Waitress\\xa0', 'Bloodsport\\xa0', 'Mr. Smith Goes to Washington\\xa0', 'Kids\\xa0', 'The Squid and the Whale\\xa0', 'Kissing Jessica Stein\\xa0', 'A Woman, a Gun and a Noodle Shop\\xa0', 'Kickboxer: Vengeance\\xa0', 'Spellbound\\xa0', 'Exotica\\xa0', \"Buffalo '66\\xa0\", 'Insidious\\xa0', 'Repo Man\\xa0', 'Nine Queens\\xa0', 'The Gatekeepers\\xa0', 'The Ballad of Jack and Rose\\xa0', 'The To Do List\\xa0', 'Killing Zoe\\xa0', 'The Believer\\xa0', 'Snow Angels\\xa0', 'Unsullied\\xa0', 'Session 9\\xa0', 'I Want Someone to Eat Cheese With\\xa0', 'Mooz-Lum\\xa0', 'Hatchet\\xa0', 'Modern Times\\xa0', 'Stolen Summer\\xa0', 'My Name Is Bruce\\xa0', 'The Salon\\xa0', 'Road Hard\\xa0', 'Forty Shades of Blue\\xa0', 'Amigo\\xa0', 'Pontypool\\xa0', 'Trucker\\xa0', 'Me You and Five Bucks\\xa0', 'The Lords of Salem\\xa0', 'Housebound\\xa0', 'Wal-Mart: The High Cost of Low Price\\xa0', 'Fetching Cody\\xa0', 'Once Upon a Time in Queens\\xa0', 'Closer to the Moon\\xa0', 'Mutant World\\xa0', 'Growing Up Smith\\xa0', 'Checkmate\\xa0', 'Jack Reacher\\xa0', '#Horror\\xa0', 'Wind Walkers\\xa0', 'Snow White and the Seven Dwarfs\\xa0', 'The Holy Girl\\xa0', 'Shalako\\xa0', 'Incident at Loch Ness\\xa0', 'The Dog Lover\\xa0', 'Girl House\\xa0', 'The Blue Room\\xa0', 'House at the End of the Drive\\xa0', 'Batman: The Movie\\xa0', 'Lock, Stock and Two Smoking Barrels\\xa0', 'The Ballad of Gregorio Cortez\\xa0', 'The Streets of San Francisco\\xa0            ', 'The Celebration\\xa0', 'Trees Lounge\\xa0', 'Journey from the Fall\\xa0', 'The Basket\\xa0', 'Eddie: The Sleepwalking Cannibal\\xa0', 'Mercury Rising\\xa0', 'Space: Above and Beyond\\xa0            ', 'Queen of the Mountains\\xa0', 'Def-Con 4\\xa0', 'The Hebrew Hammer\\xa0', \"Neal 'N' Nikki\\xa0\", 'The 41-Year-Old Virgin Who Knocked Up Sarah Marshall and Felt Superbad About It\\xa0', 'Forget Me Not\\xa0', 'Rebecca\\xa0', 'Friday the 13th Part 2\\xa0', 'The Lost Weekend\\xa0', 'C.H.U.D.\\xa0', 'Filly Brown\\xa0', 'The Lion of Judah\\xa0', 'Niagara\\xa0', 'How Green Was My Valley\\xa0', 'The Girlfriend Experience\\xa0            ', 'Da Sweet Blood of Jesus\\xa0', 'Sex, Lies, and Videotape\\xa0', 'Saw\\xa0', 'Super Troopers\\xa0', 'The Algerian\\xa0', 'The Amazing Catfish\\xa0', 'The Day the Earth Stood Still\\xa0', 'Monsoon Wedding\\xa0', 'You Can Count on Me\\xa0', 'The Trouble with Harry\\xa0', 'Lucky Number Slevin\\xa0', \"But I'm a Cheerleader\\xa0\", 'Home Run\\xa0', 'Reservoir Dogs\\xa0', 'The Blue Bird\\xa0', 'The Good, the Bad and the Ugly\\xa0', 'The Second Mother\\xa0', 'Blue Like Jazz\\xa0', 'Down and Out with the Dolls\\xa0', 'Pink Ribbons, Inc.\\xa0', 'Certifiably Jonathan\\xa0', 'Q\\xa0', 'The Knife of Don Juan\\xa0', 'Grand Theft Parsons\\xa0', 'Extreme Movie\\xa0', 'The Charge of the Light Brigade\\xa0', 'Below Zero\\xa0', 'Crowsnest\\xa0', 'Airborne\\xa0', 'Cotton Comes to Harlem\\xa0', 'The Wicked Within\\xa0', 'Bleeding Hearts\\xa0', 'Waiting...\\xa0', \"Dead Man's Shoes\\xa0\", 'Wolf Creek\\xa0            ', 'From a Whisper to a Scream\\xa0', 'Sex with Strangers\\xa0', \"Dracula: Pages from a Virgin's Diary\\xa0\", 'Faith Like Potatoes\\xa0', 'Beyond the Black Rainbow\\xa0', 'The Raid: Redemption\\xa0', 'The Dead Undead\\xa0', 'The Vatican Exorcisms\\xa0', 'Casablanca\\xa0', 'Lake Mungo\\xa0', 'Rocket Singh: Salesman of the Year\\xa0', 'Silent Running\\xa0', 'Rocky\\xa0', 'The Sleepwalker\\xa0', 'The Fog\\xa0', 'Tom Jones\\xa0', 'Unfriended\\xa0', 'Taxi Driver\\xa0', 'The Howling\\xa0', 'Dr. No\\xa0', 'Chernobyl Diaries\\xa0', 'Hellraiser\\xa0', \"God's Not Dead 2\\xa0\", 'Cry_Wolf\\xa0', 'Godzilla 2000\\xa0', 'Blue Valentine\\xa0', 'Transamerica\\xa0', 'The Devil Inside\\xa0', 'Beyond the Valley of the Dolls\\xa0', 'Love Me Tender\\xa0', 'An Inconvenient Truth\\xa0', 'Sands of Iwo Jima\\xa0', 'Shine a Light\\xa0', 'The Green Inferno\\xa0', 'Departure\\xa0', 'The Sessions\\xa0', 'Food, Inc.\\xa0', 'October Baby\\xa0', 'Next Stop Wonderland\\xa0', 'Juno\\xa0', 'The Skeleton Twins\\xa0', 'Martha Marcy May Marlene\\xa0', 'Obvious Child\\xa0', 'Frozen River\\xa0', '20 Feet from Stardom\\xa0', 'Two Girls and a Guy\\xa0', 'Walking and Talking\\xa0', 'The Full Monty\\xa0', 'Who Killed the Electric Car?\\xa0', 'The Broken Hearts Club: A Romantic Comedy\\xa0', 'Bubba Ho-Tep\\xa0', 'Goosebumps\\xa0', 'Slam\\xa0', 'Brigham City\\xa0', 'Fiza\\xa0', 'History of the World: Part I\\xa0', 'Orgazmo\\xa0', 'All the Real Girls\\xa0', 'Dream with the Fishes\\xa0', 'Blue Car\\xa0', 'Luminarias\\xa0', 'Palo Alto\\xa0', 'Ajami\\xa0', 'Wristcutters: A Love Story\\xa0', 'I Origins\\xa0', 'The Battle of Shaker Heights\\xa0', 'The Lovely Bones\\xa0', 'The Act of Killing\\xa0', 'Taxi to the Dark Side\\xa0', 'Once in a Lifetime: The Extraordinary Story of the New York Cosmos\\xa0', 'Guiana 1838\\xa0', 'Lisa Picard Is Famous\\xa0', 'Antarctica: A Year on Ice\\xa0', 'A Lego Brickumentary\\xa0', 'Hardflip\\xa0', 'Chocolate: Deep Dark Secrets\\xa0', 'The House of the Devil\\xa0', 'The Perfect Host\\xa0', 'Safe Men\\xa0', 'Speedway Junky\\xa0', 'The Last Big Thing\\xa0', 'The Specials\\xa0', '16 to Life\\xa0', 'Alone with Her\\xa0', 'Creative Control\\xa0', 'Special\\xa0', 'Sparkler\\xa0', 'The Helix... Loaded\\xa0', 'In Her Line of Fire\\xa0', 'The Jimmy Show\\xa0', 'Heli\\xa0', 'Karachi se Lahore\\xa0', 'Loving Annabelle\\xa0', 'Hits\\xa0', 'Jimmy and Judy\\xa0', 'Frat Party\\xa0', \"The Party's Over\\xa0\", 'Proud\\xa0', 'The Poker House\\xa0', 'Childless\\xa0', 'ZMD: Zombies of Mass Destruction\\xa0', 'Snow White: A Deadly Summer\\xa0', 'Hidden Away\\xa0', 'My Last Day Without You\\xa0', 'Steppin: The Movie\\xa0', \"Doc Holliday's Revenge\\xa0\", 'Black Rock\\xa0', 'Truth or Die\\xa0', 'The Pet\\xa0', 'Bang Bang Baby\\xa0', 'Fear Clinic\\xa0', 'Zombie Hunter\\xa0', 'A Fine Step\\xa0', 'Trance\\xa0', 'Charly\\xa0', 'Banshee Chapter\\xa0', 'Jesse\\xa0            ', 'Ask Me Anything\\xa0', 'And Then Came Love\\xa0', 'Food Chains\\xa0', 'On the Waterfront\\xa0', 'L!fe Happens\\xa0', '4 Months, 3 Weeks and 2 Days\\xa0', 'The Horror Network Vol. 1\\xa0', 'Hard Candy\\xa0', 'The Quiet\\xa0', 'Circumstance\\xa0', 'Fruitvale Station\\xa0', 'The Brass Teapot\\xa0', 'Bambi\\xa0', 'The Hammer\\xa0', 'Snitch\\xa0', 'Latter Days\\xa0', 'Elza\\xa0', '1982\\xa0', 'For a Good Time, Call...\\xa0', 'Celeste & Jesse Forever\\xa0', 'Time Changer\\xa0', 'London to Brighton\\xa0', 'American Hero\\xa0', 'Windsor Drive\\xa0', 'A Separation\\xa0', 'Crying with Laughter\\xa0', 'Welcome to the Dollhouse\\xa0', 'Ruby in Paradise\\xa0', 'Raising Victor Vargas\\xa0', \"Pandora's Box\\xa0\", 'Harrison Montgomery\\xa0', 'Live-In Maid\\xa0', 'Deterrence\\xa0', 'The Mudge Boy\\xa0', 'The Young Unknowns\\xa0', 'Not Cool\\xa0', 'Dead Snow\\xa0', 'Saints and Soldiers\\xa0', 'Vessel\\xa0', 'American Graffiti\\xa0', 'Iraq for Sale: The War Profiteers\\xa0', 'Aqua Teen Hunger Force Colon Movie Film for Theaters\\xa0', 'Safety Not Guaranteed\\xa0', 'Kevin Hart: Laugh at My Pain\\xa0', 'Kill List\\xa0', 'The Innkeepers\\xa0', 'The Unborn\\xa0', 'The Conformist\\xa0', 'Interview with the Assassin\\xa0', 'Donkey Punch\\xa0', 'All the Boys Love Mandy Lane\\xa0', 'Bled\\xa0', 'High Noon\\xa0', 'Hoop Dreams\\xa0', 'Rize\\xa0', 'Destiny\\xa0', 'L.I.E.\\xa0', 'The Sisterhood of Night\\xa0', 'B-Girl\\xa0', 'King Kong\\xa0', 'House of Wax\\xa0', 'Half Nelson\\xa0', 'Naturally Native\\xa0', 'Hav Plenty\\xa0', 'Adulterers\\xa0', 'Escape from Tomorrow\\xa0', 'Starsuckers\\xa0', 'The Hadza: Last of the First\\xa0', 'After\\xa0', 'Treachery\\xa0', 'Walter\\xa0', 'Top Hat\\xa0', 'The Blair Witch Project\\xa0', 'Woodstock\\xa0', 'The Kentucky Fried Movie\\xa0', 'Mercy Streets\\xa0', 'Arnolds Park\\xa0', 'Broken Vessels\\xa0', 'Water & Power\\xa0', 'They Will Have to Kill Us First\\xa0', 'Crop Circles: Quest for Truth\\xa0', 'Light from the Darkroom\\xa0', 'Irreplaceable\\xa0', \"The Maid's Room\\xa0\", \"A Hard Day's Night\\xa0\", 'The Harvest/La Cosecha\\xa0', 'Love Letters\\xa0', 'Julija in alfa Romeo\\xa0', 'Fireproof\\xa0', 'Faith Connections\\xa0', 'Benji\\xa0', 'Open Water\\xa0', 'High Road\\xa0', 'Kingdom of the Spiders\\xa0', 'Mad Hot Ballroom\\xa0', 'The Station Agent\\xa0', 'To Save a Life\\xa0', 'Wordplay\\xa0', 'Beyond the Mat\\xa0', 'The Singles Ward\\xa0', 'Osama\\xa0', 'Sholem Aleichem: Laughing in the Darkness\\xa0', 'Groove\\xa0', 'The R.M.\\xa0', 'Twin Falls Idaho\\xa0', 'Mean Creek\\xa0', 'Hurricane Streets\\xa0', 'Never Again\\xa0', 'Civil Brand\\xa0', 'Lonesome Jim\\xa0', 'Drinking Buddies\\xa0', 'Deceptive Practice: The Mysteries and Mentors of Ricky Jay\\xa0', 'Seven Samurai\\xa0', 'The Other Dream Team\\xa0', 'Johnny Suede\\xa0', 'Finishing the Game: The Search for a New Bruce Lee\\xa0', 'Rubber\\xa0', 'Home\\xa0', 'Kiss the Bride\\xa0', 'The Slaughter Rule\\xa0', 'Monsters\\xa0', 'The Californians\\xa0', 'The Living Wake\\xa0', 'Detention of the Dead\\xa0', 'Crazy Stone\\xa0', 'Scott Walker: 30 Century Man\\xa0', 'Everything Put Together\\xa0', 'Good Kill\\xa0', 'Insomnia Manica\\xa0', 'The Outrageous Sophie Tucker\\xa0', 'Now Is Good\\xa0', 'Girls Gone Dead\\xa0', 'America Is Still the Place\\xa0', 'Subconscious\\xa0', 'Crossroads\\xa0', 'Enter Nowhere\\xa0', 'The King of Najayo\\xa0', 'Fight to the Finish\\xa0', \"Alleluia! The Devil's Carnival\\xa0\", 'The Sound and the Shadow\\xa0', 'Rodeo Girl\\xa0', 'Born to Fly: Elizabeth Streb vs. Gravity\\xa0', 'The Little Ponderosa Zoo\\xa0', 'Oz the Great and Powerful\\xa0', 'The Toxic Avenger\\xa0', 'Straight Out of Brooklyn\\xa0', 'Bloody Sunday\\xa0', 'Diamond Ruff\\xa0', 'Conversations with Other Women\\xa0', 'Poultrygeist: Night of the Chicken Dead\\xa0', 'Mutual Friends\\xa0', '42nd Street\\xa0', 'Rise of the Entrepreneur: The Search for a Better Way\\xa0', 'Metropolitan\\xa0', 'As It Is in Heaven\\xa0', 'Roadside\\xa0', 'Napoleon Dynamite\\xa0', 'Blue Ruin\\xa0', 'Paranormal Activity\\xa0', 'Dogtown and Z-Boys\\xa0', 'Monty Python and the Holy Grail\\xa0', 'Quinceañera\\xa0', 'Gory Gory Hallelujah\\xa0', 'Heroes\\xa0            ', 'Tarnation\\xa0', 'I Want Your Money\\xa0', 'Love in the Time of Monsters\\xa0', 'The Beyond\\xa0', 'Home Movies\\xa0            ', 'What Happens in Vegas\\xa0', 'The Dark Hours\\xa0', 'My Beautiful Laundrette\\xa0', 'Fabled\\xa0', 'Show Me\\xa0', 'Cries & Whispers\\xa0', \"Intolerance: Love's Struggle Throughout the Ages\\xa0\", 'Trekkies\\xa0', 'The Broadway Melody\\xa0', 'The Evil Dead\\xa0', 'Maniac\\xa0', 'Censored Voices\\xa0', 'Murderball\\xa0', 'American Ninja 2: The Confrontation\\xa0', '51 Birch Street\\xa0', 'Revolution\\xa0            ', 'Rotor DR1\\xa0', 'Halloween\\xa0', '12 Angry Men\\xa0', 'My Dog Tulip\\xa0', 'It Happened One Night\\xa0', 'Dogtooth\\xa0', 'Tupac: Resurrection\\xa0', 'Tumbleweeds\\xa0', 'The Prophecy\\xa0', \"When the Cat's Away\\xa0\", 'Pieces of April\\xa0', 'The Big Swap\\xa0', 'Old Joy\\xa0', 'Wendy and Lucy\\xa0', '3 Backyards\\xa0', 'Pierrot le Fou\\xa0', 'Sisters in Law\\xa0', 'Ayurveda: Art of Being\\xa0', 'Nothing But a Man\\xa0', 'First Love, Last Rites\\xa0', 'Fighting Tommy Riley\\xa0', 'Royal Kill\\xa0', 'Across the Universe\\xa0', 'The Looking Glass\\xa0', 'Death Race 2000\\xa0', 'Locker 13\\xa0', 'Midnight Cabaret\\xa0', \"Anderson's Cross\\xa0\", 'Bizarre\\xa0', 'Graduation Day\\xa0', 'Some Guy Who Kills People\\xa0', 'Compliance\\xa0', 'Chasing Amy\\xa0', 'Lovely & Amazing\\xa0', 'Death Calls\\xa0', 'Better Luck Tomorrow\\xa0', 'The Incredibly True Adventure of Two Girls in Love\\xa0', 'Chuck & Buck\\xa0', 'American Desi\\xa0', \"Amidst the Devil's Wings\\xa0\", 'Cube\\xa0', 'Love and Other Catastrophes\\xa0', 'I Married a Strange Person!\\xa0', 'November\\xa0', 'Like Crazy\\xa0', 'Teeth and Blood\\xa0', 'Sugar Town\\xa0', 'The Motel\\xa0', 'The Canyons\\xa0', 'Happy Valley\\xa0            ', 'On the Outs\\xa0', 'Shotgun Stories\\xa0', 'Exam\\xa0', 'The Sticky Fingers of Time\\xa0', 'Sunday School Musical\\xa0', 'Rust\\xa0', 'Ink\\xa0', 'The Christmas Bunny\\xa0', 'Jesus People\\xa0', 'Butterfly\\xa0', 'UnDivided\\xa0', 'The Frozen\\xa0', 'The Love Letter\\xa0', 'Horse Camp\\xa0', 'Give Me Shelter\\xa0', 'The Big Parade\\xa0', 'Little Big Top\\xa0', 'Along the Roadside\\xa0', 'Bronson\\xa0', 'Western Religion\\xa0', 'Burn\\xa0', 'Urbania\\xa0', 'The Stewardesses\\xa0', 'The Beast from 20,000 Fathoms\\xa0', '20,000 Leagues Under the Sea\\xa0', 'Mad Max\\xa0', 'Swingers\\xa0', 'A Fistful of Dollars\\xa0', 'She Done Him Wrong\\xa0', 'Short Cut to Nirvana: Kumbh Mela\\xa0', 'The Grace Card\\xa0', 'Middle of Nowhere\\xa0', '3\\xa0', 'The Business of Fancydancing\\xa0', 'Call + Response\\xa0', 'Side Effects\\xa0', 'Malevolence\\xa0', 'Shooting the Warwicks\\xa0', 'Super Hybrid\\xa0', 'Baghead\\xa0', 'Solitude\\xa0', 'The Case of the Grinning Cat\\xa0', 'Ordet\\xa0', 'Good Dick\\xa0', 'The Man from Earth\\xa0', 'The Trials of Darryl Hunt\\xa0', 'An American Girl Holiday\\xa0', 'Yesterday Was a Lie\\xa0', 'Theresa Is a Mother\\xa0', 'H.\\xa0', 'Archaeology of a Woman\\xa0', 'Children of Heaven\\xa0', 'Weekend\\xa0', \"She's Gotta Have It\\xa0\", 'Butterfly Girl\\xa0', 'The World Is Mine\\xa0', 'Another Earth\\xa0', 'The Calling\\xa0', \"Sweet Sweetback's Baadasssss Song\\xa0\", 'Perfect Cowboy\\xa0', 'Tadpole\\xa0', 'Once\\xa0', 'The Woman Chaser\\xa0', 'The Horse Boy\\xa0', 'When the Lights Went Out\\xa0', 'Heroes of Dirt\\xa0', 'The Texas Chain Saw Massacre\\xa0', 'A Charlie Brown Christmas\\xa0', 'Antarctic Edge: 70° South\\xa0', 'Aroused\\xa0', 'Top Spin\\xa0', 'Roger & Me\\xa0', 'Cat People\\xa0', 'An American in Hollywood\\xa0', 'Sound of My Voice\\xa0', 'The Brain That Sings\\xa0', 'The Blood of My Brother\\xa0', \"Your Sister's Sister\\xa0\", 'Romantic Schemer\\xa0', \"A Dog's Breakfast\\xa0\", \"A Dog's Breakfast\\xa0\", 'Night of the Living Dead\\xa0', 'Une Femme Mariée\\xa0', 'The Birth of a Nation\\xa0', 'The Work and the Story\\xa0', 'Facing the Giants\\xa0', 'The Gallows\\xa0', 'Eraserhead\\xa0', 'Over the Hill to the Poorhouse\\xa0', 'Hollywood Shuffle\\xa0', 'The Mighty\\xa0', 'Penitentiary\\xa0', 'The Lost Skeleton of Cadavra\\xa0', \"Dude, Where's My Dog?!\\xa0\", 'Cheap Thrills\\xa0', 'Indie Game: The Movie\\xa0', 'Closure\\xa0', 'Open Secret\\xa0', 'Echo Dr.\\xa0', 'The Night Visitor\\xa0', 'The Past is a Grotesque Animal\\xa0', 'The Last House on the Left\\xa0', 'Peace, Propaganda & the Promised Land\\xa0', 'Pi\\xa0', \"I Love You, Don't Touch Me!\\xa0\", '20 Dates\\xa0', 'Queen Crab\\xa0', 'Super Size Me\\xa0', 'The FP\\xa0', 'Happy Christmas\\xa0', \"The Brain That Wouldn't Die\\xa0\", 'Tiger Orange\\xa0', 'Supporting Characters\\xa0', 'Absentia\\xa0', 'The Brothers McMullen\\xa0', 'The Dirties\\xa0', 'Gabriela\\xa0', 'Tiny Furniture\\xa0', 'Hayride\\xa0', 'The Naked Ape\\xa0', 'Counting\\xa0', 'The Call of Cthulhu\\xa0', 'Bending Steel\\xa0', 'The Signal\\xa0', 'The Image Revolution\\xa0', 'This Is Martin Bonner\\xa0', 'A True Story\\xa0', 'George Washington\\xa0', 'Smiling Fish & Goat on Fire\\xa0', 'Dawn of the Crescent Moon\\xa0', 'Raymond Did It\\xa0', 'The Last Waltz\\xa0', 'Run, Hide, Die\\xa0', 'The Exploding Girl\\xa0', \"The Legend of God's Gun\\xa0\", 'Mutual Appreciation\\xa0', 'Her Cry: La Llorona Investigation\\xa0', 'Down Terrace\\xa0', 'Clerks\\xa0', 'Pink Narcissus\\xa0', 'Funny Ha Ha\\xa0', 'In the Company of Men\\xa0', 'Sabotage\\xa0', 'Manito\\xa0', 'Rampage\\xa0', 'Slacker\\xa0', 'Dutch Kills\\xa0', 'Dry Spell\\xa0', 'Flywheel\\xa0', 'Exeter\\xa0', 'The Ridges\\xa0', 'The Puffy Chair\\xa0', 'Stories of Our Lives\\xa0', 'Breaking Upwards\\xa0', 'All Superheroes Must Die\\xa0', 'Pink Flamingos\\xa0', 'Clean\\xa0', 'The Circle\\xa0', 'Tin Can Man\\xa0', 'The Cure\\xa0', 'On the Downlow\\xa0', 'Sanctuary; Quite a Conundrum\\xa0', 'Bang\\xa0', 'Primer\\xa0', 'Cavite\\xa0', 'El Mariachi\\xa0', 'The Mongol King\\xa0', 'Newlyweds\\xa0', 'Signed Sealed Delivered\\xa0', 'The Following\\xa0            ', 'A Plague So Pleasant\\xa0', 'Shanghai Calling\\xa0', 'My Date with Drew\\xa0']\n"
     ]
    }
   ],
   "source": [
    "freq_title={}\n",
    "titles=list(df.get('movie_title'))\n",
    "print(titles)"
   ]
  },
  {
   "cell_type": "code",
   "execution_count": 81,
   "metadata": {},
   "outputs": [
    {
     "name": "stdout",
     "output_type": "stream",
     "text": [
      "{7: 276, 41: 34, 8: 452, 22: 276, 55: 6, 12: 660, 13: 612, 24: 170, 39: 26, 35: 60, 17: 478, 18: 438, 43: 16, 16: 528, 44: 18, 15: 568, 42: 28, 23: 218, 11: 656, 36: 42, 19: 426, 10: 588, 27: 138, 20: 352, 32: 86, 26: 148, 25: 164, 14: 548, 21: 276, 31: 94, 51: 10, 6: 278, 5: 182, 63: 2, 3: 16, 9: 534, 38: 48, 28: 102, 29: 130, 34: 62, 57: 2, 47: 8, 4: 70, 37: 36, 48: 8, 46: 14, 40: 28, 45: 8, 49: 8, 50: 6, 30: 72, 33: 42, 2: 10, 59: 4, 60: 2, 56: 2, 84: 2, 54: 4, 87: 2, 53: 4, 72: 2, 69: 2, 80: 2, 67: 2}\n"
     ]
    }
   ],
   "source": [
    "for t in titles:\n",
    "    length=len(t)\n",
    "    \n",
    "    if freq_title.get(length) is None: #get is used to find value for a key\n",
    "        freq_title[length]=1\n",
    "        \n",
    "    else:\n",
    "        freq_title[length]+=1\n",
    "\n",
    "print(freq_title)"
   ]
  },
  {
   "cell_type": "code",
   "execution_count": 84,
   "metadata": {},
   "outputs": [
    {
     "data": {
      "text/plain": [
       "<matplotlib.collections.PathCollection at 0x4be7470>"
      ]
     },
     "execution_count": 84,
     "metadata": {},
     "output_type": "execute_result"
    },
    {
     "data": {
      "image/png": "[encoded data removed]",
      "text/plain": [
       "<Figure size 432x288 with 1 Axes>"
      ]
     },
     "metadata": {
      "needs_background": "light"
     },
     "output_type": "display_data"
    }
   ],
   "source": [
    "X=list(freq_title.keys()) #or numpy array\n",
    "Y=list(freq_title.values())\n",
    "plt.scatter(X,Y)"
   ]
  },
  {
   "cell_type": "code",
   "execution_count": null,
   "metadata": {},
   "outputs": [],
   "source": []
  }
 ],
 "metadata": {
  "kernelspec": {
   "display_name": "Python 3",
   "language": "python",
   "name": "python3"
  },
  "language_info": {
   "codemirror_mode": {
    "name": "ipython",
    "version": 3
   },
   "file_extension": ".py",
   "mimetype": "text/x-python",
   "name": "python",
   "nbconvert_exporter": "python",
   "pygments_lexer": "ipython3",
   "version": "3.7.4"
  }
 },
 "nbformat": 4,
 "nbformat_minor": 2
}
